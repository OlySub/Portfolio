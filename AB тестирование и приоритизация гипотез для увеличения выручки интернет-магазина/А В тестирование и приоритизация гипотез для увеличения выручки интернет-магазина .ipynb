{
 "cells": [
  {
   "cell_type": "markdown",
   "metadata": {},
   "source": [
    "### А/В тестирование и приоритизация гипотез для увеличения выручки интернет-магазина "
   ]
  },
  {
   "cell_type": "markdown",
   "metadata": {},
   "source": [
    "**Часть 1. Приоритизация гипотез.**  \n",
    "В файле /datasets/hypothesis.csv 9 гипотез по увеличению выручки интернет-магазина с указанными параметрами Reach, Impact, Confidence, Effort.  \n",
    "\n",
    "*Задача:*  \n",
    "- Применить фреймворк ICE для приоритизации гипотез. Отсортировать их по убыванию приоритета.\n",
    "- Применить фреймворк RICE для приоритизации гипотез. Отсортировать их по убыванию приоритета.\n",
    "- Определить, как изменилась приоритизация гипотез при применении RICE вместо ICE. \n",
    "\n",
    "**Часть 2. Анализ A/B-теста.**  \n",
    "Проведен A/B-тест и получены результаты, которые описаны в файлах /datasets/orders.csv и /datasets/visitors.csv.\n",
    "\n",
    "*Задача:*  \n",
    "Проанализировать A/B-тест:  \n",
    "- Построить график кумулятивной выручки по группам. \n",
    "- Построить график кумулятивного среднего чека по группам. \n",
    "- Построить график относительного изменения кумулятивного среднего чека группы B к группе A. \n",
    "- Построить график кумулятивного среднего количества заказов на посетителя по группам. \n",
    "- Построить график относительного изменения кумулятивного среднего количества заказов на посетителя группы B к группе A. \n",
    "- Построить точечный график количества заказов по пользователям. \n",
    "- Посчитать 95-й и 99-й перцентили количества заказов на пользователя. Выбрать границу для определения аномальных пользователей.\n",
    "- Построить точечный график стоимостей заказов. \n",
    "- Посчитать 95-й и 99-й перцентили стоимости заказов. Выбрать границу для определения аномальных заказов.\n",
    "- Посчитать статистическую значимость различий в среднем количестве заказов на посетителя между группами по «сырым» данным. \n",
    "- Посчитать статистическую значимость различий в среднем чеке заказа между группами по «сырым» данным. \n",
    "- Посчитать статистическую значимость различий в среднем количестве заказов на посетителя между группами по «очищенным» данным. \n",
    "- Посчитать статистическую значимость различий в среднем чеке заказа между группами по «очищенным» данным. \n",
    "\n",
    "**Принять решение по результатам теста и объясните его. Варианты решений:**  \n",
    "1. Остановить тест, зафиксировать победу одной из групп.\n",
    "2. Остановить тест, зафиксировать отсутствие различий между группами.\n",
    "3. Продолжить тест."
   ]
  },
  {
   "cell_type": "markdown",
   "metadata": {},
   "source": [
    "**Описание данных**  \n",
    "<u>Файл /datasets/hypothesis.csv:</u>  \n",
    "Hypothesis — краткое описание гипотезы;  \n",
    "Reach — охват пользователей по 10-балльной шкале;  \n",
    "Impact — влияние на пользователей по 10-балльной шкале;  \n",
    "Confidence — уверенность в гипотезе по 10-балльной шкале;  \n",
    "Efforts — затраты ресурсов на проверку гипотезы по 10-балльной шкале. Чем больше значение Efforts, тем дороже проверка гипотезы.  \n",
    "\n",
    "<u>Файл /datasets/orders.csv:</u>  \n",
    "transactionId — идентификатор заказа;  \n",
    "visitorId — идентификатор пользователя, совершившего заказ;  \n",
    "date — дата, когда был совершён заказ;  \n",
    "revenue — выручка заказа;  \n",
    "group — группа A/B-теста, в которую попал заказ.  \n",
    "\n",
    "<u>Файл /datasets/visitors.csv:</u>  \n",
    "date — дата;  \n",
    "group — группа A/B-теста;  \n",
    "visitors — количество пользователей в указанную дату в указанной группе A/B-теста."
   ]
  },
  {
   "cell_type": "code",
   "execution_count": 1,
   "metadata": {},
   "outputs": [],
   "source": [
    "import pandas as pd\n",
    "import matplotlib.pyplot as plt\n",
    "import seaborn as sns\n",
    "import scipy.stats as stats\n",
    "from scipy import stats as st\n",
    "import math\n",
    "import numpy as np"
   ]
  },
  {
   "cell_type": "markdown",
   "metadata": {},
   "source": [
    "## Часть 1. Приоритизация гипотез."
   ]
  },
  {
   "cell_type": "code",
   "execution_count": 2,
   "metadata": {},
   "outputs": [],
   "source": [
    "hypothesis = pd.read_csv('hypothesis.csv')"
   ]
  },
  {
   "cell_type": "code",
   "execution_count": 3,
   "metadata": {},
   "outputs": [
    {
     "data": {
      "text/html": [
       "<div>\n",
       "<style scoped>\n",
       "    .dataframe tbody tr th:only-of-type {\n",
       "        vertical-align: middle;\n",
       "    }\n",
       "\n",
       "    .dataframe tbody tr th {\n",
       "        vertical-align: top;\n",
       "    }\n",
       "\n",
       "    .dataframe thead th {\n",
       "        text-align: right;\n",
       "    }\n",
       "</style>\n",
       "<table border=\"1\" class=\"dataframe\">\n",
       "  <thead>\n",
       "    <tr style=\"text-align: right;\">\n",
       "      <th></th>\n",
       "      <th>Hypothesis</th>\n",
       "      <th>Reach</th>\n",
       "      <th>Impact</th>\n",
       "      <th>Confidence</th>\n",
       "      <th>Efforts</th>\n",
       "    </tr>\n",
       "  </thead>\n",
       "  <tbody>\n",
       "    <tr>\n",
       "      <th>0</th>\n",
       "      <td>Добавить два новых канала привлечения трафика,...</td>\n",
       "      <td>3</td>\n",
       "      <td>10</td>\n",
       "      <td>8</td>\n",
       "      <td>6</td>\n",
       "    </tr>\n",
       "    <tr>\n",
       "      <th>1</th>\n",
       "      <td>Запустить собственную службу доставки, что сок...</td>\n",
       "      <td>2</td>\n",
       "      <td>5</td>\n",
       "      <td>4</td>\n",
       "      <td>10</td>\n",
       "    </tr>\n",
       "    <tr>\n",
       "      <th>2</th>\n",
       "      <td>Добавить блоки рекомендаций товаров на сайт ин...</td>\n",
       "      <td>8</td>\n",
       "      <td>3</td>\n",
       "      <td>7</td>\n",
       "      <td>3</td>\n",
       "    </tr>\n",
       "    <tr>\n",
       "      <th>3</th>\n",
       "      <td>Изменить структура категорий, что увеличит кон...</td>\n",
       "      <td>8</td>\n",
       "      <td>3</td>\n",
       "      <td>3</td>\n",
       "      <td>8</td>\n",
       "    </tr>\n",
       "    <tr>\n",
       "      <th>4</th>\n",
       "      <td>Изменить цвет фона главной страницы, чтобы уве...</td>\n",
       "      <td>3</td>\n",
       "      <td>1</td>\n",
       "      <td>1</td>\n",
       "      <td>1</td>\n",
       "    </tr>\n",
       "    <tr>\n",
       "      <th>5</th>\n",
       "      <td>Добавить страницу отзывов клиентов о магазине,...</td>\n",
       "      <td>3</td>\n",
       "      <td>2</td>\n",
       "      <td>2</td>\n",
       "      <td>3</td>\n",
       "    </tr>\n",
       "    <tr>\n",
       "      <th>6</th>\n",
       "      <td>Показать на главной странице баннеры с актуаль...</td>\n",
       "      <td>5</td>\n",
       "      <td>3</td>\n",
       "      <td>8</td>\n",
       "      <td>3</td>\n",
       "    </tr>\n",
       "    <tr>\n",
       "      <th>7</th>\n",
       "      <td>Добавить форму подписки на все основные страни...</td>\n",
       "      <td>10</td>\n",
       "      <td>7</td>\n",
       "      <td>8</td>\n",
       "      <td>5</td>\n",
       "    </tr>\n",
       "    <tr>\n",
       "      <th>8</th>\n",
       "      <td>Запустить акцию, дающую скидку на товар в день...</td>\n",
       "      <td>1</td>\n",
       "      <td>9</td>\n",
       "      <td>9</td>\n",
       "      <td>5</td>\n",
       "    </tr>\n",
       "  </tbody>\n",
       "</table>\n",
       "</div>"
      ],
      "text/plain": [
       "                                          Hypothesis  Reach  Impact  \\\n",
       "0  Добавить два новых канала привлечения трафика,...      3      10   \n",
       "1  Запустить собственную службу доставки, что сок...      2       5   \n",
       "2  Добавить блоки рекомендаций товаров на сайт ин...      8       3   \n",
       "3  Изменить структура категорий, что увеличит кон...      8       3   \n",
       "4  Изменить цвет фона главной страницы, чтобы уве...      3       1   \n",
       "5  Добавить страницу отзывов клиентов о магазине,...      3       2   \n",
       "6  Показать на главной странице баннеры с актуаль...      5       3   \n",
       "7  Добавить форму подписки на все основные страни...     10       7   \n",
       "8  Запустить акцию, дающую скидку на товар в день...      1       9   \n",
       "\n",
       "   Confidence  Efforts  \n",
       "0           8        6  \n",
       "1           4       10  \n",
       "2           7        3  \n",
       "3           3        8  \n",
       "4           1        1  \n",
       "5           2        3  \n",
       "6           8        3  \n",
       "7           8        5  \n",
       "8           9        5  "
      ]
     },
     "execution_count": 3,
     "metadata": {},
     "output_type": "execute_result"
    }
   ],
   "source": [
    "hypothesis"
   ]
  },
  {
   "cell_type": "markdown",
   "metadata": {},
   "source": [
    "### Применим фреймворк ICE для приоритизации гипотез. Отсортируем их по убыванию приоритета."
   ]
  },
  {
   "cell_type": "code",
   "execution_count": 4,
   "metadata": {},
   "outputs": [
    {
     "data": {
      "text/html": [
       "<div>\n",
       "<style scoped>\n",
       "    .dataframe tbody tr th:only-of-type {\n",
       "        vertical-align: middle;\n",
       "    }\n",
       "\n",
       "    .dataframe tbody tr th {\n",
       "        vertical-align: top;\n",
       "    }\n",
       "\n",
       "    .dataframe thead th {\n",
       "        text-align: right;\n",
       "    }\n",
       "</style>\n",
       "<table border=\"1\" class=\"dataframe\">\n",
       "  <thead>\n",
       "    <tr style=\"text-align: right;\">\n",
       "      <th></th>\n",
       "      <th>Hypothesis</th>\n",
       "      <th>ICE</th>\n",
       "    </tr>\n",
       "  </thead>\n",
       "  <tbody>\n",
       "    <tr>\n",
       "      <th>8</th>\n",
       "      <td>Запустить акцию, дающую скидку на товар в день...</td>\n",
       "      <td>16.2</td>\n",
       "    </tr>\n",
       "    <tr>\n",
       "      <th>0</th>\n",
       "      <td>Добавить два новых канала привлечения трафика,...</td>\n",
       "      <td>13.3</td>\n",
       "    </tr>\n",
       "    <tr>\n",
       "      <th>7</th>\n",
       "      <td>Добавить форму подписки на все основные страни...</td>\n",
       "      <td>11.2</td>\n",
       "    </tr>\n",
       "    <tr>\n",
       "      <th>6</th>\n",
       "      <td>Показать на главной странице баннеры с актуаль...</td>\n",
       "      <td>8.0</td>\n",
       "    </tr>\n",
       "    <tr>\n",
       "      <th>2</th>\n",
       "      <td>Добавить блоки рекомендаций товаров на сайт ин...</td>\n",
       "      <td>7.0</td>\n",
       "    </tr>\n",
       "    <tr>\n",
       "      <th>1</th>\n",
       "      <td>Запустить собственную службу доставки, что сок...</td>\n",
       "      <td>2.0</td>\n",
       "    </tr>\n",
       "    <tr>\n",
       "      <th>5</th>\n",
       "      <td>Добавить страницу отзывов клиентов о магазине,...</td>\n",
       "      <td>1.3</td>\n",
       "    </tr>\n",
       "    <tr>\n",
       "      <th>3</th>\n",
       "      <td>Изменить структура категорий, что увеличит кон...</td>\n",
       "      <td>1.1</td>\n",
       "    </tr>\n",
       "    <tr>\n",
       "      <th>4</th>\n",
       "      <td>Изменить цвет фона главной страницы, чтобы уве...</td>\n",
       "      <td>1.0</td>\n",
       "    </tr>\n",
       "  </tbody>\n",
       "</table>\n",
       "</div>"
      ],
      "text/plain": [
       "                                          Hypothesis   ICE\n",
       "8  Запустить акцию, дающую скидку на товар в день...  16.2\n",
       "0  Добавить два новых канала привлечения трафика,...  13.3\n",
       "7  Добавить форму подписки на все основные страни...  11.2\n",
       "6  Показать на главной странице баннеры с актуаль...   8.0\n",
       "2  Добавить блоки рекомендаций товаров на сайт ин...   7.0\n",
       "1  Запустить собственную службу доставки, что сок...   2.0\n",
       "5  Добавить страницу отзывов клиентов о магазине,...   1.3\n",
       "3  Изменить структура категорий, что увеличит кон...   1.1\n",
       "4  Изменить цвет фона главной страницы, чтобы уве...   1.0"
      ]
     },
     "execution_count": 4,
     "metadata": {},
     "output_type": "execute_result"
    }
   ],
   "source": [
    "hypothesis['ICE'] = round((hypothesis['Impact'] * hypothesis['Confidence']) / hypothesis['Efforts'], 1)\n",
    "hypothesis[['Hypothesis', 'ICE']].sort_values(by='ICE', ascending=False)"
   ]
  },
  {
   "cell_type": "markdown",
   "metadata": {},
   "source": [
    "### Применим фреймворк RICE для приоритизации гипотез. Отсортируем их по убыванию приоритета."
   ]
  },
  {
   "cell_type": "code",
   "execution_count": 5,
   "metadata": {},
   "outputs": [
    {
     "data": {
      "text/html": [
       "<div>\n",
       "<style scoped>\n",
       "    .dataframe tbody tr th:only-of-type {\n",
       "        vertical-align: middle;\n",
       "    }\n",
       "\n",
       "    .dataframe tbody tr th {\n",
       "        vertical-align: top;\n",
       "    }\n",
       "\n",
       "    .dataframe thead th {\n",
       "        text-align: right;\n",
       "    }\n",
       "</style>\n",
       "<table border=\"1\" class=\"dataframe\">\n",
       "  <thead>\n",
       "    <tr style=\"text-align: right;\">\n",
       "      <th></th>\n",
       "      <th>Hypothesis</th>\n",
       "      <th>RICE</th>\n",
       "    </tr>\n",
       "  </thead>\n",
       "  <tbody>\n",
       "    <tr>\n",
       "      <th>7</th>\n",
       "      <td>Добавить форму подписки на все основные страни...</td>\n",
       "      <td>112.0</td>\n",
       "    </tr>\n",
       "    <tr>\n",
       "      <th>2</th>\n",
       "      <td>Добавить блоки рекомендаций товаров на сайт ин...</td>\n",
       "      <td>56.0</td>\n",
       "    </tr>\n",
       "    <tr>\n",
       "      <th>0</th>\n",
       "      <td>Добавить два новых канала привлечения трафика,...</td>\n",
       "      <td>40.0</td>\n",
       "    </tr>\n",
       "    <tr>\n",
       "      <th>6</th>\n",
       "      <td>Показать на главной странице баннеры с актуаль...</td>\n",
       "      <td>40.0</td>\n",
       "    </tr>\n",
       "    <tr>\n",
       "      <th>8</th>\n",
       "      <td>Запустить акцию, дающую скидку на товар в день...</td>\n",
       "      <td>16.2</td>\n",
       "    </tr>\n",
       "    <tr>\n",
       "      <th>3</th>\n",
       "      <td>Изменить структура категорий, что увеличит кон...</td>\n",
       "      <td>9.0</td>\n",
       "    </tr>\n",
       "    <tr>\n",
       "      <th>1</th>\n",
       "      <td>Запустить собственную службу доставки, что сок...</td>\n",
       "      <td>4.0</td>\n",
       "    </tr>\n",
       "    <tr>\n",
       "      <th>5</th>\n",
       "      <td>Добавить страницу отзывов клиентов о магазине,...</td>\n",
       "      <td>4.0</td>\n",
       "    </tr>\n",
       "    <tr>\n",
       "      <th>4</th>\n",
       "      <td>Изменить цвет фона главной страницы, чтобы уве...</td>\n",
       "      <td>3.0</td>\n",
       "    </tr>\n",
       "  </tbody>\n",
       "</table>\n",
       "</div>"
      ],
      "text/plain": [
       "                                          Hypothesis   RICE\n",
       "7  Добавить форму подписки на все основные страни...  112.0\n",
       "2  Добавить блоки рекомендаций товаров на сайт ин...   56.0\n",
       "0  Добавить два новых канала привлечения трафика,...   40.0\n",
       "6  Показать на главной странице баннеры с актуаль...   40.0\n",
       "8  Запустить акцию, дающую скидку на товар в день...   16.2\n",
       "3  Изменить структура категорий, что увеличит кон...    9.0\n",
       "1  Запустить собственную службу доставки, что сок...    4.0\n",
       "5  Добавить страницу отзывов клиентов о магазине,...    4.0\n",
       "4  Изменить цвет фона главной страницы, чтобы уве...    3.0"
      ]
     },
     "execution_count": 5,
     "metadata": {},
     "output_type": "execute_result"
    }
   ],
   "source": [
    "hypothesis['RICE'] = (hypothesis['Reach']*hypothesis['Impact']*hypothesis['Confidence']) / hypothesis['Efforts']\n",
    "hypothesis[['Hypothesis', 'RICE']].sort_values(by='RICE', ascending=False)"
   ]
  },
  {
   "cell_type": "markdown",
   "metadata": {},
   "source": [
    "### Укажем, как изменилась приоритизация гипотез при применении RICE вместо ICE. Объясним,почему так произошло."
   ]
  },
  {
   "cell_type": "markdown",
   "metadata": {},
   "source": [
    "После применения фреймворка RICE приоритизация гипотез изменилась:  \n",
    "- Лидирующая по ICE гипотеза номер 8 перешла на пятую позицию, на смену ей встала гипотеза номер 7, которая ранее занимала третье место\n",
    "- Также в рейтинге приоритизации поднялась гипотеза под номером 2 (с пятого на второе место)\n",
    "- Нулевая гипотеза спустилась со второй позиции на третье\n",
    "- Гипотеза 6 осталась без изменений, четвертое место - самая стабильная в топ-5  \n",
    "\n",
    "Фреймворк RICE изменил приоритизацию гипотез из-за наличия значения Reach, которая имеет наибольшее значение у гипотезы номер 7, которая и заняла лидирующее положение."
   ]
  },
  {
   "cell_type": "markdown",
   "metadata": {},
   "source": [
    "## Часть 2. Анализ A/B-теста."
   ]
  },
  {
   "cell_type": "markdown",
   "metadata": {},
   "source": [
    "### Подготовим данные для аналиха и проверим их чистоту"
   ]
  },
  {
   "cell_type": "code",
   "execution_count": 7,
   "metadata": {},
   "outputs": [
    {
     "data": {
      "text/html": [
       "<div>\n",
       "<style scoped>\n",
       "    .dataframe tbody tr th:only-of-type {\n",
       "        vertical-align: middle;\n",
       "    }\n",
       "\n",
       "    .dataframe tbody tr th {\n",
       "        vertical-align: top;\n",
       "    }\n",
       "\n",
       "    .dataframe thead th {\n",
       "        text-align: right;\n",
       "    }\n",
       "</style>\n",
       "<table border=\"1\" class=\"dataframe\">\n",
       "  <thead>\n",
       "    <tr style=\"text-align: right;\">\n",
       "      <th></th>\n",
       "      <th>date</th>\n",
       "      <th>group</th>\n",
       "      <th>visitors</th>\n",
       "    </tr>\n",
       "  </thead>\n",
       "  <tbody>\n",
       "    <tr>\n",
       "      <th>0</th>\n",
       "      <td>2019-08-01</td>\n",
       "      <td>A</td>\n",
       "      <td>719</td>\n",
       "    </tr>\n",
       "    <tr>\n",
       "      <th>1</th>\n",
       "      <td>2019-08-02</td>\n",
       "      <td>A</td>\n",
       "      <td>619</td>\n",
       "    </tr>\n",
       "    <tr>\n",
       "      <th>2</th>\n",
       "      <td>2019-08-03</td>\n",
       "      <td>A</td>\n",
       "      <td>507</td>\n",
       "    </tr>\n",
       "    <tr>\n",
       "      <th>3</th>\n",
       "      <td>2019-08-04</td>\n",
       "      <td>A</td>\n",
       "      <td>717</td>\n",
       "    </tr>\n",
       "    <tr>\n",
       "      <th>4</th>\n",
       "      <td>2019-08-05</td>\n",
       "      <td>A</td>\n",
       "      <td>756</td>\n",
       "    </tr>\n",
       "    <tr>\n",
       "      <th>...</th>\n",
       "      <td>...</td>\n",
       "      <td>...</td>\n",
       "      <td>...</td>\n",
       "    </tr>\n",
       "    <tr>\n",
       "      <th>57</th>\n",
       "      <td>2019-08-27</td>\n",
       "      <td>B</td>\n",
       "      <td>720</td>\n",
       "    </tr>\n",
       "    <tr>\n",
       "      <th>58</th>\n",
       "      <td>2019-08-28</td>\n",
       "      <td>B</td>\n",
       "      <td>654</td>\n",
       "    </tr>\n",
       "    <tr>\n",
       "      <th>59</th>\n",
       "      <td>2019-08-29</td>\n",
       "      <td>B</td>\n",
       "      <td>531</td>\n",
       "    </tr>\n",
       "    <tr>\n",
       "      <th>60</th>\n",
       "      <td>2019-08-30</td>\n",
       "      <td>B</td>\n",
       "      <td>490</td>\n",
       "    </tr>\n",
       "    <tr>\n",
       "      <th>61</th>\n",
       "      <td>2019-08-31</td>\n",
       "      <td>B</td>\n",
       "      <td>718</td>\n",
       "    </tr>\n",
       "  </tbody>\n",
       "</table>\n",
       "<p>62 rows × 3 columns</p>\n",
       "</div>"
      ],
      "text/plain": [
       "          date group  visitors\n",
       "0   2019-08-01     A       719\n",
       "1   2019-08-02     A       619\n",
       "2   2019-08-03     A       507\n",
       "3   2019-08-04     A       717\n",
       "4   2019-08-05     A       756\n",
       "..         ...   ...       ...\n",
       "57  2019-08-27     B       720\n",
       "58  2019-08-28     B       654\n",
       "59  2019-08-29     B       531\n",
       "60  2019-08-30     B       490\n",
       "61  2019-08-31     B       718\n",
       "\n",
       "[62 rows x 3 columns]"
      ]
     },
     "metadata": {},
     "output_type": "display_data"
    },
    {
     "name": "stdout",
     "output_type": "stream",
     "text": [
      "<class 'pandas.core.frame.DataFrame'>\n",
      "RangeIndex: 62 entries, 0 to 61\n",
      "Data columns (total 3 columns):\n",
      " #   Column    Non-Null Count  Dtype \n",
      "---  ------    --------------  ----- \n",
      " 0   date      62 non-null     object\n",
      " 1   group     62 non-null     object\n",
      " 2   visitors  62 non-null     int64 \n",
      "dtypes: int64(1), object(2)\n",
      "memory usage: 1.6+ KB\n"
     ]
    },
    {
     "data": {
      "text/plain": [
       "None"
      ]
     },
     "metadata": {},
     "output_type": "display_data"
    }
   ],
   "source": [
    "visitors = pd.read_csv('visitors.csv')\n",
    "display(visitors)\n",
    "display(visitors.info())"
   ]
  },
  {
   "cell_type": "code",
   "execution_count": 8,
   "metadata": {},
   "outputs": [],
   "source": [
    "# переформатируем дату\n",
    "visitors['date'] = pd.to_datetime(visitors['date'])"
   ]
  },
  {
   "cell_type": "code",
   "execution_count": 10,
   "metadata": {
    "scrolled": false
   },
   "outputs": [
    {
     "data": {
      "text/html": [
       "<div>\n",
       "<style scoped>\n",
       "    .dataframe tbody tr th:only-of-type {\n",
       "        vertical-align: middle;\n",
       "    }\n",
       "\n",
       "    .dataframe tbody tr th {\n",
       "        vertical-align: top;\n",
       "    }\n",
       "\n",
       "    .dataframe thead th {\n",
       "        text-align: right;\n",
       "    }\n",
       "</style>\n",
       "<table border=\"1\" class=\"dataframe\">\n",
       "  <thead>\n",
       "    <tr style=\"text-align: right;\">\n",
       "      <th></th>\n",
       "      <th>transactionId</th>\n",
       "      <th>visitorId</th>\n",
       "      <th>date</th>\n",
       "      <th>revenue</th>\n",
       "      <th>group</th>\n",
       "    </tr>\n",
       "  </thead>\n",
       "  <tbody>\n",
       "    <tr>\n",
       "      <th>0</th>\n",
       "      <td>3667963787</td>\n",
       "      <td>3312258926</td>\n",
       "      <td>2019-08-15</td>\n",
       "      <td>1650</td>\n",
       "      <td>B</td>\n",
       "    </tr>\n",
       "    <tr>\n",
       "      <th>1</th>\n",
       "      <td>2804400009</td>\n",
       "      <td>3642806036</td>\n",
       "      <td>2019-08-15</td>\n",
       "      <td>730</td>\n",
       "      <td>B</td>\n",
       "    </tr>\n",
       "    <tr>\n",
       "      <th>2</th>\n",
       "      <td>2961555356</td>\n",
       "      <td>4069496402</td>\n",
       "      <td>2019-08-15</td>\n",
       "      <td>400</td>\n",
       "      <td>A</td>\n",
       "    </tr>\n",
       "    <tr>\n",
       "      <th>3</th>\n",
       "      <td>3797467345</td>\n",
       "      <td>1196621759</td>\n",
       "      <td>2019-08-15</td>\n",
       "      <td>9759</td>\n",
       "      <td>B</td>\n",
       "    </tr>\n",
       "    <tr>\n",
       "      <th>4</th>\n",
       "      <td>2282983706</td>\n",
       "      <td>2322279887</td>\n",
       "      <td>2019-08-15</td>\n",
       "      <td>2308</td>\n",
       "      <td>B</td>\n",
       "    </tr>\n",
       "    <tr>\n",
       "      <th>...</th>\n",
       "      <td>...</td>\n",
       "      <td>...</td>\n",
       "      <td>...</td>\n",
       "      <td>...</td>\n",
       "      <td>...</td>\n",
       "    </tr>\n",
       "    <tr>\n",
       "      <th>1192</th>\n",
       "      <td>2662137336</td>\n",
       "      <td>3733762160</td>\n",
       "      <td>2019-08-14</td>\n",
       "      <td>6490</td>\n",
       "      <td>B</td>\n",
       "    </tr>\n",
       "    <tr>\n",
       "      <th>1193</th>\n",
       "      <td>2203539145</td>\n",
       "      <td>370388673</td>\n",
       "      <td>2019-08-14</td>\n",
       "      <td>3190</td>\n",
       "      <td>A</td>\n",
       "    </tr>\n",
       "    <tr>\n",
       "      <th>1194</th>\n",
       "      <td>1807773912</td>\n",
       "      <td>573423106</td>\n",
       "      <td>2019-08-14</td>\n",
       "      <td>10550</td>\n",
       "      <td>A</td>\n",
       "    </tr>\n",
       "    <tr>\n",
       "      <th>1195</th>\n",
       "      <td>1947021204</td>\n",
       "      <td>1614305549</td>\n",
       "      <td>2019-08-14</td>\n",
       "      <td>100</td>\n",
       "      <td>A</td>\n",
       "    </tr>\n",
       "    <tr>\n",
       "      <th>1196</th>\n",
       "      <td>3936777065</td>\n",
       "      <td>2108080724</td>\n",
       "      <td>2019-08-15</td>\n",
       "      <td>202740</td>\n",
       "      <td>B</td>\n",
       "    </tr>\n",
       "  </tbody>\n",
       "</table>\n",
       "<p>1197 rows × 5 columns</p>\n",
       "</div>"
      ],
      "text/plain": [
       "      transactionId   visitorId        date  revenue group\n",
       "0        3667963787  3312258926  2019-08-15     1650     B\n",
       "1        2804400009  3642806036  2019-08-15      730     B\n",
       "2        2961555356  4069496402  2019-08-15      400     A\n",
       "3        3797467345  1196621759  2019-08-15     9759     B\n",
       "4        2282983706  2322279887  2019-08-15     2308     B\n",
       "...             ...         ...         ...      ...   ...\n",
       "1192     2662137336  3733762160  2019-08-14     6490     B\n",
       "1193     2203539145   370388673  2019-08-14     3190     A\n",
       "1194     1807773912   573423106  2019-08-14    10550     A\n",
       "1195     1947021204  1614305549  2019-08-14      100     A\n",
       "1196     3936777065  2108080724  2019-08-15   202740     B\n",
       "\n",
       "[1197 rows x 5 columns]"
      ]
     },
     "metadata": {},
     "output_type": "display_data"
    },
    {
     "name": "stdout",
     "output_type": "stream",
     "text": [
      "<class 'pandas.core.frame.DataFrame'>\n",
      "RangeIndex: 1197 entries, 0 to 1196\n",
      "Data columns (total 5 columns):\n",
      " #   Column         Non-Null Count  Dtype \n",
      "---  ------         --------------  ----- \n",
      " 0   transactionId  1197 non-null   int64 \n",
      " 1   visitorId      1197 non-null   int64 \n",
      " 2   date           1197 non-null   object\n",
      " 3   revenue        1197 non-null   int64 \n",
      " 4   group          1197 non-null   object\n",
      "dtypes: int64(3), object(2)\n",
      "memory usage: 46.9+ KB\n"
     ]
    },
    {
     "data": {
      "text/plain": [
       "None"
      ]
     },
     "metadata": {},
     "output_type": "display_data"
    }
   ],
   "source": [
    "orders=pd.read_csv('orders.csv')\n",
    "display(orders)\n",
    "display(orders.info())"
   ]
  },
  {
   "cell_type": "code",
   "execution_count": 11,
   "metadata": {},
   "outputs": [],
   "source": [
    "# приведем названия двух столбцов к змеиному регистру и переформатируем дату\n",
    "orders.rename(columns={'transactionId':'transaction_id', 'visitorId':'visitor_id'}, inplace=True)\n",
    "orders['date'] = pd.to_datetime(orders['date'])"
   ]
  },
  {
   "cell_type": "code",
   "execution_count": 12,
   "metadata": {},
   "outputs": [],
   "source": [
    "# проверим не попал ли один и тот же посетитель в две группы одновременно в таблице orders\n",
    "goroup_orders_a = orders[orders['group'] == 'A']\n",
    "goroup_orders_b = orders[orders['group'] == 'B']"
   ]
  },
  {
   "cell_type": "code",
   "execution_count": 13,
   "metadata": {},
   "outputs": [
    {
     "data": {
      "text/plain": [
       "58"
      ]
     },
     "execution_count": 13,
     "metadata": {},
     "output_type": "execute_result"
    }
   ],
   "source": [
    "visitorid_A = set(goroup_orders_a['visitor_id'].unique())\n",
    "visitorid_B = set(goroup_orders_b['visitor_id'].unique())\n",
    "visitorid_A_and_B = (visitorid_A & visitorid_B)\n",
    "len(visitorid_A_and_B)"
   ]
  },
  {
   "cell_type": "markdown",
   "metadata": {},
   "source": [
    "58 посетителей попали в две группы одновременно. Выражаем благодарность специалисту, который проводил АВ тест и удаляем этих 58 страдальцев из тестирования, чтобы не портить исход нашего анализа недостоверными данными."
   ]
  },
  {
   "cell_type": "code",
   "execution_count": 14,
   "metadata": {},
   "outputs": [
    {
     "data": {
      "text/html": [
       "<div>\n",
       "<style scoped>\n",
       "    .dataframe tbody tr th:only-of-type {\n",
       "        vertical-align: middle;\n",
       "    }\n",
       "\n",
       "    .dataframe tbody tr th {\n",
       "        vertical-align: top;\n",
       "    }\n",
       "\n",
       "    .dataframe thead th {\n",
       "        text-align: right;\n",
       "    }\n",
       "</style>\n",
       "<table border=\"1\" class=\"dataframe\">\n",
       "  <thead>\n",
       "    <tr style=\"text-align: right;\">\n",
       "      <th></th>\n",
       "      <th>index</th>\n",
       "      <th>transaction_id</th>\n",
       "      <th>visitor_id</th>\n",
       "      <th>date</th>\n",
       "      <th>revenue</th>\n",
       "      <th>group</th>\n",
       "    </tr>\n",
       "  </thead>\n",
       "  <tbody>\n",
       "    <tr>\n",
       "      <th>0</th>\n",
       "      <td>0</td>\n",
       "      <td>3667963787</td>\n",
       "      <td>3312258926</td>\n",
       "      <td>2019-08-15</td>\n",
       "      <td>1650</td>\n",
       "      <td>B</td>\n",
       "    </tr>\n",
       "    <tr>\n",
       "      <th>1</th>\n",
       "      <td>1</td>\n",
       "      <td>2804400009</td>\n",
       "      <td>3642806036</td>\n",
       "      <td>2019-08-15</td>\n",
       "      <td>730</td>\n",
       "      <td>B</td>\n",
       "    </tr>\n",
       "    <tr>\n",
       "      <th>2</th>\n",
       "      <td>3</td>\n",
       "      <td>3797467345</td>\n",
       "      <td>1196621759</td>\n",
       "      <td>2019-08-15</td>\n",
       "      <td>9759</td>\n",
       "      <td>B</td>\n",
       "    </tr>\n",
       "    <tr>\n",
       "      <th>3</th>\n",
       "      <td>4</td>\n",
       "      <td>2282983706</td>\n",
       "      <td>2322279887</td>\n",
       "      <td>2019-08-15</td>\n",
       "      <td>2308</td>\n",
       "      <td>B</td>\n",
       "    </tr>\n",
       "    <tr>\n",
       "      <th>4</th>\n",
       "      <td>5</td>\n",
       "      <td>182168103</td>\n",
       "      <td>935554773</td>\n",
       "      <td>2019-08-15</td>\n",
       "      <td>2210</td>\n",
       "      <td>B</td>\n",
       "    </tr>\n",
       "    <tr>\n",
       "      <th>...</th>\n",
       "      <td>...</td>\n",
       "      <td>...</td>\n",
       "      <td>...</td>\n",
       "      <td>...</td>\n",
       "      <td>...</td>\n",
       "      <td>...</td>\n",
       "    </tr>\n",
       "    <tr>\n",
       "      <th>1011</th>\n",
       "      <td>1191</td>\n",
       "      <td>3592955527</td>\n",
       "      <td>608641596</td>\n",
       "      <td>2019-08-14</td>\n",
       "      <td>16490</td>\n",
       "      <td>B</td>\n",
       "    </tr>\n",
       "    <tr>\n",
       "      <th>1012</th>\n",
       "      <td>1192</td>\n",
       "      <td>2662137336</td>\n",
       "      <td>3733762160</td>\n",
       "      <td>2019-08-14</td>\n",
       "      <td>6490</td>\n",
       "      <td>B</td>\n",
       "    </tr>\n",
       "    <tr>\n",
       "      <th>1013</th>\n",
       "      <td>1193</td>\n",
       "      <td>2203539145</td>\n",
       "      <td>370388673</td>\n",
       "      <td>2019-08-14</td>\n",
       "      <td>3190</td>\n",
       "      <td>A</td>\n",
       "    </tr>\n",
       "    <tr>\n",
       "      <th>1014</th>\n",
       "      <td>1194</td>\n",
       "      <td>1807773912</td>\n",
       "      <td>573423106</td>\n",
       "      <td>2019-08-14</td>\n",
       "      <td>10550</td>\n",
       "      <td>A</td>\n",
       "    </tr>\n",
       "    <tr>\n",
       "      <th>1015</th>\n",
       "      <td>1196</td>\n",
       "      <td>3936777065</td>\n",
       "      <td>2108080724</td>\n",
       "      <td>2019-08-15</td>\n",
       "      <td>202740</td>\n",
       "      <td>B</td>\n",
       "    </tr>\n",
       "  </tbody>\n",
       "</table>\n",
       "<p>1016 rows × 6 columns</p>\n",
       "</div>"
      ],
      "text/plain": [
       "      index  transaction_id  visitor_id       date  revenue group\n",
       "0         0      3667963787  3312258926 2019-08-15     1650     B\n",
       "1         1      2804400009  3642806036 2019-08-15      730     B\n",
       "2         3      3797467345  1196621759 2019-08-15     9759     B\n",
       "3         4      2282983706  2322279887 2019-08-15     2308     B\n",
       "4         5       182168103   935554773 2019-08-15     2210     B\n",
       "...     ...             ...         ...        ...      ...   ...\n",
       "1011   1191      3592955527   608641596 2019-08-14    16490     B\n",
       "1012   1192      2662137336  3733762160 2019-08-14     6490     B\n",
       "1013   1193      2203539145   370388673 2019-08-14     3190     A\n",
       "1014   1194      1807773912   573423106 2019-08-14    10550     A\n",
       "1015   1196      3936777065  2108080724 2019-08-15   202740     B\n",
       "\n",
       "[1016 rows x 6 columns]"
      ]
     },
     "execution_count": 14,
     "metadata": {},
     "output_type": "execute_result"
    }
   ],
   "source": [
    "#проверяем удаление пользователей одновременно попавших в группу А и группу В\n",
    "orders = orders[np.logical_not(orders['visitor_id'].isin(visitorid_A_and_B))].reset_index()\n",
    "orders"
   ]
  },
  {
   "cell_type": "code",
   "execution_count": 15,
   "metadata": {},
   "outputs": [
    {
     "data": {
      "text/html": [
       "<div>\n",
       "<style scoped>\n",
       "    .dataframe tbody tr th:only-of-type {\n",
       "        vertical-align: middle;\n",
       "    }\n",
       "\n",
       "    .dataframe tbody tr th {\n",
       "        vertical-align: top;\n",
       "    }\n",
       "\n",
       "    .dataframe thead th {\n",
       "        text-align: right;\n",
       "    }\n",
       "</style>\n",
       "<table border=\"1\" class=\"dataframe\">\n",
       "  <thead>\n",
       "    <tr style=\"text-align: right;\">\n",
       "      <th></th>\n",
       "      <th>date</th>\n",
       "      <th>group</th>\n",
       "      <th>transaction_id</th>\n",
       "      <th>visitor_id</th>\n",
       "      <th>revenue</th>\n",
       "    </tr>\n",
       "  </thead>\n",
       "  <tbody>\n",
       "    <tr>\n",
       "      <th>0</th>\n",
       "      <td>2019-08-01</td>\n",
       "      <td>A</td>\n",
       "      <td>23</td>\n",
       "      <td>19</td>\n",
       "      <td>142779</td>\n",
       "    </tr>\n",
       "    <tr>\n",
       "      <th>1</th>\n",
       "      <td>2019-08-01</td>\n",
       "      <td>B</td>\n",
       "      <td>17</td>\n",
       "      <td>17</td>\n",
       "      <td>59758</td>\n",
       "    </tr>\n",
       "    <tr>\n",
       "      <th>2</th>\n",
       "      <td>2019-08-02</td>\n",
       "      <td>A</td>\n",
       "      <td>42</td>\n",
       "      <td>37</td>\n",
       "      <td>234381</td>\n",
       "    </tr>\n",
       "    <tr>\n",
       "      <th>3</th>\n",
       "      <td>2019-08-02</td>\n",
       "      <td>B</td>\n",
       "      <td>40</td>\n",
       "      <td>39</td>\n",
       "      <td>221801</td>\n",
       "    </tr>\n",
       "    <tr>\n",
       "      <th>4</th>\n",
       "      <td>2019-08-03</td>\n",
       "      <td>A</td>\n",
       "      <td>66</td>\n",
       "      <td>61</td>\n",
       "      <td>346854</td>\n",
       "    </tr>\n",
       "    <tr>\n",
       "      <th>...</th>\n",
       "      <td>...</td>\n",
       "      <td>...</td>\n",
       "      <td>...</td>\n",
       "      <td>...</td>\n",
       "      <td>...</td>\n",
       "    </tr>\n",
       "    <tr>\n",
       "      <th>57</th>\n",
       "      <td>2019-08-29</td>\n",
       "      <td>B</td>\n",
       "      <td>510</td>\n",
       "      <td>506</td>\n",
       "      <td>4746610</td>\n",
       "    </tr>\n",
       "    <tr>\n",
       "      <th>58</th>\n",
       "      <td>2019-08-30</td>\n",
       "      <td>A</td>\n",
       "      <td>460</td>\n",
       "      <td>449</td>\n",
       "      <td>3311413</td>\n",
       "    </tr>\n",
       "    <tr>\n",
       "      <th>59</th>\n",
       "      <td>2019-08-30</td>\n",
       "      <td>B</td>\n",
       "      <td>531</td>\n",
       "      <td>527</td>\n",
       "      <td>4955833</td>\n",
       "    </tr>\n",
       "    <tr>\n",
       "      <th>60</th>\n",
       "      <td>2019-08-31</td>\n",
       "      <td>A</td>\n",
       "      <td>468</td>\n",
       "      <td>457</td>\n",
       "      <td>3364656</td>\n",
       "    </tr>\n",
       "    <tr>\n",
       "      <th>61</th>\n",
       "      <td>2019-08-31</td>\n",
       "      <td>B</td>\n",
       "      <td>548</td>\n",
       "      <td>544</td>\n",
       "      <td>5068972</td>\n",
       "    </tr>\n",
       "  </tbody>\n",
       "</table>\n",
       "<p>62 rows × 5 columns</p>\n",
       "</div>"
      ],
      "text/plain": [
       "         date group  transaction_id  visitor_id  revenue\n",
       "0  2019-08-01     A              23          19   142779\n",
       "1  2019-08-01     B              17          17    59758\n",
       "2  2019-08-02     A              42          37   234381\n",
       "3  2019-08-02     B              40          39   221801\n",
       "4  2019-08-03     A              66          61   346854\n",
       "..        ...   ...             ...         ...      ...\n",
       "57 2019-08-29     B             510         506  4746610\n",
       "58 2019-08-30     A             460         449  3311413\n",
       "59 2019-08-30     B             531         527  4955833\n",
       "60 2019-08-31     A             468         457  3364656\n",
       "61 2019-08-31     B             548         544  5068972\n",
       "\n",
       "[62 rows x 5 columns]"
      ]
     },
     "execution_count": 15,
     "metadata": {},
     "output_type": "execute_result"
    }
   ],
   "source": [
    "# группируем транзакции и посетителей, подсчитываем сумму выручки на каждую группу каждой даты\n",
    "orders_grouped = (orders.groupby(['date','group'], as_index=False)\n",
    "                        .agg({'transaction_id':'nunique','visitor_id':'nunique','revenue':'sum'}))\n",
    "orders_grouped['group_copy'] = orders_grouped['group']\n",
    "orders_grouped = orders_grouped.set_index(['date','group'])\n",
    "orders_cumsum = orders_grouped.sort_values(['date','group']).groupby('group_copy').cumsum().reset_index()\n",
    "orders_cumsum"
   ]
  },
  {
   "cell_type": "code",
   "execution_count": 16,
   "metadata": {},
   "outputs": [
    {
     "data": {
      "text/html": [
       "<div>\n",
       "<style scoped>\n",
       "    .dataframe tbody tr th:only-of-type {\n",
       "        vertical-align: middle;\n",
       "    }\n",
       "\n",
       "    .dataframe tbody tr th {\n",
       "        vertical-align: top;\n",
       "    }\n",
       "\n",
       "    .dataframe thead th {\n",
       "        text-align: right;\n",
       "    }\n",
       "</style>\n",
       "<table border=\"1\" class=\"dataframe\">\n",
       "  <thead>\n",
       "    <tr style=\"text-align: right;\">\n",
       "      <th></th>\n",
       "      <th>date</th>\n",
       "      <th>group</th>\n",
       "      <th>visitors</th>\n",
       "    </tr>\n",
       "  </thead>\n",
       "  <tbody>\n",
       "    <tr>\n",
       "      <th>0</th>\n",
       "      <td>2019-08-01</td>\n",
       "      <td>A</td>\n",
       "      <td>719</td>\n",
       "    </tr>\n",
       "    <tr>\n",
       "      <th>1</th>\n",
       "      <td>2019-08-01</td>\n",
       "      <td>B</td>\n",
       "      <td>713</td>\n",
       "    </tr>\n",
       "    <tr>\n",
       "      <th>2</th>\n",
       "      <td>2019-08-02</td>\n",
       "      <td>A</td>\n",
       "      <td>1338</td>\n",
       "    </tr>\n",
       "    <tr>\n",
       "      <th>3</th>\n",
       "      <td>2019-08-02</td>\n",
       "      <td>B</td>\n",
       "      <td>1294</td>\n",
       "    </tr>\n",
       "    <tr>\n",
       "      <th>4</th>\n",
       "      <td>2019-08-03</td>\n",
       "      <td>A</td>\n",
       "      <td>1845</td>\n",
       "    </tr>\n",
       "    <tr>\n",
       "      <th>...</th>\n",
       "      <td>...</td>\n",
       "      <td>...</td>\n",
       "      <td>...</td>\n",
       "    </tr>\n",
       "    <tr>\n",
       "      <th>57</th>\n",
       "      <td>2019-08-29</td>\n",
       "      <td>B</td>\n",
       "      <td>17708</td>\n",
       "    </tr>\n",
       "    <tr>\n",
       "      <th>58</th>\n",
       "      <td>2019-08-30</td>\n",
       "      <td>A</td>\n",
       "      <td>18037</td>\n",
       "    </tr>\n",
       "    <tr>\n",
       "      <th>59</th>\n",
       "      <td>2019-08-30</td>\n",
       "      <td>B</td>\n",
       "      <td>18198</td>\n",
       "    </tr>\n",
       "    <tr>\n",
       "      <th>60</th>\n",
       "      <td>2019-08-31</td>\n",
       "      <td>A</td>\n",
       "      <td>18736</td>\n",
       "    </tr>\n",
       "    <tr>\n",
       "      <th>61</th>\n",
       "      <td>2019-08-31</td>\n",
       "      <td>B</td>\n",
       "      <td>18916</td>\n",
       "    </tr>\n",
       "  </tbody>\n",
       "</table>\n",
       "<p>62 rows × 3 columns</p>\n",
       "</div>"
      ],
      "text/plain": [
       "         date group  visitors\n",
       "0  2019-08-01     A       719\n",
       "1  2019-08-01     B       713\n",
       "2  2019-08-02     A      1338\n",
       "3  2019-08-02     B      1294\n",
       "4  2019-08-03     A      1845\n",
       "..        ...   ...       ...\n",
       "57 2019-08-29     B     17708\n",
       "58 2019-08-30     A     18037\n",
       "59 2019-08-30     B     18198\n",
       "60 2019-08-31     A     18736\n",
       "61 2019-08-31     B     18916\n",
       "\n",
       "[62 rows x 3 columns]"
      ]
     },
     "execution_count": 16,
     "metadata": {},
     "output_type": "execute_result"
    }
   ],
   "source": [
    "# считаем сумму визитов в каждой группе по дням\n",
    "visitors_cumsum = visitors.groupby(['date','group'], as_index=False).agg({'visitors':'sum'}).sort_values(['date','group'])\n",
    "# копируем group чтобы провести по ней кумулятивную сумму\n",
    "visitors_cumsum['group_copy'] = visitors_cumsum['group']\n",
    "visitors_cumsum = visitors_cumsum.set_index(['date','group']).groupby('group_copy').cumsum().reset_index()\n",
    "visitors_cumsum"
   ]
  },
  {
   "cell_type": "code",
   "execution_count": 17,
   "metadata": {},
   "outputs": [
    {
     "data": {
      "text/html": [
       "<div>\n",
       "<style scoped>\n",
       "    .dataframe tbody tr th:only-of-type {\n",
       "        vertical-align: middle;\n",
       "    }\n",
       "\n",
       "    .dataframe tbody tr th {\n",
       "        vertical-align: top;\n",
       "    }\n",
       "\n",
       "    .dataframe thead th {\n",
       "        text-align: right;\n",
       "    }\n",
       "</style>\n",
       "<table border=\"1\" class=\"dataframe\">\n",
       "  <thead>\n",
       "    <tr style=\"text-align: right;\">\n",
       "      <th></th>\n",
       "      <th>date</th>\n",
       "      <th>group</th>\n",
       "      <th>transaction_id</th>\n",
       "      <th>visitor_id</th>\n",
       "      <th>revenue</th>\n",
       "      <th>visitors</th>\n",
       "      <th>average_check</th>\n",
       "      <th>avg_trans</th>\n",
       "    </tr>\n",
       "  </thead>\n",
       "  <tbody>\n",
       "    <tr>\n",
       "      <th>0</th>\n",
       "      <td>2019-08-01</td>\n",
       "      <td>A</td>\n",
       "      <td>23</td>\n",
       "      <td>19</td>\n",
       "      <td>142779</td>\n",
       "      <td>719</td>\n",
       "      <td>6207.782609</td>\n",
       "      <td>0.031989</td>\n",
       "    </tr>\n",
       "    <tr>\n",
       "      <th>1</th>\n",
       "      <td>2019-08-01</td>\n",
       "      <td>B</td>\n",
       "      <td>17</td>\n",
       "      <td>17</td>\n",
       "      <td>59758</td>\n",
       "      <td>713</td>\n",
       "      <td>3515.176471</td>\n",
       "      <td>0.023843</td>\n",
       "    </tr>\n",
       "    <tr>\n",
       "      <th>2</th>\n",
       "      <td>2019-08-02</td>\n",
       "      <td>A</td>\n",
       "      <td>42</td>\n",
       "      <td>37</td>\n",
       "      <td>234381</td>\n",
       "      <td>1338</td>\n",
       "      <td>5580.500000</td>\n",
       "      <td>0.031390</td>\n",
       "    </tr>\n",
       "    <tr>\n",
       "      <th>3</th>\n",
       "      <td>2019-08-02</td>\n",
       "      <td>B</td>\n",
       "      <td>40</td>\n",
       "      <td>39</td>\n",
       "      <td>221801</td>\n",
       "      <td>1294</td>\n",
       "      <td>5545.025000</td>\n",
       "      <td>0.030912</td>\n",
       "    </tr>\n",
       "    <tr>\n",
       "      <th>4</th>\n",
       "      <td>2019-08-03</td>\n",
       "      <td>A</td>\n",
       "      <td>66</td>\n",
       "      <td>61</td>\n",
       "      <td>346854</td>\n",
       "      <td>1845</td>\n",
       "      <td>5255.363636</td>\n",
       "      <td>0.035772</td>\n",
       "    </tr>\n",
       "    <tr>\n",
       "      <th>...</th>\n",
       "      <td>...</td>\n",
       "      <td>...</td>\n",
       "      <td>...</td>\n",
       "      <td>...</td>\n",
       "      <td>...</td>\n",
       "      <td>...</td>\n",
       "      <td>...</td>\n",
       "      <td>...</td>\n",
       "    </tr>\n",
       "    <tr>\n",
       "      <th>57</th>\n",
       "      <td>2019-08-29</td>\n",
       "      <td>B</td>\n",
       "      <td>510</td>\n",
       "      <td>506</td>\n",
       "      <td>4746610</td>\n",
       "      <td>17708</td>\n",
       "      <td>9307.078431</td>\n",
       "      <td>0.028801</td>\n",
       "    </tr>\n",
       "    <tr>\n",
       "      <th>58</th>\n",
       "      <td>2019-08-30</td>\n",
       "      <td>A</td>\n",
       "      <td>460</td>\n",
       "      <td>449</td>\n",
       "      <td>3311413</td>\n",
       "      <td>18037</td>\n",
       "      <td>7198.723913</td>\n",
       "      <td>0.025503</td>\n",
       "    </tr>\n",
       "    <tr>\n",
       "      <th>59</th>\n",
       "      <td>2019-08-30</td>\n",
       "      <td>B</td>\n",
       "      <td>531</td>\n",
       "      <td>527</td>\n",
       "      <td>4955833</td>\n",
       "      <td>18198</td>\n",
       "      <td>9333.018832</td>\n",
       "      <td>0.029179</td>\n",
       "    </tr>\n",
       "    <tr>\n",
       "      <th>60</th>\n",
       "      <td>2019-08-31</td>\n",
       "      <td>A</td>\n",
       "      <td>468</td>\n",
       "      <td>457</td>\n",
       "      <td>3364656</td>\n",
       "      <td>18736</td>\n",
       "      <td>7189.435897</td>\n",
       "      <td>0.024979</td>\n",
       "    </tr>\n",
       "    <tr>\n",
       "      <th>61</th>\n",
       "      <td>2019-08-31</td>\n",
       "      <td>B</td>\n",
       "      <td>548</td>\n",
       "      <td>544</td>\n",
       "      <td>5068972</td>\n",
       "      <td>18916</td>\n",
       "      <td>9249.948905</td>\n",
       "      <td>0.028970</td>\n",
       "    </tr>\n",
       "  </tbody>\n",
       "</table>\n",
       "<p>62 rows × 8 columns</p>\n",
       "</div>"
      ],
      "text/plain": [
       "         date group  transaction_id  visitor_id  revenue  visitors  \\\n",
       "0  2019-08-01     A              23          19   142779       719   \n",
       "1  2019-08-01     B              17          17    59758       713   \n",
       "2  2019-08-02     A              42          37   234381      1338   \n",
       "3  2019-08-02     B              40          39   221801      1294   \n",
       "4  2019-08-03     A              66          61   346854      1845   \n",
       "..        ...   ...             ...         ...      ...       ...   \n",
       "57 2019-08-29     B             510         506  4746610     17708   \n",
       "58 2019-08-30     A             460         449  3311413     18037   \n",
       "59 2019-08-30     B             531         527  4955833     18198   \n",
       "60 2019-08-31     A             468         457  3364656     18736   \n",
       "61 2019-08-31     B             548         544  5068972     18916   \n",
       "\n",
       "    average_check  avg_trans  \n",
       "0     6207.782609   0.031989  \n",
       "1     3515.176471   0.023843  \n",
       "2     5580.500000   0.031390  \n",
       "3     5545.025000   0.030912  \n",
       "4     5255.363636   0.035772  \n",
       "..            ...        ...  \n",
       "57    9307.078431   0.028801  \n",
       "58    7198.723913   0.025503  \n",
       "59    9333.018832   0.029179  \n",
       "60    7189.435897   0.024979  \n",
       "61    9249.948905   0.028970  \n",
       "\n",
       "[62 rows x 8 columns]"
      ]
     },
     "execution_count": 17,
     "metadata": {},
     "output_type": "execute_result"
    }
   ],
   "source": [
    "# посчитаем сразу значения среднего чека и среднее количество заказов на посетителя\n",
    "cummulative = orders_cumsum.join(visitors_cumsum[['visitors']])\n",
    "cummulative['average_check'] = cummulative['revenue'] / cummulative['transaction_id']\n",
    "cummulative['avg_trans'] = cummulative['transaction_id'] / cummulative['visitors']\n",
    "cummulative"
   ]
  },
  {
   "cell_type": "markdown",
   "metadata": {},
   "source": [
    "### Построим график кумулятивной выручки по группам. Сделаем выводы и предположения."
   ]
  },
  {
   "cell_type": "code",
   "execution_count": 18,
   "metadata": {
    "scrolled": false
   },
   "outputs": [
    {
     "data": {
      "image/png": "[encoded data removed]",
      "text/plain": [
       "<Figure size 640x480 with 1 Axes>"
      ]
     },
     "metadata": {},
     "output_type": "display_data"
    }
   ],
   "source": [
    "# датафреймы с кумулятивным количеством выручки по группам\n",
    "cumulativeRevenueA = cummulative[cummulative['group']=='A'][['date', 'revenue']]\n",
    "cumulativeRevenueB = cummulative[cummulative['group']=='B'][['date', 'revenue']]\n",
    "# Строим график выручки группы А\n",
    "plt.plot(cumulativeRevenueA['date'], cumulativeRevenueA['revenue'], label='A')\n",
    "# Строим график выручки группы B\n",
    "plt.plot(cumulativeRevenueB['date'], cumulativeRevenueB['revenue'], label='B')\n",
    "plt.title('График кумулятивной выручки по группам')\n",
    "plt.ylabel('Выручка в миллионах')\n",
    "plt.xticks(rotation=45)\n",
    "plt.legend()\n",
    "plt.grid()\n",
    "plt.show() "
   ]
  },
  {
   "cell_type": "markdown",
   "metadata": {},
   "source": [
    "Группа А имеет постепенный линейный рост без колебаний, а группа В фиксирует резкий скачек 18.08.2019, что может говорить о наличии единоразовой дорогой покупке в интернет-магазине.  "
   ]
  },
  {
   "cell_type": "markdown",
   "metadata": {},
   "source": [
    "### Построим график кумулятивного среднего чека по группам. Сделаем выводы и предположения."
   ]
  },
  {
   "cell_type": "code",
   "execution_count": 19,
   "metadata": {
    "scrolled": false
   },
   "outputs": [
    {
     "data": {
      "image/png": "[encoded data removed]",
      "text/plain": [
       "<Figure size 640x480 with 1 Axes>"
      ]
     },
     "metadata": {},
     "output_type": "display_data"
    }
   ],
   "source": [
    "# датафреймы с кумулятивным количеством среднего чека по группам\n",
    "cumulativeRevenueA = cummulative[cummulative['group']=='A'][['date', 'average_check']]\n",
    "cumulativeRevenueB = cummulative[cummulative['group']=='B'][['date', 'average_check']]\n",
    "# Строим график среднего чека группы А\n",
    "plt.plot(cumulativeRevenueA['date'], cumulativeRevenueA['average_check'], label='A')\n",
    "# Строим график среднего чека группы B\n",
    "plt.plot(cumulativeRevenueB['date'], cumulativeRevenueB['average_check'], label='B')\n",
    "plt.title('График кумулятивного среднего чека по группам')\n",
    "plt.ylabel('Выручка по среднему чеку')\n",
    "plt.xticks(rotation=45)\n",
    "plt.legend()\n",
    "plt.grid()\n",
    "plt.show() "
   ]
  },
  {
   "cell_type": "markdown",
   "metadata": {},
   "source": [
    "По группе В наблюдаем такую же ситуацию со средними чеками, как и с выручкой, 18.08.2019 резких скачок. Группа А плавна в своих изменениях - до 06.08.2019 выручка по среднему чеку снижалась, но потом плавно развернулась и отрасла выше начальной позиции, а 14.08.2019 выровнялась и поддерживает свое положение стабильно вокруг отметки в 7 тысяч рублей."
   ]
  },
  {
   "cell_type": "markdown",
   "metadata": {},
   "source": [
    "### Построим график относительного изменения кумулятивного среднего чека группы B к группе A. Сделаем выводы и предположения."
   ]
  },
  {
   "cell_type": "code",
   "execution_count": 20,
   "metadata": {
    "scrolled": false
   },
   "outputs": [
    {
     "data": {
      "image/png": "[encoded data removed]",
      "text/plain": [
       "<Figure size 640x480 with 1 Axes>"
      ]
     },
     "metadata": {},
     "output_type": "display_data"
    }
   ],
   "source": [
    "cumulativeRevenueA = cummulative[cummulative['group']=='A'][['date', 'average_check', 'transaction_id']]\n",
    "cumulativeRevenueB = cummulative[cummulative['group'] == 'B'][['date', 'average_check', 'transaction_id']]\n",
    "\n",
    "mergedCumulativeRevenue = cumulativeRevenueA.merge(cumulativeRevenueB, left_on='date', right_on='date', how='left', suffixes=['A', 'B'])\n",
    "\n",
    "# cтроим отношение средних чеков\n",
    "plt.plot(mergedCumulativeRevenue['date'], (mergedCumulativeRevenue['average_checkB']/mergedCumulativeRevenue['average_checkA']-1))\n",
    "plt.title('График относительного изменения кумулятивного среднего чека группы B к группе A')\n",
    "# добавляем ось X\n",
    "plt.axhline(y=0, color='red', linestyle='--')\n",
    "plt.xticks(rotation=45)\n",
    "plt.grid()\n",
    "plt.show()"
   ]
  },
  {
   "cell_type": "markdown",
   "metadata": {},
   "source": [
    "Полагаю, что выбросов тут больше, чем мы думали до этого графика, но пока что самым резким и заметным остается 18.08.2019, также интересно будет посмотреть ближе на 05.08.2019."
   ]
  },
  {
   "cell_type": "markdown",
   "metadata": {},
   "source": [
    "### Построим график кумулятивного среднего количества заказов на посетителя по группам. Сделаем выводы и предположения."
   ]
  },
  {
   "cell_type": "code",
   "execution_count": 21,
   "metadata": {
    "scrolled": false
   },
   "outputs": [
    {
     "data": {
      "image/png": "[encoded data removed]",
      "text/plain": [
       "<Figure size 640x480 with 1 Axes>"
      ]
     },
     "metadata": {},
     "output_type": "display_data"
    }
   ],
   "source": [
    "cumulativeRevenueA = cummulative[cummulative['group']=='A']\n",
    "cumulativeRevenueB = cummulative[cummulative['group']=='B']\n",
    "\n",
    "# строим графики\n",
    "plt.plot(cumulativeRevenueA['date'], cumulativeRevenueA['avg_trans'], label='A')\n",
    "plt.plot(cumulativeRevenueB['date'], cumulativeRevenueB['avg_trans'], label='B')\n",
    "plt.legend()\n",
    "plt.title('График кумулятивного среднего количества заказов на посетителя по группам')\n",
    "plt.ylabel('Зачение среднего')\n",
    "plt.xticks(rotation=45)\n",
    "plt.legend()\n",
    "plt.grid()\n",
    "plt.show() "
   ]
  },
  {
   "cell_type": "markdown",
   "metadata": {},
   "source": [
    "Среднее значение количества заказов группы А показывает стремительный рост в первые дни, но на 3 день резко снижается и колеблется на всем протяжении между значениями 0.025 и 0.026.  \n",
    "Среднее значение количества заказов группы В также в первые дни показывает рост, после чего практически ожновременно с группой А падает, но на второй день падения разворачивается и начинает отрастать, после чего колеблется между значениями 0.029 и 0.030.  "
   ]
  },
  {
   "cell_type": "markdown",
   "metadata": {},
   "source": [
    "### Построим график относительного изменения кумулятивного среднего количества заказов на посетителя группы B к группе A. Сделаем выводы и предположения."
   ]
  },
  {
   "cell_type": "code",
   "execution_count": 23,
   "metadata": {
    "scrolled": false
   },
   "outputs": [
    {
     "data": {
      "image/png": "[encoded data removed]",
      "text/plain": [
       "<Figure size 640x480 with 1 Axes>"
      ]
     },
     "metadata": {},
     "output_type": "display_data"
    }
   ],
   "source": [
    "cumulativeRevenueA = cummulative[cummulative['group']=='A'][['date', 'avg_trans']]\n",
    "cumulativeRevenueB = cummulative[cummulative['group'] == 'B'][['date', 'avg_trans']]\n",
    "\n",
    "mergedCumulativeRevenue = cumulativeRevenueA.merge(cumulativeRevenueB, left_on='date', right_on='date', how='left', suffixes=['A', 'B'])\n",
    "\n",
    "# cтроим отношение средних чеков\n",
    "plt.plot(mergedCumulativeRevenue['date'], (mergedCumulativeRevenue['avg_transB']/mergedCumulativeRevenue['avg_transA']-1))\n",
    "plt.title('График относительного изменения кумулятивного среднего количества заказов на посетителя группы B к группе A')\n",
    "# добавляем ось X\n",
    "plt.axhline(y=0, color='red', linestyle='--')\n",
    "plt.xticks(rotation=45)\n",
    "plt.grid()\n",
    "plt.show()"
   ]
  },
  {
   "cell_type": "markdown",
   "metadata": {},
   "source": [
    "На основании имеющихся данных значение среднего количества заказов на посетителя группы В выше группы А. Смущает только интервал данных, короткий для глобальных выводов."
   ]
  },
  {
   "cell_type": "markdown",
   "metadata": {},
   "source": [
    "### Построим точечный график количества заказов по пользователям. Сделаем выводы и предположения."
   ]
  },
  {
   "cell_type": "code",
   "execution_count": 24,
   "metadata": {},
   "outputs": [
    {
     "data": {
      "text/html": [
       "<div>\n",
       "<style scoped>\n",
       "    .dataframe tbody tr th:only-of-type {\n",
       "        vertical-align: middle;\n",
       "    }\n",
       "\n",
       "    .dataframe tbody tr th {\n",
       "        vertical-align: top;\n",
       "    }\n",
       "\n",
       "    .dataframe thead th {\n",
       "        text-align: right;\n",
       "    }\n",
       "</style>\n",
       "<table border=\"1\" class=\"dataframe\">\n",
       "  <thead>\n",
       "    <tr style=\"text-align: right;\">\n",
       "      <th></th>\n",
       "      <th>visitor_id</th>\n",
       "      <th>orders</th>\n",
       "    </tr>\n",
       "  </thead>\n",
       "  <tbody>\n",
       "    <tr>\n",
       "      <th>0</th>\n",
       "      <td>5114589</td>\n",
       "      <td>1</td>\n",
       "    </tr>\n",
       "    <tr>\n",
       "      <th>1</th>\n",
       "      <td>6958315</td>\n",
       "      <td>1</td>\n",
       "    </tr>\n",
       "    <tr>\n",
       "      <th>2</th>\n",
       "      <td>11685486</td>\n",
       "      <td>1</td>\n",
       "    </tr>\n",
       "    <tr>\n",
       "      <th>3</th>\n",
       "      <td>39475350</td>\n",
       "      <td>1</td>\n",
       "    </tr>\n",
       "    <tr>\n",
       "      <th>4</th>\n",
       "      <td>47206413</td>\n",
       "      <td>1</td>\n",
       "    </tr>\n",
       "  </tbody>\n",
       "</table>\n",
       "</div>"
      ],
      "text/plain": [
       "   visitor_id  orders\n",
       "0     5114589       1\n",
       "1     6958315       1\n",
       "2    11685486       1\n",
       "3    39475350       1\n",
       "4    47206413       1"
      ]
     },
     "execution_count": 24,
     "metadata": {},
     "output_type": "execute_result"
    }
   ],
   "source": [
    "ordersByUsers = (\n",
    "    orders.groupby('visitor_id', as_index=False)\n",
    "    .agg({'transaction_id': 'nunique'})\n",
    ")\n",
    "\n",
    "ordersByUsers.columns = ['visitor_id', 'orders']\n",
    "ordersByUsers.head()"
   ]
  },
  {
   "cell_type": "code",
   "execution_count": 25,
   "metadata": {
    "scrolled": false
   },
   "outputs": [
    {
     "data": {
      "image/png": "[encoded data removed]",
      "text/plain": [
       "<Figure size 640x480 with 1 Axes>"
      ]
     },
     "metadata": {},
     "output_type": "display_data"
    }
   ],
   "source": [
    "x_values = pd.Series(range(0,len(ordersByUsers)))\n",
    "plt.scatter(x_values, ordersByUsers['orders']) \n",
    "plt.title('Точечный график количества заказов по пользователям')\n",
    "plt.ylabel('Количество заказов')\n",
    "plt.grid()\n",
    "plt.show() \n",
    "plt.show()"
   ]
  },
  {
   "cell_type": "markdown",
   "metadata": {},
   "source": [
    "Наибольшее число пользователей делает по 1 покупке, однако не мало тех, кто делает по 2 покупки и пока не ясно - считать их аномальными или нет."
   ]
  },
  {
   "cell_type": "markdown",
   "metadata": {},
   "source": [
    "### Посчитем 95-й и 99-й перцентили количества заказов на пользователя. Выберем границу для определения аномальных пользователей."
   ]
  },
  {
   "cell_type": "code",
   "execution_count": 26,
   "metadata": {},
   "outputs": [
    {
     "name": "stdout",
     "output_type": "stream",
     "text": [
      "[1. 2.]\n"
     ]
    }
   ],
   "source": [
    "print(np.percentile(ordersByUsers['orders'], [95, 99])) "
   ]
  },
  {
   "cell_type": "markdown",
   "metadata": {},
   "source": [
    "Не больше 1% пользователей делали более 2-х покупок. Разумно выбрать 2 заказа на одного пользователя за верхнюю границу числа заказов, и отсеять аномальных пользователей по ней."
   ]
  },
  {
   "cell_type": "markdown",
   "metadata": {},
   "source": [
    "### Построим точечный график стоимостей заказов. Сделаем выводы и предположения."
   ]
  },
  {
   "cell_type": "code",
   "execution_count": 27,
   "metadata": {},
   "outputs": [
    {
     "data": {
      "image/png": "[encoded data removed]",
      "text/plain": [
       "<Figure size 640x480 with 1 Axes>"
      ]
     },
     "metadata": {},
     "output_type": "display_data"
    }
   ],
   "source": [
    "x_values = pd.Series(range(0,len(orders)))\n",
    "plt.scatter(x_values, orders['revenue']) \n",
    "plt.title('Точечный график стоимостей заказов')\n",
    "plt.ylabel('Стоимость в миллионах')\n",
    "plt.grid()\n",
    "plt.show() \n",
    "plt.show()"
   ]
  },
  {
   "cell_type": "markdown",
   "metadata": {},
   "source": [
    "Наблюдаем два явных выброса на значениях: более 1,2 млн. и 200.000."
   ]
  },
  {
   "cell_type": "code",
   "execution_count": 28,
   "metadata": {
    "scrolled": false
   },
   "outputs": [
    {
     "data": {
      "image/png": "[encoded data removed]",
      "text/plain": [
       "<Figure size 640x480 with 1 Axes>"
      ]
     },
     "metadata": {},
     "output_type": "display_data"
    }
   ],
   "source": [
    "x_values = pd.Series(range(0,len(orders[orders['revenue'] < 200000])))\n",
    "plt.scatter(x_values, orders[orders['revenue'] < 200000]['revenue']) \n",
    "plt.title('Точечный график стоимостей заказов')\n",
    "plt.ylabel('Стоимость в миллионах')\n",
    "plt.grid()\n",
    "plt.show() "
   ]
  },
  {
   "cell_type": "markdown",
   "metadata": {},
   "source": [
    "### Посчитаем 95-й и 99-й перцентили стоимости заказов. Выберем границу для определения аномальных заказов."
   ]
  },
  {
   "cell_type": "code",
   "execution_count": 29,
   "metadata": {
    "scrolled": true
   },
   "outputs": [
    {
     "name": "stdout",
     "output_type": "stream",
     "text": [
      "[17990. 26785. 53904.]\n"
     ]
    }
   ],
   "source": [
    "print(np.percentile(orders['revenue'], [90, 95, 99])) "
   ]
  },
  {
   "cell_type": "markdown",
   "metadata": {},
   "source": [
    "Заказы со стоимостью выше 53.904 рублей делает 1% пользователей.  \n",
    "Заказы со стоимостью выше 26.785 рублей делает 5% пользователей.  \n",
    "Считаю аномальным показатель 1% пользователей в данном исследовании."
   ]
  },
  {
   "cell_type": "markdown",
   "metadata": {},
   "source": [
    "### Посчитаем статистическую значимость различий в среднем количестве заказов на посетителя между группами по «сырым» данным. Сделаем выводы и предположения."
   ]
  },
  {
   "cell_type": "markdown",
   "metadata": {},
   "source": [
    "**Сформулируем гипотезы.**  \n",
    "**Нулевая:** Различий в среднем количестве заказов между группами нет.  \n",
    "**Альтернативная:** Различия в среднем количестве заказов между группами есть.  \n",
    "**Значение alpha**: 0.05"
   ]
  },
  {
   "cell_type": "code",
   "execution_count": 30,
   "metadata": {
    "scrolled": false
   },
   "outputs": [
    {
     "name": "stdout",
     "output_type": "stream",
     "text": [
      "        date  visitorsPerDateA_x  ordersPerDateB  revenuePerDateB  \\\n",
      "0 2019-08-01                 719              17            59758   \n",
      "1 2019-08-02                 619              23           162043   \n",
      "2 2019-08-03                 507              14            67049   \n",
      "3 2019-08-04                 717              14            96890   \n",
      "4 2019-08-05                 756              21            89908   \n",
      "\n",
      "   visitors_a_cummulative  visitors_b_cummulative  visitorsPerDateA_y  \\\n",
      "0                     719                     713                 719   \n",
      "1                    1338                    1294                 619   \n",
      "2                    1845                    1803                 507   \n",
      "3                    2562                    2573                 717   \n",
      "4                    3318                    3280                 756   \n",
      "\n",
      "   visitorsPerDateB  ordersCummulativeA  revenueCummulativeA  \\\n",
      "0               713                  23               142779   \n",
      "1               581                  42               234381   \n",
      "2               509                  66               346854   \n",
      "3               770                  77               388030   \n",
      "4               707                  99               474413   \n",
      "\n",
      "   ordersCummulativeB  revenueCummulativeB  \n",
      "0                  17                59758  \n",
      "1                  40               221801  \n",
      "2                  54               288850  \n",
      "3                  68               385740  \n",
      "4                  89               475648  \n"
     ]
    }
   ],
   "source": [
    "#Подготовим данные  \n",
    "visitors_a = visitors[visitors['group'] == 'A'][['date', 'visitors']]\n",
    "visitors_a.columns = ['date', 'visitorsPerDateA']\n",
    "\n",
    "visitors_a_cummulative = visitors_a.apply(\n",
    "    lambda x: visitors_a[visitors_a['date'] <= x['date']].agg(\n",
    "        {'date': 'max', 'visitorsPerDateA': 'sum'}\n",
    "    ),\n",
    "    axis=1,\n",
    ")\n",
    "visitors_a_cummulative.columns = ['date', 'visitors_a_cummulative']\n",
    "\n",
    "visitors_b = visitors[visitors['group'] == 'B'][['date', 'visitors']]\n",
    "visitors_b.columns = ['date', 'visitorsPerDateB']\n",
    "\n",
    "visitors_b_cummulative = visitors_b.apply(\n",
    "    lambda x: visitors_b[visitors_b['date'] <= x['date']].agg(\n",
    "        {'date': 'max', 'visitorsPerDateB': 'sum'}\n",
    "    ),\n",
    "    axis=1,\n",
    ")\n",
    "visitors_b_cummulative.columns = ['date', 'visitors_b_cummulative']\n",
    "\n",
    "orders_a = (\n",
    "    orders[orders['group'] == 'A'][['date', 'transaction_id', 'visitor_id', 'revenue']]\n",
    "    .groupby('date', as_index=False)\n",
    "    .agg({'transaction_id': pd.Series.nunique, 'revenue': 'sum'})\n",
    ")\n",
    "orders_a.columns = ['date', 'ordersPerDateA', 'revenuePerDateA']\n",
    "\n",
    "orders_a_cummulative = orders_a.apply(\n",
    "    lambda x: orders_a[orders_a['date'] <= x['date']].agg(\n",
    "        {'date': 'max', 'ordersPerDateA': 'sum', 'revenuePerDateA': 'sum'}\n",
    "    ),\n",
    "    axis=1,\n",
    ").sort_values(by=['date'])\n",
    "orders_a_cummulative.columns = [\n",
    "    'date',\n",
    "    'ordersCummulativeA',\n",
    "    'revenueCummulativeA',\n",
    "]\n",
    "\n",
    "orders_b = (\n",
    "    orders[orders['group'] == 'B'][['date', 'transaction_id', 'visitor_id', 'revenue']]\n",
    "    .groupby('date', as_index=False)\n",
    "    .agg({'transaction_id': pd.Series.nunique, 'revenue': 'sum'})\n",
    ")\n",
    "orders_b.columns = ['date', 'ordersPerDateB', 'revenuePerDateB']\n",
    "\n",
    "orders_b_cummulative = orders_b.apply(\n",
    "    lambda x: orders_b[orders_b['date'] <= x['date']].agg(\n",
    "        {'date': 'max', 'ordersPerDateB': 'sum', 'revenuePerDateB': 'sum'}\n",
    "    ),\n",
    "    axis=1,\n",
    ").sort_values(by=['date'])\n",
    "orders_b_cummulative.columns = [\n",
    "    'date',\n",
    "    'ordersCummulativeB',\n",
    "    'revenueCummulativeB',\n",
    "]\n",
    "\n",
    "data = (\n",
    "    visitors_a.merge(\n",
    "        orders_b, left_on='date', right_on='date', how='left'\n",
    "    )\n",
    "    .merge(visitors_a_cummulative, left_on='date', right_on='date', how='left')\n",
    "    .merge(visitors_b_cummulative, left_on='date', right_on='date', how='left')\n",
    "    .merge(visitors_a, left_on='date', right_on='date', how='left')\n",
    "    .merge(visitors_b, left_on='date', right_on='date', how='left')\n",
    "    .merge(orders_a_cummulative, left_on='date', right_on='date', how='left')\n",
    "    .merge(orders_b_cummulative, left_on='date', right_on='date', how='left')\n",
    ")\n",
    "\n",
    "print(data.head(5)) "
   ]
  },
  {
   "cell_type": "code",
   "execution_count": 31,
   "metadata": {},
   "outputs": [
    {
     "name": "stdout",
     "output_type": "stream",
     "text": [
      "p-value: 0.01102\n",
      "Прирост среднего количества заказов на посетителя 0.160\n"
     ]
    }
   ],
   "source": [
    "ordersByUsersA = (\n",
    "    orders[orders['group'] == 'A']\n",
    "    .groupby('visitor_id', as_index=False)\n",
    "    .agg({'transaction_id': pd.Series.nunique})\n",
    ")\n",
    "ordersByUsersA.columns = ['visitor_id', 'transaction_id']\n",
    "\n",
    "ordersByUsersB = (\n",
    "    orders[orders['group'] == 'B']\n",
    "    .groupby('visitor_id', as_index=False)\n",
    "    .agg({'transaction_id': pd.Series.nunique})\n",
    ")\n",
    "ordersByUsersB.columns = ['visitor_id', 'transaction_id'] \n",
    "\n",
    "pd.Series(0, index=np.arange(data['visitorsPerDateA_y'].sum() - len(ordersByUsersA['transaction_id'])), name='transaction_id')\n",
    "\n",
    "[ordersByUsersA['transaction_id'],pd.Series(0, index=np.arange(data['visitorsPerDateA_y'].sum()-len(ordersByUsersA['transaction_id'])), name='transaction_id')]\n",
    "sampleA = pd.concat([ordersByUsersA['transaction_id'],pd.Series(0, index=np.arange(data['visitorsPerDateA_y'].sum() - len(ordersByUsersA['transaction_id'])), name='transaction_id')],axis=0)\n",
    "\n",
    "sampleB = pd.concat([ordersByUsersB['transaction_id'],pd.Series(0, index=np.arange(data['visitorsPerDateB'].sum() - len(ordersByUsersB['transaction_id'])), name='transaction_id')],axis=0)\n",
    "ordersByUsersA = (\n",
    "    orders[orders['group'] == 'A']\n",
    "    .groupby('visitor_id', as_index=False)\n",
    "    .agg({'transaction_id': pd.Series.nunique})\n",
    ")\n",
    "ordersByUsersA.columns = ['visitor_id', 'transaction_id']\n",
    "\n",
    "ordersByUsersB = (\n",
    "    orders[orders['group'] == 'B']\n",
    "    .groupby('visitor_id', as_index=False)\n",
    "    .agg({'transaction_id': pd.Series.nunique})\n",
    ")\n",
    "ordersByUsersB.columns = ['visitor_id', 'transaction_id']\n",
    "\n",
    "sampleA = pd.concat(\n",
    "    [\n",
    "        ordersByUsersA['transaction_id'],\n",
    "        pd.Series(\n",
    "            0,\n",
    "            index=np.arange(\n",
    "                data['visitorsPerDateA_y'].sum() - len(ordersByUsersA['transaction_id'])\n",
    "            ),\n",
    "            name='transaction_id',\n",
    "        ),\n",
    "    ],\n",
    "    axis=0,\n",
    ")\n",
    "\n",
    "sampleB = pd.concat(\n",
    "    [\n",
    "        ordersByUsersB['transaction_id'],\n",
    "        pd.Series(\n",
    "            0,\n",
    "            index=np.arange(\n",
    "                data['visitorsPerDateB'].sum() - len(ordersByUsersB['transaction_id'])\n",
    "            ),\n",
    "            name='transaction_id',\n",
    "        ),\n",
    "    ],\n",
    "    axis=0,\n",
    ")\n",
    "\n",
    "print('p-value:', \"{0:.5f}\".format(stats.mannwhitneyu(sampleA, sampleB)[1]))\n",
    "\n",
    "print('Прирост среднего количества заказов на посетителя',\"{0:.3f}\".format(sampleB.mean() / sampleA.mean() - 1))\n"
   ]
  },
  {
   "cell_type": "markdown",
   "metadata": {},
   "source": [
    "P-value меньше 0.05 - нулевую гипотезу отвергаем.  \n",
    "Анализ сырых данных говорит о том, что относительный прирост среднего группы В к группе А равен 16%."
   ]
  },
  {
   "cell_type": "markdown",
   "metadata": {},
   "source": [
    "### Посчитаем статистическую значимость различий в среднем чеке заказа между группами по «сырым» данным. Сделаем выводы и предположения."
   ]
  },
  {
   "cell_type": "markdown",
   "metadata": {},
   "source": [
    "**Сформулируем гипотезы.**  \n",
    "**Нулевая:** Статистически значимых различий в среднем числе заказов между группами нет.  \n",
    "**Альтернативная:** Статистически значимые различия в среднем числе заказов между группами есть.  \n",
    "**Значение alpha**: 0.05"
   ]
  },
  {
   "cell_type": "code",
   "execution_count": 32,
   "metadata": {
    "scrolled": true
   },
   "outputs": [
    {
     "name": "stdout",
     "output_type": "stream",
     "text": [
      "P-value: 0.829\n",
      "Относительный прирост среднего группы В к группе А: 0.287\n"
     ]
    }
   ],
   "source": [
    "visitorsADaily = visitors[visitors['group'] == 'A'][['date', 'visitors']]\n",
    "visitorsADaily.columns = ['date', 'visitorsPerDateA']\n",
    "\n",
    "visitorsACummulative = visitorsADaily.apply(\n",
    "    lambda x: visitorsADaily[visitorsADaily['date'] <= x['date']].agg(\n",
    "        {'date': 'max', 'visitorsPerDateA': 'sum'}\n",
    "    ),\n",
    "    axis=1,\n",
    ")\n",
    "visitorsACummulative.columns = ['date', 'visitorsCummulativeA']\n",
    "\n",
    "visitorsBDaily = visitors[visitors['group'] == 'B'][['date', 'visitors']]\n",
    "visitorsBDaily.columns = ['date', 'visitorsPerDateB']\n",
    "\n",
    "visitorsBCummulative = visitorsBDaily.apply(\n",
    "    lambda x: visitorsBDaily[visitorsBDaily['date'] <= x['date']].agg(\n",
    "        {'date': 'max', 'visitorsPerDateB': 'sum'}\n",
    "    ),\n",
    "    axis=1,\n",
    ")\n",
    "visitorsBCummulative.columns = ['date', 'visitorsCummulativeB']\n",
    "\n",
    "ordersADaily = (\n",
    "    orders[orders['group'] == 'A'][['date', 'transaction_id', 'visitor_id', 'revenue']]\n",
    "    .groupby('date', as_index=False)\n",
    "    .agg({'transaction_id': pd.Series.nunique, 'revenue': 'sum'})\n",
    ")\n",
    "ordersADaily.columns = ['date', 'ordersPerDateA', 'revenuePerDateA']\n",
    "\n",
    "ordersACummulative = ordersADaily.apply(\n",
    "    lambda x: ordersADaily[ordersADaily['date'] <= x['date']].agg(\n",
    "        {'date': 'max', 'ordersPerDateA': 'sum', 'revenuePerDateA': 'sum'}\n",
    "    ),\n",
    "    axis=1,\n",
    ").sort_values(by=['date'])\n",
    "ordersACummulative.columns = [\n",
    "    'date',\n",
    "    'ordersCummulativeA',\n",
    "    'revenueCummulativeA',\n",
    "]\n",
    "\n",
    "ordersBDaily = (\n",
    "    orders[orders['group'] == 'B'][['date', 'transaction_id', 'visitor_id', 'revenue']]\n",
    "    .groupby('date', as_index=False)\n",
    "    .agg({'transaction_id': pd.Series.nunique, 'revenue': 'sum'})\n",
    ")\n",
    "ordersBDaily.columns = ['date', 'ordersPerDateB', 'revenuePerDateB']\n",
    "\n",
    "ordersBCummulative = ordersBDaily.apply(\n",
    "    lambda x: ordersBDaily[ordersBDaily['date'] <= x['date']].agg(\n",
    "        {'date': 'max', 'ordersPerDateB': 'sum', 'revenuePerDateB': 'sum'}\n",
    "    ),\n",
    "    axis=1,\n",
    ").sort_values(by=['date'])\n",
    "ordersBCummulative.columns = [\n",
    "    'date',\n",
    "    'ordersCummulativeB',\n",
    "    'revenueCummulativeB',\n",
    "]\n",
    "\n",
    "print('P-value:','{0:.3f}'.format(stats.mannwhitneyu(orders[orders['group']=='A']['revenue'], orders[orders['group']=='B']['revenue'])[1]))\n",
    "print('Относительный прирост среднего группы В к группе А:','{0:.3f}'.format(orders[orders['group']=='B']['revenue'].mean()/orders[orders['group']=='A']['revenue'].mean()-1))"
   ]
  },
  {
   "cell_type": "markdown",
   "metadata": {},
   "source": [
    "P-value больше 0.05 - нулевую гипотезу о том, что статистически значимых различий в среднем числе заказов между группами нет, не отвергаем - значимых отличий в среднем чеке между группами скорее нет. Анализ сырых данных говорит о том, что относительный прирост среднего группы В к группе А равен 28%."
   ]
  },
  {
   "cell_type": "markdown",
   "metadata": {},
   "source": [
    "### Посчитаем статистическую значимость различий в среднем количестве заказов на посетителя между группами по «очищенным» данным. Сделаем выводы и предположения."
   ]
  },
  {
   "cell_type": "markdown",
   "metadata": {},
   "source": [
    "**Сформулируем гипотезы.**  \n",
    "**Нулевая:** Различий в среднем количестве заказов по \"чистым\" данным между группами нет.  \n",
    "**Альтернативная:** Различия в среднем количестве заказов по \"чистым\" данным между группами есть.  \n",
    "**Значение alpha**: 0.05"
   ]
  },
  {
   "cell_type": "code",
   "execution_count": 33,
   "metadata": {
    "scrolled": true
   },
   "outputs": [
    {
     "name": "stdout",
     "output_type": "stream",
     "text": [
      "937    148427295\n",
      "33     249864742\n",
      "58     611059232\n",
      "811    887908475\n",
      "632    888512513\n",
      "Name: visitor_id, dtype: int64\n",
      "16\n"
     ]
    }
   ],
   "source": [
    "#Очистим данные\n",
    "#Примим за аномальных пользователей тех, кто совершил более 2-х заказов или совершил заказ на сумму свыше 53 904 рублей. \n",
    "#Так мы уберем 1% пользователей с наибольшим числом заказов и от 1% заказов с наибольшей стоимостью.\n",
    "ordersByUsersA = (\n",
    "    orders[orders['group'] == 'A']\n",
    "    .groupby('visitor_id', as_index=False)\n",
    "    .agg({'transaction_id': pd.Series.nunique})\n",
    ")\n",
    "ordersByUsersA.columns = ['visitor_id', 'transaction_id']\n",
    "\n",
    "ordersByUsersB = (\n",
    "    orders[orders['group'] == 'B']\n",
    "    .groupby('visitor_id', as_index=False)\n",
    "    .agg({'transaction_id': pd.Series.nunique})\n",
    ")\n",
    "ordersByUsersB.columns = ['visitor_id', 'transaction_id']\n",
    "\n",
    "usersWithManyOrders = pd.concat(\n",
    "    [\n",
    "        ordersByUsersA[ordersByUsersA['transaction_id'] > 2]['visitor_id'],\n",
    "        ordersByUsersB[ordersByUsersB['transaction_id'] > 2]['visitor_id'],\n",
    "    ],\n",
    "    axis=0,\n",
    ")\n",
    "usersWithExpensiveOrders = orders[orders['revenue'] > 53904]['visitor_id']\n",
    "abnormalUsers = (\n",
    "    pd.concat([usersWithManyOrders, usersWithExpensiveOrders], axis=0)\n",
    "    .drop_duplicates()\n",
    "    .sort_values()\n",
    ")\n",
    "print(abnormalUsers.head(5))\n",
    "print(abnormalUsers.shape[0]) "
   ]
  },
  {
   "cell_type": "markdown",
   "metadata": {},
   "source": [
    "Обнаружено 16 аномальных пользователей."
   ]
  },
  {
   "cell_type": "code",
   "execution_count": 34,
   "metadata": {},
   "outputs": [
    {
     "name": "stdout",
     "output_type": "stream",
     "text": [
      "P-value: 0.00702\n",
      "Относительный прирост среднего очищенной группы B: 0.189\n"
     ]
    }
   ],
   "source": [
    "data = (\n",
    "    ordersADaily.merge(\n",
    "        ordersBDaily, left_on='date', right_on='date', how='left'\n",
    "    )\n",
    "    .merge(ordersACummulative, left_on='date', right_on='date', how='left')\n",
    "    .merge(ordersBCummulative, left_on='date', right_on='date', how='left')\n",
    "    .merge(visitorsADaily, left_on='date', right_on='date', how='left')\n",
    "    .merge(visitorsBDaily, left_on='date', right_on='date', how='left')\n",
    "    .merge(visitorsACummulative, left_on='date', right_on='date', how='left')\n",
    "    .merge(visitorsBCummulative, left_on='date', right_on='date', how='left')\n",
    ")\n",
    "\n",
    "sampleAFiltered = pd.concat(\n",
    "    [\n",
    "        ordersByUsersA[\n",
    "            np.logical_not(ordersByUsersA['visitor_id'].isin(abnormalUsers))\n",
    "        ]['transaction_id'],\n",
    "        pd.Series(\n",
    "            0,\n",
    "            index=np.arange(\n",
    "                data['visitorsPerDateA'].sum() - len(ordersByUsersA['transaction_id'])\n",
    "            ),\n",
    "            name='transaction_id',\n",
    "        ),\n",
    "    ],\n",
    "    axis=0,\n",
    ")\n",
    "\n",
    "sampleBFiltered = pd.concat(\n",
    "    [\n",
    "        ordersByUsersB[\n",
    "            np.logical_not(ordersByUsersB['visitor_id'].isin(abnormalUsers))\n",
    "        ]['transaction_id'],\n",
    "        pd.Series(\n",
    "            0,\n",
    "            index=np.arange(\n",
    "                data['visitorsPerDateB'].sum() - len(ordersByUsersB['transaction_id'])\n",
    "            ),\n",
    "            name='transaction_id',\n",
    "        ),\n",
    "    ],\n",
    "    axis=0,\n",
    ")\n",
    "\n",
    "print('P-value:','{0:.5f}'.format(stats.mannwhitneyu(sampleAFiltered, sampleBFiltered)[1]))\n",
    "print('Относительный прирост среднего очищенной группы B:','{0:.3f}'.format(sampleBFiltered.mean()/sampleAFiltered.mean()-1))"
   ]
  },
  {
   "cell_type": "markdown",
   "metadata": {},
   "source": [
    "Различия в среднем количестве заказов по \"чистым\" данным между группами есть, нулевую гипотезу отвергаем.  \n",
    "Группа В значительно лучше группы А.  \n",
    "Разница между группами изменились, а именно увеличилась с 16% до 19%."
   ]
  },
  {
   "cell_type": "markdown",
   "metadata": {},
   "source": [
    "### Посчитаем статистическую значимость различий в среднем чеке заказа между группами по «очищенным» данным. Сделаем выводы и предположения."
   ]
  },
  {
   "cell_type": "markdown",
   "metadata": {},
   "source": [
    "**Сформулируем гипотезы.**  \n",
    "**Нулевая:** Статистически значимых различий в среднем числе заказов по \"чистым\" данным между группами нет.  \n",
    "**Альтернативная:** Статистически значимые различия в среднем числе заказов по \"чистым\" данным между группами есть.  \n",
    "**Значение alpha**: 0.05"
   ]
  },
  {
   "cell_type": "code",
   "execution_count": 35,
   "metadata": {},
   "outputs": [
    {
     "name": "stdout",
     "output_type": "stream",
     "text": [
      "P-value: 0.788\n",
      "Относительный прирост среднего очищенной группы В к группе А: -0.032\n"
     ]
    }
   ],
   "source": [
    "print('P-value:',\n",
    "    '{0:.3f}'.format(\n",
    "        stats.mannwhitneyu(\n",
    "            orders[\n",
    "                np.logical_and(\n",
    "                    orders['group'] == 'A',\n",
    "                    np.logical_not(orders['visitor_id'].isin(abnormalUsers)),\n",
    "                )\n",
    "            ]['revenue'],\n",
    "            orders[\n",
    "                np.logical_and(\n",
    "                    orders['group'] == 'B',\n",
    "                    np.logical_not(orders['visitor_id'].isin(abnormalUsers)),\n",
    "                )\n",
    "            ]['revenue'],\n",
    "        )[1]\n",
    "    )\n",
    ")\n",
    "\n",
    "print('Относительный прирост среднего очищенной группы В к группе А:',\n",
    "    \"{0:.3f}\".format(\n",
    "        orders[\n",
    "            np.logical_and(\n",
    "                orders['group'] == 'B',\n",
    "                np.logical_not(orders['visitor_id'].isin(abnormalUsers)),\n",
    "            )\n",
    "        ]['revenue'].mean()\n",
    "        / orders[\n",
    "            np.logical_and(\n",
    "                orders['group'] == 'A',\n",
    "                np.logical_not(orders['visitor_id'].isin(abnormalUsers)),\n",
    "            )\n",
    "        ]['revenue'].mean()\n",
    "        - 1\n",
    "    )\n",
    ")"
   ]
  },
  {
   "cell_type": "markdown",
   "metadata": {},
   "source": [
    "Статистически значимых различий в среднем числе заказов по \"чистым\" данным между группами нет.  \n",
    "Различия по значению среднего чека стало меньше на 3,2%.  \n",
    "После удаления аномальных значений дисперсия немного снизилась."
   ]
  },
  {
   "cell_type": "markdown",
   "metadata": {},
   "source": [
    "## Выводы исследования:"
   ]
  },
  {
   "cell_type": "markdown",
   "metadata": {},
   "source": [
    "Считаю, что исследование можно завершить и признать группу В победителем, так как:\n",
    "- Есть статистически значимое различие по значению среднего количества заказов на посетителя между группами как по \"сырым\" данным, так и после удаления аномалий. Группа В показывает результаты выше группы А.\n",
    "- По сырым данным нет статистически значимого различия по среднему чеку между группами. Так же как и после удаления аномалий статистически значимых различий не обнаружено.\n",
    "- График кумулятивного среднего количества заказов на посетителя по группам сообщает, что результаты группы B лучше группы A: имеют тенденцию к росту и зафиксировались около среднего значения.  "
   ]
  }
 ],
 "metadata": {
  "ExecuteTimeLog": [
   {
    "duration": 427,
    "start_time": "2023-04-19T16:38:34.005Z"
   },
   {
    "duration": 66,
    "start_time": "2023-04-19T16:39:04.430Z"
   },
   {
    "duration": 18,
    "start_time": "2023-04-19T16:39:10.138Z"
   },
   {
    "duration": 12,
    "start_time": "2023-04-19T16:40:18.022Z"
   },
   {
    "duration": 22,
    "start_time": "2023-04-19T17:43:08.268Z"
   },
   {
    "duration": 11,
    "start_time": "2023-04-19T17:44:07.376Z"
   },
   {
    "duration": 161,
    "start_time": "2023-04-19T17:56:03.158Z"
   },
   {
    "duration": 67,
    "start_time": "2023-04-19T18:23:11.422Z"
   },
   {
    "duration": 36,
    "start_time": "2023-04-19T18:23:14.230Z"
   },
   {
    "duration": 13,
    "start_time": "2023-04-19T18:24:08.981Z"
   },
   {
    "duration": 12,
    "start_time": "2023-04-19T18:24:14.294Z"
   },
   {
    "duration": 415,
    "start_time": "2023-04-19T18:24:22.765Z"
   },
   {
    "duration": 34,
    "start_time": "2023-04-19T18:24:23.183Z"
   },
   {
    "duration": 18,
    "start_time": "2023-04-19T18:24:23.219Z"
   },
   {
    "duration": 16,
    "start_time": "2023-04-19T18:24:23.239Z"
   },
   {
    "duration": 15,
    "start_time": "2023-04-19T18:24:23.257Z"
   },
   {
    "duration": 52,
    "start_time": "2023-04-19T18:24:23.274Z"
   },
   {
    "duration": 23,
    "start_time": "2023-04-19T18:24:23.328Z"
   },
   {
    "duration": 75,
    "start_time": "2023-04-19T18:28:38.439Z"
   },
   {
    "duration": 42,
    "start_time": "2023-04-19T18:29:35.741Z"
   },
   {
    "duration": 12,
    "start_time": "2023-04-19T18:29:36.820Z"
   },
   {
    "duration": 8,
    "start_time": "2023-04-19T18:30:42.922Z"
   },
   {
    "duration": 11,
    "start_time": "2023-04-19T18:31:13.940Z"
   },
   {
    "duration": 17,
    "start_time": "2023-04-19T18:31:28.444Z"
   },
   {
    "duration": 13,
    "start_time": "2023-04-19T18:31:43.988Z"
   },
   {
    "duration": 8,
    "start_time": "2023-04-19T18:35:01.313Z"
   },
   {
    "duration": 31,
    "start_time": "2023-04-19T18:35:07.934Z"
   },
   {
    "duration": 22,
    "start_time": "2023-04-19T18:35:14.856Z"
   },
   {
    "duration": 9,
    "start_time": "2023-04-19T18:35:31.103Z"
   },
   {
    "duration": 9,
    "start_time": "2023-04-19T18:35:36.533Z"
   },
   {
    "duration": 13,
    "start_time": "2023-04-19T18:36:03.711Z"
   },
   {
    "duration": 32,
    "start_time": "2023-04-19T18:36:10.254Z"
   },
   {
    "duration": 17,
    "start_time": "2023-04-19T18:40:31.884Z"
   },
   {
    "duration": 15,
    "start_time": "2023-04-19T18:40:41.460Z"
   },
   {
    "duration": 12,
    "start_time": "2023-04-19T18:54:59.649Z"
   },
   {
    "duration": 8,
    "start_time": "2023-04-19T18:55:09.431Z"
   },
   {
    "duration": 11,
    "start_time": "2023-04-19T18:55:19.023Z"
   },
   {
    "duration": 543,
    "start_time": "2023-04-19T18:55:34.485Z"
   },
   {
    "duration": 59,
    "start_time": "2023-04-19T18:55:35.031Z"
   },
   {
    "duration": 17,
    "start_time": "2023-04-19T18:55:35.092Z"
   },
   {
    "duration": 78,
    "start_time": "2023-04-19T18:55:35.111Z"
   },
   {
    "duration": 25,
    "start_time": "2023-04-19T18:55:35.193Z"
   },
   {
    "duration": 111,
    "start_time": "2023-04-19T18:55:35.221Z"
   },
   {
    "duration": 51,
    "start_time": "2023-04-19T18:55:35.335Z"
   },
   {
    "duration": 40,
    "start_time": "2023-04-19T18:55:35.390Z"
   },
   {
    "duration": 20,
    "start_time": "2023-04-19T18:55:35.433Z"
   },
   {
    "duration": 104,
    "start_time": "2023-04-19T18:56:50.318Z"
   },
   {
    "duration": 16,
    "start_time": "2023-04-19T18:56:55.769Z"
   },
   {
    "duration": 17,
    "start_time": "2023-04-19T18:58:54.590Z"
   },
   {
    "duration": 14,
    "start_time": "2023-04-19T18:59:02.717Z"
   },
   {
    "duration": 21,
    "start_time": "2023-04-19T18:59:10.579Z"
   },
   {
    "duration": 599,
    "start_time": "2023-04-19T18:59:17.069Z"
   },
   {
    "duration": 33,
    "start_time": "2023-04-19T18:59:17.673Z"
   },
   {
    "duration": 106,
    "start_time": "2023-04-19T18:59:17.709Z"
   },
   {
    "duration": 213,
    "start_time": "2023-04-19T18:59:17.818Z"
   },
   {
    "duration": 118,
    "start_time": "2023-04-19T18:59:18.034Z"
   },
   {
    "duration": 134,
    "start_time": "2023-04-19T18:59:18.157Z"
   },
   {
    "duration": 30,
    "start_time": "2023-04-19T18:59:18.294Z"
   },
   {
    "duration": 22,
    "start_time": "2023-04-19T18:59:18.326Z"
   },
   {
    "duration": 60,
    "start_time": "2023-04-19T18:59:18.350Z"
   },
   {
    "duration": 21,
    "start_time": "2023-04-19T19:00:16.794Z"
   },
   {
    "duration": 15,
    "start_time": "2023-04-19T19:00:54.120Z"
   },
   {
    "duration": 29,
    "start_time": "2023-04-19T19:01:06.629Z"
   },
   {
    "duration": 495,
    "start_time": "2023-04-19T19:01:13.210Z"
   },
   {
    "duration": 32,
    "start_time": "2023-04-19T19:01:13.707Z"
   },
   {
    "duration": 27,
    "start_time": "2023-04-19T19:01:13.741Z"
   },
   {
    "duration": 50,
    "start_time": "2023-04-19T19:01:13.770Z"
   },
   {
    "duration": 15,
    "start_time": "2023-04-19T19:01:13.823Z"
   },
   {
    "duration": 130,
    "start_time": "2023-04-19T19:01:13.844Z"
   },
   {
    "duration": 33,
    "start_time": "2023-04-19T19:01:13.982Z"
   },
   {
    "duration": 18,
    "start_time": "2023-04-19T19:01:14.017Z"
   },
   {
    "duration": 37,
    "start_time": "2023-04-19T19:01:14.037Z"
   },
   {
    "duration": 83,
    "start_time": "2023-04-19T19:01:14.076Z"
   },
   {
    "duration": 25,
    "start_time": "2023-04-19T19:01:35.799Z"
   },
   {
    "duration": 532,
    "start_time": "2023-04-19T19:01:41.428Z"
   },
   {
    "duration": 39,
    "start_time": "2023-04-19T19:01:41.974Z"
   },
   {
    "duration": 25,
    "start_time": "2023-04-19T19:01:42.016Z"
   },
   {
    "duration": 84,
    "start_time": "2023-04-19T19:01:42.043Z"
   },
   {
    "duration": 20,
    "start_time": "2023-04-19T19:01:42.130Z"
   },
   {
    "duration": 102,
    "start_time": "2023-04-19T19:01:42.153Z"
   },
   {
    "duration": 40,
    "start_time": "2023-04-19T19:01:42.257Z"
   },
   {
    "duration": 20,
    "start_time": "2023-04-19T19:01:42.300Z"
   },
   {
    "duration": 7,
    "start_time": "2023-04-19T19:01:42.323Z"
   },
   {
    "duration": 28,
    "start_time": "2023-04-19T19:01:42.333Z"
   },
   {
    "duration": 33,
    "start_time": "2023-04-19T19:02:52.802Z"
   },
   {
    "duration": 1141,
    "start_time": "2023-04-19T19:03:22.100Z"
   },
   {
    "duration": 1242,
    "start_time": "2023-04-19T19:03:30.805Z"
   },
   {
    "duration": 1035,
    "start_time": "2023-04-19T19:03:38.076Z"
   },
   {
    "duration": 1186,
    "start_time": "2023-04-19T19:04:13.244Z"
   },
   {
    "duration": 632,
    "start_time": "2023-04-19T19:04:19.942Z"
   },
   {
    "duration": 30,
    "start_time": "2023-04-19T19:04:20.587Z"
   },
   {
    "duration": 20,
    "start_time": "2023-04-19T19:04:20.619Z"
   },
   {
    "duration": 49,
    "start_time": "2023-04-19T19:04:20.647Z"
   },
   {
    "duration": 19,
    "start_time": "2023-04-19T19:04:20.699Z"
   },
   {
    "duration": 90,
    "start_time": "2023-04-19T19:04:20.721Z"
   },
   {
    "duration": 31,
    "start_time": "2023-04-19T19:04:20.814Z"
   },
   {
    "duration": 38,
    "start_time": "2023-04-19T19:04:20.847Z"
   },
   {
    "duration": 7,
    "start_time": "2023-04-19T19:04:20.890Z"
   },
   {
    "duration": 1391,
    "start_time": "2023-04-19T19:04:20.899Z"
   },
   {
    "duration": 172,
    "start_time": "2023-04-19T19:04:47.886Z"
   },
   {
    "duration": 36,
    "start_time": "2023-04-19T19:05:04.119Z"
   },
   {
    "duration": 27,
    "start_time": "2023-04-19T19:05:23.428Z"
   },
   {
    "duration": 31,
    "start_time": "2023-04-19T19:05:54.408Z"
   },
   {
    "duration": 550,
    "start_time": "2023-04-19T19:07:59.233Z"
   },
   {
    "duration": 39,
    "start_time": "2023-04-19T19:07:59.797Z"
   },
   {
    "duration": 29,
    "start_time": "2023-04-19T19:07:59.838Z"
   },
   {
    "duration": 51,
    "start_time": "2023-04-19T19:07:59.870Z"
   },
   {
    "duration": 40,
    "start_time": "2023-04-19T19:07:59.924Z"
   },
   {
    "duration": 110,
    "start_time": "2023-04-19T19:07:59.971Z"
   },
   {
    "duration": 34,
    "start_time": "2023-04-19T19:08:00.094Z"
   },
   {
    "duration": 2195,
    "start_time": "2023-04-19T19:08:00.130Z"
   },
   {
    "duration": 0,
    "start_time": "2023-04-19T19:08:02.327Z"
   },
   {
    "duration": 0,
    "start_time": "2023-04-19T19:08:02.329Z"
   },
   {
    "duration": 37,
    "start_time": "2023-04-19T19:08:30.333Z"
   },
   {
    "duration": 28,
    "start_time": "2023-04-19T19:08:36.322Z"
   },
   {
    "duration": 11,
    "start_time": "2023-04-19T19:30:28.990Z"
   },
   {
    "duration": 12,
    "start_time": "2023-04-19T19:37:49.117Z"
   },
   {
    "duration": 16,
    "start_time": "2023-04-19T19:37:59.407Z"
   },
   {
    "duration": 21,
    "start_time": "2023-04-19T19:38:06.912Z"
   },
   {
    "duration": 21,
    "start_time": "2023-04-19T19:38:12.860Z"
   },
   {
    "duration": 1043,
    "start_time": "2023-04-19T19:40:33.918Z"
   },
   {
    "duration": 1299,
    "start_time": "2023-04-19T19:40:43.825Z"
   },
   {
    "duration": 39,
    "start_time": "2023-04-19T19:40:45.127Z"
   },
   {
    "duration": 22,
    "start_time": "2023-04-19T19:40:45.168Z"
   },
   {
    "duration": 14,
    "start_time": "2023-04-19T19:40:45.192Z"
   },
   {
    "duration": 13,
    "start_time": "2023-04-19T19:40:45.208Z"
   },
   {
    "duration": 64,
    "start_time": "2023-04-19T19:40:45.223Z"
   },
   {
    "duration": 24,
    "start_time": "2023-04-19T19:40:45.288Z"
   },
   {
    "duration": 14,
    "start_time": "2023-04-19T19:40:45.314Z"
   },
   {
    "duration": 3,
    "start_time": "2023-04-19T19:40:45.330Z"
   },
   {
    "duration": 1122,
    "start_time": "2023-04-19T19:40:45.335Z"
   },
   {
    "duration": 11,
    "start_time": "2023-04-19T19:41:38.485Z"
   },
   {
    "duration": 72,
    "start_time": "2023-04-19T19:47:04.989Z"
   },
   {
    "duration": 75,
    "start_time": "2023-04-19T19:47:09.988Z"
   },
   {
    "duration": 71,
    "start_time": "2023-04-19T19:47:28.641Z"
   },
   {
    "duration": 74,
    "start_time": "2023-04-19T19:47:34.252Z"
   },
   {
    "duration": 80,
    "start_time": "2023-04-19T19:47:41.592Z"
   },
   {
    "duration": 41,
    "start_time": "2023-04-19T19:49:15.849Z"
   },
   {
    "duration": 114,
    "start_time": "2023-04-19T19:49:20.794Z"
   },
   {
    "duration": 18,
    "start_time": "2023-04-19T19:49:22.835Z"
   },
   {
    "duration": 65,
    "start_time": "2023-04-19T19:49:52.205Z"
   },
   {
    "duration": 13,
    "start_time": "2023-04-19T19:50:34.168Z"
   },
   {
    "duration": 25,
    "start_time": "2023-04-19T19:50:40.432Z"
   },
   {
    "duration": 24,
    "start_time": "2023-04-19T19:51:27.770Z"
   },
   {
    "duration": 13,
    "start_time": "2023-04-19T19:51:45.773Z"
   },
   {
    "duration": 19,
    "start_time": "2023-04-19T19:51:51.877Z"
   },
   {
    "duration": 7,
    "start_time": "2023-04-19T19:52:19.694Z"
   },
   {
    "duration": 75,
    "start_time": "2023-04-19T19:52:20.120Z"
   },
   {
    "duration": 5,
    "start_time": "2023-04-19T19:52:22.396Z"
   },
   {
    "duration": 25,
    "start_time": "2023-04-19T19:52:23.002Z"
   },
   {
    "duration": 1571,
    "start_time": "2023-04-19T19:52:30.031Z"
   },
   {
    "duration": 29,
    "start_time": "2023-04-19T19:52:31.605Z"
   },
   {
    "duration": 69,
    "start_time": "2023-04-19T19:52:31.637Z"
   },
   {
    "duration": 47,
    "start_time": "2023-04-19T19:52:31.712Z"
   },
   {
    "duration": 71,
    "start_time": "2023-04-19T19:52:31.762Z"
   },
   {
    "duration": 176,
    "start_time": "2023-04-19T19:52:31.835Z"
   },
   {
    "duration": 8,
    "start_time": "2023-04-19T19:52:32.014Z"
   },
   {
    "duration": 115,
    "start_time": "2023-04-19T19:52:32.024Z"
   },
   {
    "duration": 16,
    "start_time": "2023-04-19T19:52:32.143Z"
   },
   {
    "duration": 80,
    "start_time": "2023-04-19T19:52:32.165Z"
   },
   {
    "duration": 47,
    "start_time": "2023-04-19T19:52:32.251Z"
   },
   {
    "duration": 18,
    "start_time": "2023-04-19T19:52:53.420Z"
   },
   {
    "duration": 45,
    "start_time": "2023-04-19T19:52:58.428Z"
   },
   {
    "duration": 14,
    "start_time": "2023-04-19T19:53:25.298Z"
   },
   {
    "duration": 22,
    "start_time": "2023-04-19T19:53:42.773Z"
   },
   {
    "duration": 35,
    "start_time": "2023-04-19T19:53:48.035Z"
   },
   {
    "duration": 1752,
    "start_time": "2023-04-19T19:55:25.096Z"
   },
   {
    "duration": 11,
    "start_time": "2023-04-19T19:56:30.107Z"
   },
   {
    "duration": 18,
    "start_time": "2023-04-19T19:57:03.163Z"
   },
   {
    "duration": 12,
    "start_time": "2023-04-19T19:57:42.196Z"
   },
   {
    "duration": 12,
    "start_time": "2023-04-19T20:01:32.526Z"
   },
   {
    "duration": 11,
    "start_time": "2023-04-19T20:01:41.027Z"
   },
   {
    "duration": 12,
    "start_time": "2023-04-19T20:01:55.996Z"
   },
   {
    "duration": 6,
    "start_time": "2023-04-19T20:12:15.700Z"
   },
   {
    "duration": 29,
    "start_time": "2023-04-19T20:12:24.338Z"
   },
   {
    "duration": 1506,
    "start_time": "2023-04-19T20:12:34.731Z"
   },
   {
    "duration": 63,
    "start_time": "2023-04-19T20:12:36.240Z"
   },
   {
    "duration": 25,
    "start_time": "2023-04-19T20:12:36.311Z"
   },
   {
    "duration": 72,
    "start_time": "2023-04-19T20:12:36.338Z"
   },
   {
    "duration": 26,
    "start_time": "2023-04-19T20:12:36.414Z"
   },
   {
    "duration": 172,
    "start_time": "2023-04-19T20:12:36.442Z"
   },
   {
    "duration": 9,
    "start_time": "2023-04-19T20:12:36.617Z"
   },
   {
    "duration": 129,
    "start_time": "2023-04-19T20:12:36.628Z"
   },
   {
    "duration": 27,
    "start_time": "2023-04-19T20:12:36.762Z"
   },
   {
    "duration": 58,
    "start_time": "2023-04-19T20:12:36.792Z"
   },
   {
    "duration": 73,
    "start_time": "2023-04-19T20:12:36.856Z"
   },
   {
    "duration": 26,
    "start_time": "2023-04-19T20:13:48.620Z"
   },
   {
    "duration": 25,
    "start_time": "2023-04-19T20:13:56.290Z"
   },
   {
    "duration": 1408,
    "start_time": "2023-04-19T20:16:19.665Z"
   },
   {
    "duration": 33,
    "start_time": "2023-04-19T20:16:21.084Z"
   },
   {
    "duration": 12,
    "start_time": "2023-04-19T20:16:21.119Z"
   },
   {
    "duration": 16,
    "start_time": "2023-04-19T20:16:21.133Z"
   },
   {
    "duration": 47,
    "start_time": "2023-04-19T20:16:21.155Z"
   },
   {
    "duration": 97,
    "start_time": "2023-04-19T20:16:21.204Z"
   },
   {
    "duration": 6,
    "start_time": "2023-04-19T20:16:21.303Z"
   },
   {
    "duration": 50,
    "start_time": "2023-04-19T20:16:21.311Z"
   },
   {
    "duration": 9,
    "start_time": "2023-04-19T20:16:21.385Z"
   },
   {
    "duration": 31,
    "start_time": "2023-04-19T20:16:21.396Z"
   },
   {
    "duration": 28,
    "start_time": "2023-04-19T20:16:21.428Z"
   },
   {
    "duration": 25,
    "start_time": "2023-04-19T20:26:29.261Z"
   },
   {
    "duration": 9,
    "start_time": "2023-04-19T20:27:09.564Z"
   },
   {
    "duration": 5,
    "start_time": "2023-04-19T20:27:23.323Z"
   },
   {
    "duration": 123,
    "start_time": "2023-04-19T20:27:32.004Z"
   },
   {
    "duration": 7,
    "start_time": "2023-04-19T20:27:45.115Z"
   },
   {
    "duration": 7,
    "start_time": "2023-04-19T20:27:55.801Z"
   },
   {
    "duration": 69,
    "start_time": "2023-04-19T20:28:55.204Z"
   },
   {
    "duration": 8,
    "start_time": "2023-04-19T20:29:03.521Z"
   },
   {
    "duration": 14,
    "start_time": "2023-04-19T20:29:46.532Z"
   },
   {
    "duration": 5,
    "start_time": "2023-04-19T20:29:57.984Z"
   },
   {
    "duration": 10,
    "start_time": "2023-04-19T20:30:04.397Z"
   },
   {
    "duration": 13,
    "start_time": "2023-04-19T20:30:39.291Z"
   },
   {
    "duration": 12,
    "start_time": "2023-04-19T20:31:07.791Z"
   },
   {
    "duration": 13,
    "start_time": "2023-04-19T20:32:04.597Z"
   },
   {
    "duration": 25,
    "start_time": "2023-04-19T20:33:38.590Z"
   },
   {
    "duration": 7,
    "start_time": "2023-04-19T20:33:54.923Z"
   },
   {
    "duration": 9,
    "start_time": "2023-04-19T20:33:58.783Z"
   },
   {
    "duration": 32,
    "start_time": "2023-04-19T20:36:54.074Z"
   },
   {
    "duration": 29,
    "start_time": "2023-04-19T20:37:10.330Z"
   },
   {
    "duration": 12,
    "start_time": "2023-04-19T20:37:18.685Z"
   },
   {
    "duration": 13,
    "start_time": "2023-04-19T20:44:35.256Z"
   },
   {
    "duration": 52,
    "start_time": "2023-04-19T20:45:11.968Z"
   },
   {
    "duration": 102,
    "start_time": "2023-04-19T20:45:23.558Z"
   },
   {
    "duration": 56,
    "start_time": "2023-04-19T20:46:56.311Z"
   },
   {
    "duration": 29,
    "start_time": "2023-04-19T20:53:21.083Z"
   },
   {
    "duration": 30,
    "start_time": "2023-04-19T20:53:28.101Z"
   },
   {
    "duration": 32,
    "start_time": "2023-04-19T20:53:41.487Z"
   },
   {
    "duration": 63,
    "start_time": "2023-04-19T20:53:58.231Z"
   },
   {
    "duration": 25,
    "start_time": "2023-04-19T20:55:49.905Z"
   },
   {
    "duration": 19,
    "start_time": "2023-04-19T20:57:42.810Z"
   },
   {
    "duration": 27,
    "start_time": "2023-04-19T20:58:25.111Z"
   },
   {
    "duration": 35,
    "start_time": "2023-04-19T20:58:29.964Z"
   },
   {
    "duration": 1244,
    "start_time": "2023-04-19T21:00:40.203Z"
   },
   {
    "duration": 1313,
    "start_time": "2023-04-19T21:03:05.716Z"
   },
   {
    "duration": 17,
    "start_time": "2023-04-19T21:03:14.280Z"
   },
   {
    "duration": 20,
    "start_time": "2023-04-19T21:04:41.073Z"
   },
   {
    "duration": 1428,
    "start_time": "2023-04-19T21:08:20.937Z"
   },
   {
    "duration": 36,
    "start_time": "2023-04-19T21:08:22.367Z"
   },
   {
    "duration": 13,
    "start_time": "2023-04-19T21:08:22.405Z"
   },
   {
    "duration": 13,
    "start_time": "2023-04-19T21:08:22.421Z"
   },
   {
    "duration": 64,
    "start_time": "2023-04-19T21:08:22.436Z"
   },
   {
    "duration": 98,
    "start_time": "2023-04-19T21:08:22.502Z"
   },
   {
    "duration": 8,
    "start_time": "2023-04-19T21:08:22.602Z"
   },
   {
    "duration": 64,
    "start_time": "2023-04-19T21:08:22.612Z"
   },
   {
    "duration": 15,
    "start_time": "2023-04-19T21:08:22.678Z"
   },
   {
    "duration": 14,
    "start_time": "2023-04-19T21:08:22.697Z"
   },
   {
    "duration": 1224,
    "start_time": "2023-04-19T21:08:22.714Z"
   },
   {
    "duration": 0,
    "start_time": "2023-04-19T21:08:23.941Z"
   },
   {
    "duration": 0,
    "start_time": "2023-04-19T21:08:23.943Z"
   },
   {
    "duration": 0,
    "start_time": "2023-04-19T21:08:23.944Z"
   },
   {
    "duration": 0,
    "start_time": "2023-04-19T21:08:23.947Z"
   },
   {
    "duration": 7,
    "start_time": "2023-04-19T21:08:53.367Z"
   },
   {
    "duration": 22,
    "start_time": "2023-04-19T21:08:57.956Z"
   },
   {
    "duration": 27,
    "start_time": "2023-04-19T21:09:06.232Z"
   },
   {
    "duration": 29,
    "start_time": "2023-04-19T21:10:17.442Z"
   },
   {
    "duration": 30,
    "start_time": "2023-04-19T21:10:38.194Z"
   },
   {
    "duration": 33,
    "start_time": "2023-04-19T21:12:14.502Z"
   },
   {
    "duration": 33,
    "start_time": "2023-04-19T21:12:17.682Z"
   },
   {
    "duration": 17,
    "start_time": "2023-04-19T21:12:20.893Z"
   },
   {
    "duration": 1701,
    "start_time": "2023-04-22T13:14:27.519Z"
   },
   {
    "duration": 82,
    "start_time": "2023-04-22T13:14:29.224Z"
   },
   {
    "duration": 17,
    "start_time": "2023-04-22T13:14:29.309Z"
   },
   {
    "duration": 13,
    "start_time": "2023-04-22T13:14:29.327Z"
   },
   {
    "duration": 11,
    "start_time": "2023-04-22T13:14:29.343Z"
   },
   {
    "duration": 103,
    "start_time": "2023-04-22T13:14:29.356Z"
   },
   {
    "duration": 5,
    "start_time": "2023-04-22T13:14:29.460Z"
   },
   {
    "duration": 199,
    "start_time": "2023-04-22T13:14:29.466Z"
   },
   {
    "duration": 6,
    "start_time": "2023-04-22T13:14:29.667Z"
   },
   {
    "duration": 18,
    "start_time": "2023-04-22T13:14:29.674Z"
   },
   {
    "duration": 34,
    "start_time": "2023-04-22T13:14:29.694Z"
   },
   {
    "duration": 17,
    "start_time": "2023-04-22T13:14:29.730Z"
   },
   {
    "duration": 27,
    "start_time": "2023-04-22T13:14:29.749Z"
   },
   {
    "duration": 33,
    "start_time": "2023-04-22T13:14:29.778Z"
   },
   {
    "duration": 22,
    "start_time": "2023-04-22T13:14:29.813Z"
   },
   {
    "duration": 346,
    "start_time": "2023-04-22T13:14:29.837Z"
   },
   {
    "duration": 284,
    "start_time": "2023-04-22T13:15:25.719Z"
   },
   {
    "duration": 35,
    "start_time": "2023-04-22T13:16:04.278Z"
   },
   {
    "duration": 291,
    "start_time": "2023-04-22T13:16:33.318Z"
   },
   {
    "duration": 25,
    "start_time": "2023-04-22T13:23:14.784Z"
   },
   {
    "duration": 23,
    "start_time": "2023-04-22T13:23:21.944Z"
   },
   {
    "duration": 320,
    "start_time": "2023-04-22T13:33:22.300Z"
   },
   {
    "duration": 213,
    "start_time": "2023-04-22T13:38:20.743Z"
   },
   {
    "duration": 233,
    "start_time": "2023-04-22T13:39:13.458Z"
   },
   {
    "duration": 26,
    "start_time": "2023-04-22T13:44:38.407Z"
   },
   {
    "duration": 250,
    "start_time": "2023-04-22T13:44:58.610Z"
   },
   {
    "duration": 309,
    "start_time": "2023-04-22T13:45:05.303Z"
   },
   {
    "duration": 228,
    "start_time": "2023-04-22T13:45:27.069Z"
   },
   {
    "duration": 254,
    "start_time": "2023-04-22T13:45:41.474Z"
   },
   {
    "duration": 227,
    "start_time": "2023-04-22T13:46:39.704Z"
   },
   {
    "duration": 225,
    "start_time": "2023-04-22T13:46:46.126Z"
   },
   {
    "duration": 322,
    "start_time": "2023-04-22T13:52:03.702Z"
   },
   {
    "duration": 269,
    "start_time": "2023-04-22T13:52:15.207Z"
   },
   {
    "duration": 246,
    "start_time": "2023-04-22T13:54:07.191Z"
   },
   {
    "duration": 319,
    "start_time": "2023-04-22T13:54:34.806Z"
   },
   {
    "duration": 32,
    "start_time": "2023-04-22T14:00:32.317Z"
   },
   {
    "duration": 376,
    "start_time": "2023-04-22T14:01:58.755Z"
   },
   {
    "duration": 332,
    "start_time": "2023-04-22T14:03:14.750Z"
   },
   {
    "duration": 416,
    "start_time": "2023-04-22T14:03:27.426Z"
   },
   {
    "duration": 46,
    "start_time": "2023-04-22T14:06:55.515Z"
   },
   {
    "duration": 355,
    "start_time": "2023-04-22T14:07:04.265Z"
   },
   {
    "duration": 11,
    "start_time": "2023-04-22T14:13:05.011Z"
   },
   {
    "duration": 215,
    "start_time": "2023-04-22T14:14:07.513Z"
   },
   {
    "duration": 214,
    "start_time": "2023-04-22T14:14:18.404Z"
   },
   {
    "duration": 274,
    "start_time": "2023-04-22T14:16:15.009Z"
   },
   {
    "duration": 252,
    "start_time": "2023-04-22T14:16:26.236Z"
   },
   {
    "duration": 266,
    "start_time": "2023-04-22T14:17:46.287Z"
   },
   {
    "duration": 259,
    "start_time": "2023-04-22T14:17:58.370Z"
   },
   {
    "duration": 321,
    "start_time": "2023-04-22T14:30:38.051Z"
   },
   {
    "duration": 1438,
    "start_time": "2023-04-22T16:32:23.616Z"
   },
   {
    "duration": 101,
    "start_time": "2023-04-22T16:32:25.056Z"
   },
   {
    "duration": 19,
    "start_time": "2023-04-22T16:32:25.160Z"
   },
   {
    "duration": 19,
    "start_time": "2023-04-22T16:32:25.181Z"
   },
   {
    "duration": 63,
    "start_time": "2023-04-22T16:32:25.204Z"
   },
   {
    "duration": 103,
    "start_time": "2023-04-22T16:32:25.269Z"
   },
   {
    "duration": 5,
    "start_time": "2023-04-22T16:32:25.374Z"
   },
   {
    "duration": 199,
    "start_time": "2023-04-22T16:32:25.382Z"
   },
   {
    "duration": 16,
    "start_time": "2023-04-22T16:32:25.583Z"
   },
   {
    "duration": 68,
    "start_time": "2023-04-22T16:32:25.601Z"
   },
   {
    "duration": 93,
    "start_time": "2023-04-22T16:32:25.671Z"
   },
   {
    "duration": 31,
    "start_time": "2023-04-22T16:32:25.766Z"
   },
   {
    "duration": 72,
    "start_time": "2023-04-22T16:32:25.799Z"
   },
   {
    "duration": 36,
    "start_time": "2023-04-22T16:32:25.875Z"
   },
   {
    "duration": 131,
    "start_time": "2023-04-22T16:32:25.913Z"
   },
   {
    "duration": 481,
    "start_time": "2023-04-22T16:32:26.052Z"
   },
   {
    "duration": 335,
    "start_time": "2023-04-22T16:32:26.538Z"
   },
   {
    "duration": 392,
    "start_time": "2023-04-22T16:32:26.875Z"
   },
   {
    "duration": 350,
    "start_time": "2023-04-22T16:32:27.270Z"
   },
   {
    "duration": 335,
    "start_time": "2023-04-22T16:32:27.626Z"
   },
   {
    "duration": 149,
    "start_time": "2023-04-22T16:37:35.264Z"
   },
   {
    "duration": 27,
    "start_time": "2023-04-22T16:38:22.153Z"
   },
   {
    "duration": 8,
    "start_time": "2023-04-22T16:38:38.836Z"
   },
   {
    "duration": 19,
    "start_time": "2023-04-22T16:38:44.034Z"
   },
   {
    "duration": 20,
    "start_time": "2023-04-22T16:41:16.584Z"
   },
   {
    "duration": 248,
    "start_time": "2023-04-22T16:41:41.647Z"
   },
   {
    "duration": 238,
    "start_time": "2023-04-22T16:44:19.421Z"
   },
   {
    "duration": 372,
    "start_time": "2023-04-22T16:44:51.411Z"
   },
   {
    "duration": 196,
    "start_time": "2023-04-22T16:44:54.244Z"
   },
   {
    "duration": 11,
    "start_time": "2023-04-22T16:45:52.610Z"
   },
   {
    "duration": 1544,
    "start_time": "2023-04-22T16:46:03.623Z"
   },
   {
    "duration": 47,
    "start_time": "2023-04-22T16:46:05.170Z"
   },
   {
    "duration": 26,
    "start_time": "2023-04-22T16:46:05.225Z"
   },
   {
    "duration": 23,
    "start_time": "2023-04-22T16:46:05.255Z"
   },
   {
    "duration": 32,
    "start_time": "2023-04-22T16:46:05.281Z"
   },
   {
    "duration": 90,
    "start_time": "2023-04-22T16:46:05.322Z"
   },
   {
    "duration": 19,
    "start_time": "2023-04-22T16:46:05.418Z"
   },
   {
    "duration": 171,
    "start_time": "2023-04-22T16:46:05.444Z"
   },
   {
    "duration": 8,
    "start_time": "2023-04-22T16:46:05.620Z"
   },
   {
    "duration": 40,
    "start_time": "2023-04-22T16:46:05.631Z"
   },
   {
    "duration": 86,
    "start_time": "2023-04-22T16:46:05.674Z"
   },
   {
    "duration": 22,
    "start_time": "2023-04-22T16:46:05.762Z"
   },
   {
    "duration": 53,
    "start_time": "2023-04-22T16:46:05.786Z"
   },
   {
    "duration": 64,
    "start_time": "2023-04-22T16:46:05.845Z"
   },
   {
    "duration": 101,
    "start_time": "2023-04-22T16:46:05.915Z"
   },
   {
    "duration": 436,
    "start_time": "2023-04-22T16:46:06.021Z"
   },
   {
    "duration": 339,
    "start_time": "2023-04-22T16:46:06.463Z"
   },
   {
    "duration": 438,
    "start_time": "2023-04-22T16:46:06.809Z"
   },
   {
    "duration": 379,
    "start_time": "2023-04-22T16:46:07.252Z"
   },
   {
    "duration": 413,
    "start_time": "2023-04-22T16:46:07.634Z"
   },
   {
    "duration": 25,
    "start_time": "2023-04-22T16:46:08.057Z"
   },
   {
    "duration": 246,
    "start_time": "2023-04-22T16:46:08.086Z"
   },
   {
    "duration": 9,
    "start_time": "2023-04-22T16:46:08.344Z"
   },
   {
    "duration": 5,
    "start_time": "2023-04-22T16:47:19.770Z"
   },
   {
    "duration": 20,
    "start_time": "2023-04-22T16:48:34.080Z"
   },
   {
    "duration": 201,
    "start_time": "2023-04-22T16:48:35.712Z"
   },
   {
    "duration": 14,
    "start_time": "2023-04-22T16:48:47.241Z"
   },
   {
    "duration": 267,
    "start_time": "2023-04-22T16:48:47.873Z"
   },
   {
    "duration": 14,
    "start_time": "2023-04-22T16:55:42.733Z"
   },
   {
    "duration": 15,
    "start_time": "2023-04-22T16:55:54.839Z"
   },
   {
    "duration": 228,
    "start_time": "2023-04-22T16:56:59.966Z"
   },
   {
    "duration": 1498,
    "start_time": "2023-04-22T16:57:06.858Z"
   },
   {
    "duration": 1650,
    "start_time": "2023-04-22T16:57:15.456Z"
   },
   {
    "duration": 40,
    "start_time": "2023-04-22T16:57:17.108Z"
   },
   {
    "duration": 19,
    "start_time": "2023-04-22T16:57:17.151Z"
   },
   {
    "duration": 64,
    "start_time": "2023-04-22T16:57:17.173Z"
   },
   {
    "duration": 20,
    "start_time": "2023-04-22T16:57:17.241Z"
   },
   {
    "duration": 77,
    "start_time": "2023-04-22T16:57:17.263Z"
   },
   {
    "duration": 7,
    "start_time": "2023-04-22T16:57:17.342Z"
   },
   {
    "duration": 106,
    "start_time": "2023-04-22T16:57:17.359Z"
   },
   {
    "duration": 11,
    "start_time": "2023-04-22T16:57:17.468Z"
   },
   {
    "duration": 51,
    "start_time": "2023-04-22T16:57:17.482Z"
   },
   {
    "duration": 26,
    "start_time": "2023-04-22T16:57:17.535Z"
   },
   {
    "duration": 43,
    "start_time": "2023-04-22T16:57:17.564Z"
   },
   {
    "duration": 58,
    "start_time": "2023-04-22T16:57:17.611Z"
   },
   {
    "duration": 45,
    "start_time": "2023-04-22T16:57:17.674Z"
   },
   {
    "duration": 66,
    "start_time": "2023-04-22T16:57:17.722Z"
   },
   {
    "duration": 490,
    "start_time": "2023-04-22T16:57:17.795Z"
   },
   {
    "duration": 330,
    "start_time": "2023-04-22T16:57:18.293Z"
   },
   {
    "duration": 403,
    "start_time": "2023-04-22T16:57:18.625Z"
   },
   {
    "duration": 380,
    "start_time": "2023-04-22T16:57:19.031Z"
   },
   {
    "duration": 385,
    "start_time": "2023-04-22T16:57:19.414Z"
   },
   {
    "duration": 18,
    "start_time": "2023-04-22T16:57:19.801Z"
   },
   {
    "duration": 239,
    "start_time": "2023-04-22T16:57:19.821Z"
   },
   {
    "duration": 5,
    "start_time": "2023-04-22T16:57:20.063Z"
   },
   {
    "duration": 1813,
    "start_time": "2023-04-22T16:57:20.071Z"
   },
   {
    "duration": 1165,
    "start_time": "2023-04-22T16:57:37.968Z"
   },
   {
    "duration": 232,
    "start_time": "2023-04-22T16:57:46.454Z"
   },
   {
    "duration": 309,
    "start_time": "2023-04-22T16:59:11.962Z"
   },
   {
    "duration": 180,
    "start_time": "2023-04-22T16:59:16.573Z"
   },
   {
    "duration": 201,
    "start_time": "2023-04-22T17:00:02.277Z"
   },
   {
    "duration": 4,
    "start_time": "2023-04-22T17:01:48.314Z"
   },
   {
    "duration": 5,
    "start_time": "2023-04-22T17:02:19.548Z"
   },
   {
    "duration": 3,
    "start_time": "2023-04-22T17:12:12.816Z"
   },
   {
    "duration": 119,
    "start_time": "2023-04-22T17:21:42.299Z"
   },
   {
    "duration": 279,
    "start_time": "2023-04-22T17:23:38.644Z"
   },
   {
    "duration": 1386,
    "start_time": "2023-04-22T17:33:07.811Z"
   },
   {
    "duration": 1100,
    "start_time": "2023-04-22T17:33:38.602Z"
   },
   {
    "duration": 1229,
    "start_time": "2023-04-22T17:34:10.718Z"
   },
   {
    "duration": 1366,
    "start_time": "2023-04-22T17:35:27.511Z"
   },
   {
    "duration": 47,
    "start_time": "2023-04-22T17:35:28.879Z"
   },
   {
    "duration": 19,
    "start_time": "2023-04-22T17:35:28.928Z"
   },
   {
    "duration": 16,
    "start_time": "2023-04-22T17:35:28.950Z"
   },
   {
    "duration": 14,
    "start_time": "2023-04-22T17:35:28.969Z"
   },
   {
    "duration": 72,
    "start_time": "2023-04-22T17:35:28.984Z"
   },
   {
    "duration": 5,
    "start_time": "2023-04-22T17:35:29.058Z"
   },
   {
    "duration": 86,
    "start_time": "2023-04-22T17:35:29.065Z"
   },
   {
    "duration": 8,
    "start_time": "2023-04-22T17:35:29.154Z"
   },
   {
    "duration": 20,
    "start_time": "2023-04-22T17:35:29.167Z"
   },
   {
    "duration": 67,
    "start_time": "2023-04-22T17:35:29.191Z"
   },
   {
    "duration": 40,
    "start_time": "2023-04-22T17:35:29.260Z"
   },
   {
    "duration": 41,
    "start_time": "2023-04-22T17:35:29.302Z"
   },
   {
    "duration": 55,
    "start_time": "2023-04-22T17:35:29.347Z"
   },
   {
    "duration": 23,
    "start_time": "2023-04-22T17:35:29.406Z"
   },
   {
    "duration": 368,
    "start_time": "2023-04-22T17:35:29.432Z"
   },
   {
    "duration": 298,
    "start_time": "2023-04-22T17:35:29.804Z"
   },
   {
    "duration": 370,
    "start_time": "2023-04-22T17:35:30.104Z"
   },
   {
    "duration": 371,
    "start_time": "2023-04-22T17:35:30.476Z"
   },
   {
    "duration": 420,
    "start_time": "2023-04-22T17:35:30.850Z"
   },
   {
    "duration": 25,
    "start_time": "2023-04-22T17:35:31.274Z"
   },
   {
    "duration": 229,
    "start_time": "2023-04-22T17:35:31.302Z"
   },
   {
    "duration": 7,
    "start_time": "2023-04-22T17:35:31.546Z"
   },
   {
    "duration": 231,
    "start_time": "2023-04-22T17:35:31.555Z"
   },
   {
    "duration": 19,
    "start_time": "2023-04-22T17:35:31.790Z"
   },
   {
    "duration": 388,
    "start_time": "2023-04-22T17:35:31.815Z"
   },
   {
    "duration": 1269,
    "start_time": "2023-04-22T17:35:32.209Z"
   },
   {
    "duration": 335,
    "start_time": "2023-04-22T18:07:37.116Z"
   },
   {
    "duration": 1129,
    "start_time": "2023-04-22T18:08:31.511Z"
   },
   {
    "duration": 1569,
    "start_time": "2023-04-22T18:13:43.611Z"
   },
   {
    "duration": 1643,
    "start_time": "2023-04-22T18:15:20.376Z"
   },
   {
    "duration": 1006,
    "start_time": "2023-04-22T18:15:39.356Z"
   },
   {
    "duration": 1107,
    "start_time": "2023-04-22T18:16:05.340Z"
   },
   {
    "duration": 329,
    "start_time": "2023-04-22T18:17:01.979Z"
   },
   {
    "duration": 1291,
    "start_time": "2023-04-22T18:17:33.665Z"
   },
   {
    "duration": 34,
    "start_time": "2023-04-22T18:17:34.959Z"
   },
   {
    "duration": 20,
    "start_time": "2023-04-22T18:17:34.998Z"
   },
   {
    "duration": 21,
    "start_time": "2023-04-22T18:17:35.021Z"
   },
   {
    "duration": 14,
    "start_time": "2023-04-22T18:17:35.044Z"
   },
   {
    "duration": 47,
    "start_time": "2023-04-22T18:17:35.060Z"
   },
   {
    "duration": 4,
    "start_time": "2023-04-22T18:17:35.111Z"
   },
   {
    "duration": 62,
    "start_time": "2023-04-22T18:17:35.117Z"
   },
   {
    "duration": 11,
    "start_time": "2023-04-22T18:17:35.181Z"
   },
   {
    "duration": 32,
    "start_time": "2023-04-22T18:17:35.197Z"
   },
   {
    "duration": 15,
    "start_time": "2023-04-22T18:17:35.231Z"
   },
   {
    "duration": 25,
    "start_time": "2023-04-22T18:17:35.248Z"
   },
   {
    "duration": 41,
    "start_time": "2023-04-22T18:17:35.275Z"
   },
   {
    "duration": 33,
    "start_time": "2023-04-22T18:17:35.319Z"
   },
   {
    "duration": 48,
    "start_time": "2023-04-22T18:17:35.354Z"
   },
   {
    "duration": 350,
    "start_time": "2023-04-22T18:17:35.410Z"
   },
   {
    "duration": 273,
    "start_time": "2023-04-22T18:17:35.761Z"
   },
   {
    "duration": 401,
    "start_time": "2023-04-22T18:17:36.037Z"
   },
   {
    "duration": 313,
    "start_time": "2023-04-22T18:17:36.441Z"
   },
   {
    "duration": 381,
    "start_time": "2023-04-22T18:17:36.756Z"
   },
   {
    "duration": 12,
    "start_time": "2023-04-22T18:17:37.139Z"
   },
   {
    "duration": 284,
    "start_time": "2023-04-22T18:17:37.152Z"
   },
   {
    "duration": 6,
    "start_time": "2023-04-22T18:17:37.438Z"
   },
   {
    "duration": 191,
    "start_time": "2023-04-22T18:17:37.447Z"
   },
   {
    "duration": 6,
    "start_time": "2023-04-22T18:17:37.641Z"
   },
   {
    "duration": 366,
    "start_time": "2023-04-22T18:17:37.649Z"
   },
   {
    "duration": 352,
    "start_time": "2023-04-22T18:17:38.018Z"
   },
   {
    "duration": 320,
    "start_time": "2023-04-22T18:28:37.808Z"
   },
   {
    "duration": 226,
    "start_time": "2023-04-22T18:29:13.054Z"
   },
   {
    "duration": 368,
    "start_time": "2023-04-22T18:29:23.606Z"
   },
   {
    "duration": 235,
    "start_time": "2023-04-22T18:43:07.788Z"
   },
   {
    "duration": 162,
    "start_time": "2023-04-22T18:44:08.083Z"
   },
   {
    "duration": 163,
    "start_time": "2023-04-22T18:44:52.472Z"
   },
   {
    "duration": 190,
    "start_time": "2023-04-22T18:45:07.211Z"
   },
   {
    "duration": 177,
    "start_time": "2023-04-22T18:45:14.132Z"
   },
   {
    "duration": 138,
    "start_time": "2023-04-22T18:45:32.402Z"
   },
   {
    "duration": 204,
    "start_time": "2023-04-22T18:51:42.514Z"
   },
   {
    "duration": 952,
    "start_time": "2023-04-22T19:19:31.180Z"
   },
   {
    "duration": 51,
    "start_time": "2023-04-22T19:20:04.439Z"
   },
   {
    "duration": 15,
    "start_time": "2023-04-22T19:22:52.507Z"
   },
   {
    "duration": 1261,
    "start_time": "2023-04-22T19:29:58.818Z"
   },
   {
    "duration": 1375,
    "start_time": "2023-04-22T19:37:22.635Z"
   },
   {
    "duration": 29,
    "start_time": "2023-04-22T19:37:24.013Z"
   },
   {
    "duration": 18,
    "start_time": "2023-04-22T19:37:24.044Z"
   },
   {
    "duration": 69,
    "start_time": "2023-04-22T19:37:24.064Z"
   },
   {
    "duration": 20,
    "start_time": "2023-04-22T19:37:24.136Z"
   },
   {
    "duration": 59,
    "start_time": "2023-04-22T19:37:24.158Z"
   },
   {
    "duration": 5,
    "start_time": "2023-04-22T19:37:24.219Z"
   },
   {
    "duration": 86,
    "start_time": "2023-04-22T19:37:24.226Z"
   },
   {
    "duration": 7,
    "start_time": "2023-04-22T19:37:24.314Z"
   },
   {
    "duration": 30,
    "start_time": "2023-04-22T19:37:24.323Z"
   },
   {
    "duration": 16,
    "start_time": "2023-04-22T19:37:24.356Z"
   },
   {
    "duration": 35,
    "start_time": "2023-04-22T19:37:24.375Z"
   },
   {
    "duration": 46,
    "start_time": "2023-04-22T19:37:24.412Z"
   },
   {
    "duration": 40,
    "start_time": "2023-04-22T19:37:24.462Z"
   },
   {
    "duration": 41,
    "start_time": "2023-04-22T19:37:24.509Z"
   },
   {
    "duration": 361,
    "start_time": "2023-04-22T19:37:24.553Z"
   },
   {
    "duration": 286,
    "start_time": "2023-04-22T19:37:24.917Z"
   },
   {
    "duration": 312,
    "start_time": "2023-04-22T19:37:25.206Z"
   },
   {
    "duration": 279,
    "start_time": "2023-04-22T19:37:25.520Z"
   },
   {
    "duration": 325,
    "start_time": "2023-04-22T19:37:25.801Z"
   },
   {
    "duration": 12,
    "start_time": "2023-04-22T19:37:26.128Z"
   },
   {
    "duration": 213,
    "start_time": "2023-04-22T19:37:26.143Z"
   },
   {
    "duration": 5,
    "start_time": "2023-04-22T19:37:26.358Z"
   },
   {
    "duration": 214,
    "start_time": "2023-04-22T19:37:26.365Z"
   },
   {
    "duration": 14,
    "start_time": "2023-04-22T19:37:26.582Z"
   },
   {
    "duration": 367,
    "start_time": "2023-04-22T19:37:26.601Z"
   },
   {
    "duration": 470,
    "start_time": "2023-04-22T19:37:26.971Z"
   },
   {
    "duration": 325,
    "start_time": "2023-04-22T19:37:27.444Z"
   },
   {
    "duration": 178,
    "start_time": "2023-04-22T19:37:27.771Z"
   },
   {
    "duration": 57,
    "start_time": "2023-04-22T19:37:27.951Z"
   },
   {
    "duration": 16,
    "start_time": "2023-04-22T19:37:28.012Z"
   },
   {
    "duration": 1409,
    "start_time": "2023-04-23T12:20:45.858Z"
   },
   {
    "duration": 83,
    "start_time": "2023-04-23T12:20:47.269Z"
   },
   {
    "duration": 14,
    "start_time": "2023-04-23T12:20:47.354Z"
   },
   {
    "duration": 13,
    "start_time": "2023-04-23T12:20:47.371Z"
   },
   {
    "duration": 12,
    "start_time": "2023-04-23T12:20:47.386Z"
   },
   {
    "duration": 76,
    "start_time": "2023-04-23T12:20:47.400Z"
   },
   {
    "duration": 4,
    "start_time": "2023-04-23T12:20:47.478Z"
   },
   {
    "duration": 91,
    "start_time": "2023-04-23T12:20:47.484Z"
   },
   {
    "duration": 7,
    "start_time": "2023-04-23T12:20:47.578Z"
   },
   {
    "duration": 8,
    "start_time": "2023-04-23T12:20:47.588Z"
   },
   {
    "duration": 6,
    "start_time": "2023-04-23T12:20:47.597Z"
   },
   {
    "duration": 15,
    "start_time": "2023-04-23T12:20:47.605Z"
   },
   {
    "duration": 27,
    "start_time": "2023-04-23T12:20:47.622Z"
   },
   {
    "duration": 24,
    "start_time": "2023-04-23T12:20:47.652Z"
   },
   {
    "duration": 44,
    "start_time": "2023-04-23T12:20:47.677Z"
   },
   {
    "duration": 312,
    "start_time": "2023-04-23T12:20:47.723Z"
   },
   {
    "duration": 260,
    "start_time": "2023-04-23T12:20:48.037Z"
   },
   {
    "duration": 363,
    "start_time": "2023-04-23T12:20:48.299Z"
   },
   {
    "duration": 315,
    "start_time": "2023-04-23T12:20:48.664Z"
   },
   {
    "duration": 355,
    "start_time": "2023-04-23T12:20:48.983Z"
   },
   {
    "duration": 10,
    "start_time": "2023-04-23T12:20:49.340Z"
   },
   {
    "duration": 172,
    "start_time": "2023-04-23T12:20:49.352Z"
   },
   {
    "duration": 5,
    "start_time": "2023-04-23T12:20:49.525Z"
   },
   {
    "duration": 162,
    "start_time": "2023-04-23T12:20:49.532Z"
   },
   {
    "duration": 4,
    "start_time": "2023-04-23T12:20:49.696Z"
   },
   {
    "duration": 324,
    "start_time": "2023-04-23T12:20:49.702Z"
   },
   {
    "duration": 318,
    "start_time": "2023-04-23T12:20:50.028Z"
   },
   {
    "duration": 251,
    "start_time": "2023-04-23T12:20:50.349Z"
   },
   {
    "duration": 162,
    "start_time": "2023-04-23T12:20:50.601Z"
   },
   {
    "duration": 32,
    "start_time": "2023-04-23T12:20:50.765Z"
   },
   {
    "duration": 22,
    "start_time": "2023-04-23T12:20:50.813Z"
   },
   {
    "duration": 1267,
    "start_time": "2023-04-23T13:43:04.881Z"
   },
   {
    "duration": 28,
    "start_time": "2023-04-23T13:43:06.151Z"
   },
   {
    "duration": 12,
    "start_time": "2023-04-23T13:43:06.181Z"
   },
   {
    "duration": 14,
    "start_time": "2023-04-23T13:43:06.195Z"
   },
   {
    "duration": 12,
    "start_time": "2023-04-23T13:43:06.211Z"
   },
   {
    "duration": 33,
    "start_time": "2023-04-23T13:43:06.224Z"
   },
   {
    "duration": 4,
    "start_time": "2023-04-23T13:43:06.259Z"
   },
   {
    "duration": 61,
    "start_time": "2023-04-23T13:43:06.264Z"
   },
   {
    "duration": 6,
    "start_time": "2023-04-23T13:43:06.326Z"
   },
   {
    "duration": 9,
    "start_time": "2023-04-23T13:43:06.333Z"
   },
   {
    "duration": 6,
    "start_time": "2023-04-23T13:43:06.344Z"
   },
   {
    "duration": 16,
    "start_time": "2023-04-23T13:43:06.352Z"
   },
   {
    "duration": 55,
    "start_time": "2023-04-23T13:43:06.369Z"
   },
   {
    "duration": 23,
    "start_time": "2023-04-23T13:43:06.427Z"
   },
   {
    "duration": 18,
    "start_time": "2023-04-23T13:43:06.452Z"
   },
   {
    "duration": 359,
    "start_time": "2023-04-23T13:43:06.472Z"
   },
   {
    "duration": 265,
    "start_time": "2023-04-23T13:43:06.832Z"
   },
   {
    "duration": 341,
    "start_time": "2023-04-23T13:43:07.098Z"
   },
   {
    "duration": 233,
    "start_time": "2023-04-23T13:43:07.440Z"
   },
   {
    "duration": 325,
    "start_time": "2023-04-23T13:43:07.674Z"
   },
   {
    "duration": 14,
    "start_time": "2023-04-23T13:43:08.000Z"
   },
   {
    "duration": 162,
    "start_time": "2023-04-23T13:43:08.016Z"
   },
   {
    "duration": 4,
    "start_time": "2023-04-23T13:43:08.180Z"
   },
   {
    "duration": 176,
    "start_time": "2023-04-23T13:43:08.187Z"
   },
   {
    "duration": 4,
    "start_time": "2023-04-23T13:43:08.365Z"
   },
   {
    "duration": 350,
    "start_time": "2023-04-23T13:43:08.371Z"
   },
   {
    "duration": 393,
    "start_time": "2023-04-23T13:43:08.723Z"
   },
   {
    "duration": 261,
    "start_time": "2023-04-23T13:43:09.119Z"
   },
   {
    "duration": 174,
    "start_time": "2023-04-23T13:43:09.382Z"
   },
   {
    "duration": 30,
    "start_time": "2023-04-23T13:43:09.557Z"
   },
   {
    "duration": 37,
    "start_time": "2023-04-23T13:43:09.589Z"
   },
   {
    "duration": 52,
    "start_time": "2023-04-23T20:11:27.277Z"
   },
   {
    "duration": 1422,
    "start_time": "2023-04-23T20:11:31.807Z"
   },
   {
    "duration": 63,
    "start_time": "2023-04-23T20:11:34.140Z"
   },
   {
    "duration": 15,
    "start_time": "2023-04-23T20:11:35.145Z"
   },
   {
    "duration": 15,
    "start_time": "2023-04-23T20:11:37.320Z"
   },
   {
    "duration": 12,
    "start_time": "2023-04-23T20:11:43.571Z"
   },
   {
    "duration": 11,
    "start_time": "2023-04-23T20:12:02.612Z"
   },
   {
    "duration": 81,
    "start_time": "2023-04-23T20:15:16.861Z"
   },
   {
    "duration": 4,
    "start_time": "2023-04-23T20:15:18.099Z"
   },
   {
    "duration": 111,
    "start_time": "2023-04-23T20:15:19.529Z"
   },
   {
    "duration": 7,
    "start_time": "2023-04-23T20:15:21.125Z"
   },
   {
    "duration": 6,
    "start_time": "2023-04-23T20:15:23.433Z"
   },
   {
    "duration": 6,
    "start_time": "2023-04-23T20:15:23.927Z"
   },
   {
    "duration": 18,
    "start_time": "2023-04-23T20:15:25.063Z"
   },
   {
    "duration": 28,
    "start_time": "2023-04-23T20:15:36.839Z"
   },
   {
    "duration": 26,
    "start_time": "2023-04-23T20:15:37.078Z"
   },
   {
    "duration": 20,
    "start_time": "2023-04-23T20:15:38.593Z"
   },
   {
    "duration": 343,
    "start_time": "2023-04-23T20:15:40.536Z"
   },
   {
    "duration": 264,
    "start_time": "2023-04-23T20:15:47.503Z"
   },
   {
    "duration": 408,
    "start_time": "2023-04-23T20:15:52.457Z"
   },
   {
    "duration": 258,
    "start_time": "2023-04-23T20:16:03.848Z"
   },
   {
    "duration": 225,
    "start_time": "2023-04-23T20:16:59.314Z"
   },
   {
    "duration": 27,
    "start_time": "2023-04-23T20:18:53.146Z"
   },
   {
    "duration": 216,
    "start_time": "2023-04-23T20:18:57.070Z"
   },
   {
    "duration": 256,
    "start_time": "2023-04-23T20:19:01.203Z"
   },
   {
    "duration": 428,
    "start_time": "2023-04-23T20:19:05.486Z"
   },
   {
    "duration": 778,
    "start_time": "2023-04-23T20:19:27.798Z"
   },
   {
    "duration": 237,
    "start_time": "2023-04-23T20:19:49.423Z"
   },
   {
    "duration": 230,
    "start_time": "2023-04-23T20:20:29.560Z"
   },
   {
    "duration": 325,
    "start_time": "2023-04-23T20:22:33.673Z"
   },
   {
    "duration": 302,
    "start_time": "2023-04-23T20:22:59.843Z"
   },
   {
    "duration": 15,
    "start_time": "2023-04-23T20:23:14.975Z"
   },
   {
    "duration": 153,
    "start_time": "2023-04-23T20:23:16.994Z"
   },
   {
    "duration": 5,
    "start_time": "2023-04-23T20:23:22.524Z"
   },
   {
    "duration": 150,
    "start_time": "2023-04-23T20:23:25.485Z"
   },
   {
    "duration": 4,
    "start_time": "2023-04-23T20:23:41.992Z"
   },
   {
    "duration": 232,
    "start_time": "2023-04-23T20:23:52.359Z"
   },
   {
    "duration": 299,
    "start_time": "2023-04-23T20:25:40.124Z"
   },
   {
    "duration": 314,
    "start_time": "2023-04-23T20:27:02.606Z"
   },
   {
    "duration": 329,
    "start_time": "2023-04-23T20:27:09.879Z"
   },
   {
    "duration": 338,
    "start_time": "2023-04-23T20:28:22.084Z"
   },
   {
    "duration": 218,
    "start_time": "2023-04-23T20:31:40.105Z"
   },
   {
    "duration": 216,
    "start_time": "2023-04-23T20:31:55.245Z"
   },
   {
    "duration": 214,
    "start_time": "2023-04-23T20:33:53.934Z"
   },
   {
    "duration": 228,
    "start_time": "2023-04-23T20:34:34.827Z"
   },
   {
    "duration": 231,
    "start_time": "2023-04-23T20:34:44.719Z"
   },
   {
    "duration": 13,
    "start_time": "2023-04-23T20:40:47.494Z"
   },
   {
    "duration": 165,
    "start_time": "2023-04-23T20:43:22.659Z"
   },
   {
    "duration": 229,
    "start_time": "2023-04-23T20:44:35.113Z"
   },
   {
    "duration": 304,
    "start_time": "2023-04-23T20:44:37.022Z"
   },
   {
    "duration": 228,
    "start_time": "2023-04-23T20:45:04.116Z"
   },
   {
    "duration": 157,
    "start_time": "2023-04-23T20:45:22.446Z"
   },
   {
    "duration": 773,
    "start_time": "2023-04-23T20:46:00.643Z"
   },
   {
    "duration": 258,
    "start_time": "2023-04-23T20:48:10.459Z"
   },
   {
    "duration": 128,
    "start_time": "2023-04-23T20:48:15.345Z"
   },
   {
    "duration": 57,
    "start_time": "2023-04-23T20:48:24.375Z"
   },
   {
    "duration": 228,
    "start_time": "2023-04-23T20:48:35.586Z"
   },
   {
    "duration": 50,
    "start_time": "2023-04-23T20:48:51.899Z"
   },
   {
    "duration": 17,
    "start_time": "2023-04-23T20:52:39.580Z"
   },
   {
    "duration": 13,
    "start_time": "2023-04-23T20:57:06.218Z"
   },
   {
    "duration": 139,
    "start_time": "2023-04-23T21:11:13.045Z"
   },
   {
    "duration": 140,
    "start_time": "2023-04-23T21:11:24.899Z"
   },
   {
    "duration": 145,
    "start_time": "2023-04-23T21:11:32.825Z"
   },
   {
    "duration": 212,
    "start_time": "2023-04-23T21:11:37.421Z"
   },
   {
    "duration": 131,
    "start_time": "2023-04-23T21:11:49.219Z"
   },
   {
    "duration": 142,
    "start_time": "2023-04-23T21:11:58.209Z"
   },
   {
    "duration": 145,
    "start_time": "2023-04-23T21:12:27.482Z"
   },
   {
    "duration": 148,
    "start_time": "2023-04-23T21:12:38.111Z"
   },
   {
    "duration": 160,
    "start_time": "2023-04-23T21:12:51.415Z"
   },
   {
    "duration": 11,
    "start_time": "2023-04-23T21:13:16.146Z"
   },
   {
    "duration": 163,
    "start_time": "2023-04-23T21:13:27.687Z"
   },
   {
    "duration": 148,
    "start_time": "2023-04-23T21:13:33.448Z"
   },
   {
    "duration": 63,
    "start_time": "2023-04-23T21:13:38.138Z"
   },
   {
    "duration": 148,
    "start_time": "2023-04-23T21:13:43.313Z"
   },
   {
    "duration": 142,
    "start_time": "2023-04-23T21:13:51.549Z"
   },
   {
    "duration": 145,
    "start_time": "2023-04-23T21:16:44.269Z"
   },
   {
    "duration": 146,
    "start_time": "2023-04-23T21:17:12.935Z"
   },
   {
    "duration": 221,
    "start_time": "2023-04-23T21:18:51.487Z"
   },
   {
    "duration": 123,
    "start_time": "2023-04-23T21:19:03.800Z"
   },
   {
    "duration": 142,
    "start_time": "2023-04-23T21:19:20.044Z"
   },
   {
    "duration": 113,
    "start_time": "2023-04-23T21:19:29.454Z"
   },
   {
    "duration": 155,
    "start_time": "2023-04-23T21:19:39.339Z"
   },
   {
    "duration": 158,
    "start_time": "2023-04-23T21:19:52.185Z"
   },
   {
    "duration": 129,
    "start_time": "2023-04-23T21:19:54.798Z"
   },
   {
    "duration": 177,
    "start_time": "2023-04-23T21:20:00.635Z"
   },
   {
    "duration": 136,
    "start_time": "2023-04-23T21:20:12.794Z"
   },
   {
    "duration": 150,
    "start_time": "2023-04-23T21:21:14.587Z"
   },
   {
    "duration": 1270,
    "start_time": "2023-04-23T21:21:22.756Z"
   },
   {
    "duration": 28,
    "start_time": "2023-04-23T21:21:24.028Z"
   },
   {
    "duration": 13,
    "start_time": "2023-04-23T21:21:24.057Z"
   },
   {
    "duration": 14,
    "start_time": "2023-04-23T21:21:24.072Z"
   },
   {
    "duration": 12,
    "start_time": "2023-04-23T21:21:24.087Z"
   },
   {
    "duration": 36,
    "start_time": "2023-04-23T21:21:24.101Z"
   },
   {
    "duration": 5,
    "start_time": "2023-04-23T21:21:24.139Z"
   },
   {
    "duration": 60,
    "start_time": "2023-04-23T21:21:24.146Z"
   },
   {
    "duration": 6,
    "start_time": "2023-04-23T21:21:24.208Z"
   },
   {
    "duration": 11,
    "start_time": "2023-04-23T21:21:24.216Z"
   },
   {
    "duration": 20,
    "start_time": "2023-04-23T21:21:24.229Z"
   },
   {
    "duration": 18,
    "start_time": "2023-04-23T21:21:24.251Z"
   },
   {
    "duration": 40,
    "start_time": "2023-04-23T21:21:24.270Z"
   },
   {
    "duration": 27,
    "start_time": "2023-04-23T21:21:24.312Z"
   },
   {
    "duration": 48,
    "start_time": "2023-04-23T21:21:24.341Z"
   },
   {
    "duration": 344,
    "start_time": "2023-04-23T21:21:24.391Z"
   },
   {
    "duration": 253,
    "start_time": "2023-04-23T21:21:24.736Z"
   },
   {
    "duration": 313,
    "start_time": "2023-04-23T21:21:24.991Z"
   },
   {
    "duration": 242,
    "start_time": "2023-04-23T21:21:25.307Z"
   },
   {
    "duration": 343,
    "start_time": "2023-04-23T21:21:25.550Z"
   },
   {
    "duration": 11,
    "start_time": "2023-04-23T21:21:25.895Z"
   },
   {
    "duration": 179,
    "start_time": "2023-04-23T21:21:25.908Z"
   },
   {
    "duration": 4,
    "start_time": "2023-04-23T21:21:26.090Z"
   },
   {
    "duration": 156,
    "start_time": "2023-04-23T21:21:26.096Z"
   },
   {
    "duration": 230,
    "start_time": "2023-04-23T21:21:26.253Z"
   },
   {
    "duration": 5,
    "start_time": "2023-04-23T21:21:26.488Z"
   },
   {
    "duration": 261,
    "start_time": "2023-04-23T21:21:26.495Z"
   },
   {
    "duration": 287,
    "start_time": "2023-04-23T21:21:26.759Z"
   },
   {
    "duration": 229,
    "start_time": "2023-04-23T21:21:27.047Z"
   },
   {
    "duration": 181,
    "start_time": "2023-04-23T21:21:27.278Z"
   },
   {
    "duration": 58,
    "start_time": "2023-04-23T21:21:27.461Z"
   },
   {
    "duration": 15,
    "start_time": "2023-04-23T21:21:27.521Z"
   },
   {
    "duration": 151,
    "start_time": "2023-04-23T21:22:24.382Z"
   },
   {
    "duration": 137,
    "start_time": "2023-04-23T21:22:36.609Z"
   },
   {
    "duration": 140,
    "start_time": "2023-04-23T21:22:44.089Z"
   },
   {
    "duration": 135,
    "start_time": "2023-04-23T21:22:53.215Z"
   },
   {
    "duration": 144,
    "start_time": "2023-04-23T21:22:58.106Z"
   },
   {
    "duration": 111,
    "start_time": "2023-04-23T21:23:38.806Z"
   },
   {
    "duration": 11,
    "start_time": "2023-04-23T21:23:54.907Z"
   },
   {
    "duration": 11,
    "start_time": "2023-04-23T21:24:03.058Z"
   },
   {
    "duration": 133,
    "start_time": "2023-04-23T21:24:38.657Z"
   },
   {
    "duration": 123,
    "start_time": "2023-04-23T21:24:46.279Z"
   },
   {
    "duration": 151,
    "start_time": "2023-04-23T21:24:56.557Z"
   },
   {
    "duration": 129,
    "start_time": "2023-04-23T21:25:04.482Z"
   },
   {
    "duration": 154,
    "start_time": "2023-04-23T21:25:10.436Z"
   },
   {
    "duration": 156,
    "start_time": "2023-04-23T21:25:17.631Z"
   },
   {
    "duration": 114,
    "start_time": "2023-04-23T21:25:21.759Z"
   },
   {
    "duration": 225,
    "start_time": "2023-04-23T21:25:29.018Z"
   },
   {
    "duration": 15,
    "start_time": "2023-04-23T21:26:22.950Z"
   },
   {
    "duration": 18,
    "start_time": "2023-04-23T21:27:00.956Z"
   },
   {
    "duration": 15,
    "start_time": "2023-04-23T21:27:22.344Z"
   },
   {
    "duration": 153,
    "start_time": "2023-04-23T21:33:36.260Z"
   },
   {
    "duration": 3,
    "start_time": "2023-04-23T21:35:11.587Z"
   },
   {
    "duration": 1183,
    "start_time": "2023-04-23T21:35:48.949Z"
   },
   {
    "duration": 29,
    "start_time": "2023-04-23T21:35:50.135Z"
   },
   {
    "duration": 12,
    "start_time": "2023-04-23T21:35:50.165Z"
   },
   {
    "duration": 24,
    "start_time": "2023-04-23T21:35:50.179Z"
   },
   {
    "duration": 18,
    "start_time": "2023-04-23T21:35:50.204Z"
   },
   {
    "duration": 41,
    "start_time": "2023-04-23T21:35:50.223Z"
   },
   {
    "duration": 4,
    "start_time": "2023-04-23T21:35:50.265Z"
   },
   {
    "duration": 76,
    "start_time": "2023-04-23T21:35:50.271Z"
   },
   {
    "duration": 5,
    "start_time": "2023-04-23T21:35:50.349Z"
   },
   {
    "duration": 50,
    "start_time": "2023-04-23T21:35:50.357Z"
   },
   {
    "duration": 28,
    "start_time": "2023-04-23T21:35:50.409Z"
   },
   {
    "duration": 37,
    "start_time": "2023-04-23T21:35:50.439Z"
   },
   {
    "duration": 54,
    "start_time": "2023-04-23T21:35:50.478Z"
   },
   {
    "duration": 42,
    "start_time": "2023-04-23T21:35:50.534Z"
   },
   {
    "duration": 43,
    "start_time": "2023-04-23T21:35:50.579Z"
   },
   {
    "duration": 324,
    "start_time": "2023-04-23T21:35:50.624Z"
   },
   {
    "duration": 222,
    "start_time": "2023-04-23T21:35:50.950Z"
   },
   {
    "duration": 322,
    "start_time": "2023-04-23T21:35:51.174Z"
   },
   {
    "duration": 235,
    "start_time": "2023-04-23T21:35:51.498Z"
   },
   {
    "duration": 291,
    "start_time": "2023-04-23T21:35:51.735Z"
   },
   {
    "duration": 11,
    "start_time": "2023-04-23T21:35:52.028Z"
   },
   {
    "duration": 168,
    "start_time": "2023-04-23T21:35:52.040Z"
   },
   {
    "duration": 4,
    "start_time": "2023-04-23T21:35:52.210Z"
   },
   {
    "duration": 159,
    "start_time": "2023-04-23T21:35:52.216Z"
   },
   {
    "duration": 10,
    "start_time": "2023-04-23T21:35:52.377Z"
   },
   {
    "duration": 18,
    "start_time": "2023-04-23T21:35:52.389Z"
   },
   {
    "duration": 318,
    "start_time": "2023-04-23T21:35:52.409Z"
   },
   {
    "duration": 309,
    "start_time": "2023-04-23T21:35:52.730Z"
   },
   {
    "duration": 213,
    "start_time": "2023-04-23T21:35:53.041Z"
   },
   {
    "duration": 152,
    "start_time": "2023-04-23T21:35:53.256Z"
   },
   {
    "duration": 49,
    "start_time": "2023-04-23T21:35:53.410Z"
   },
   {
    "duration": 33,
    "start_time": "2023-04-23T21:35:53.461Z"
   },
   {
    "duration": 1298,
    "start_time": "2023-04-23T21:37:20.081Z"
   },
   {
    "duration": 28,
    "start_time": "2023-04-23T21:37:21.387Z"
   },
   {
    "duration": 13,
    "start_time": "2023-04-23T21:37:21.416Z"
   },
   {
    "duration": 24,
    "start_time": "2023-04-23T21:37:21.432Z"
   },
   {
    "duration": 13,
    "start_time": "2023-04-23T21:37:21.458Z"
   },
   {
    "duration": 35,
    "start_time": "2023-04-23T21:37:21.473Z"
   },
   {
    "duration": 4,
    "start_time": "2023-04-23T21:37:21.510Z"
   },
   {
    "duration": 64,
    "start_time": "2023-04-23T21:37:21.516Z"
   },
   {
    "duration": 6,
    "start_time": "2023-04-23T21:37:21.581Z"
   },
   {
    "duration": 26,
    "start_time": "2023-04-23T21:37:21.591Z"
   },
   {
    "duration": 18,
    "start_time": "2023-04-23T21:37:21.619Z"
   },
   {
    "duration": 24,
    "start_time": "2023-04-23T21:37:21.639Z"
   },
   {
    "duration": 32,
    "start_time": "2023-04-23T21:37:21.664Z"
   },
   {
    "duration": 24,
    "start_time": "2023-04-23T21:37:21.698Z"
   },
   {
    "duration": 46,
    "start_time": "2023-04-23T21:37:21.724Z"
   },
   {
    "duration": 309,
    "start_time": "2023-04-23T21:37:21.772Z"
   },
   {
    "duration": 230,
    "start_time": "2023-04-23T21:37:22.088Z"
   },
   {
    "duration": 313,
    "start_time": "2023-04-23T21:37:22.320Z"
   },
   {
    "duration": 246,
    "start_time": "2023-04-23T21:37:22.635Z"
   },
   {
    "duration": 325,
    "start_time": "2023-04-23T21:37:22.883Z"
   },
   {
    "duration": 12,
    "start_time": "2023-04-23T21:37:23.209Z"
   },
   {
    "duration": 180,
    "start_time": "2023-04-23T21:37:23.223Z"
   },
   {
    "duration": 4,
    "start_time": "2023-04-23T21:37:23.405Z"
   },
   {
    "duration": 168,
    "start_time": "2023-04-23T21:37:23.411Z"
   },
   {
    "duration": 2,
    "start_time": "2023-04-23T21:37:23.581Z"
   },
   {
    "duration": 24,
    "start_time": "2023-04-23T21:37:23.588Z"
   },
   {
    "duration": 315,
    "start_time": "2023-04-23T21:37:23.614Z"
   },
   {
    "duration": 319,
    "start_time": "2023-04-23T21:37:23.932Z"
   },
   {
    "duration": 247,
    "start_time": "2023-04-23T21:37:24.254Z"
   },
   {
    "duration": 155,
    "start_time": "2023-04-23T21:37:24.503Z"
   },
   {
    "duration": 60,
    "start_time": "2023-04-23T21:37:24.661Z"
   },
   {
    "duration": 17,
    "start_time": "2023-04-23T21:37:24.723Z"
   },
   {
    "duration": 56,
    "start_time": "2023-04-24T21:13:16.706Z"
   },
   {
    "duration": 1244,
    "start_time": "2023-04-24T21:13:35.767Z"
   },
   {
    "duration": 28,
    "start_time": "2023-04-24T21:13:37.014Z"
   },
   {
    "duration": 12,
    "start_time": "2023-04-24T21:13:37.044Z"
   },
   {
    "duration": 26,
    "start_time": "2023-04-24T21:13:37.059Z"
   },
   {
    "duration": 22,
    "start_time": "2023-04-24T21:13:37.087Z"
   },
   {
    "duration": 43,
    "start_time": "2023-04-24T21:13:37.111Z"
   },
   {
    "duration": 4,
    "start_time": "2023-04-24T21:13:37.156Z"
   },
   {
    "duration": 80,
    "start_time": "2023-04-24T21:13:37.161Z"
   },
   {
    "duration": 7,
    "start_time": "2023-04-24T21:13:37.243Z"
   },
   {
    "duration": 36,
    "start_time": "2023-04-24T21:13:37.254Z"
   },
   {
    "duration": 15,
    "start_time": "2023-04-24T21:13:37.292Z"
   },
   {
    "duration": 17,
    "start_time": "2023-04-24T21:13:37.310Z"
   },
   {
    "duration": 30,
    "start_time": "2023-04-24T21:13:37.329Z"
   },
   {
    "duration": 37,
    "start_time": "2023-04-24T21:13:37.361Z"
   },
   {
    "duration": 21,
    "start_time": "2023-04-24T21:13:37.399Z"
   },
   {
    "duration": 325,
    "start_time": "2023-04-24T21:13:37.422Z"
   },
   {
    "duration": 232,
    "start_time": "2023-04-24T21:13:37.749Z"
   },
   {
    "duration": 315,
    "start_time": "2023-04-24T21:13:37.983Z"
   },
   {
    "duration": 250,
    "start_time": "2023-04-24T21:13:38.299Z"
   },
   {
    "duration": 347,
    "start_time": "2023-04-24T21:13:38.551Z"
   },
   {
    "duration": 12,
    "start_time": "2023-04-24T21:13:38.900Z"
   },
   {
    "duration": 176,
    "start_time": "2023-04-24T21:13:38.913Z"
   },
   {
    "duration": 5,
    "start_time": "2023-04-24T21:13:39.091Z"
   },
   {
    "duration": 163,
    "start_time": "2023-04-24T21:13:39.097Z"
   },
   {
    "duration": 3,
    "start_time": "2023-04-24T21:13:39.262Z"
   },
   {
    "duration": 353,
    "start_time": "2023-04-24T21:13:39.267Z"
   },
   {
    "duration": 0,
    "start_time": "2023-04-24T21:13:39.623Z"
   },
   {
    "duration": 0,
    "start_time": "2023-04-24T21:13:39.624Z"
   },
   {
    "duration": 0,
    "start_time": "2023-04-24T21:13:39.626Z"
   },
   {
    "duration": 0,
    "start_time": "2023-04-24T21:13:39.628Z"
   },
   {
    "duration": 0,
    "start_time": "2023-04-24T21:13:39.629Z"
   },
   {
    "duration": 0,
    "start_time": "2023-04-24T21:13:39.631Z"
   },
   {
    "duration": 0,
    "start_time": "2023-04-24T21:13:39.633Z"
   },
   {
    "duration": 116,
    "start_time": "2023-04-24T21:13:55.640Z"
   },
   {
    "duration": 148,
    "start_time": "2023-04-24T21:14:50.104Z"
   },
   {
    "duration": 171,
    "start_time": "2023-04-24T21:16:15.480Z"
   },
   {
    "duration": 157,
    "start_time": "2023-04-24T21:16:34.922Z"
   },
   {
    "duration": 190,
    "start_time": "2023-04-24T21:19:22.383Z"
   },
   {
    "duration": 5,
    "start_time": "2023-04-24T21:22:07.863Z"
   },
   {
    "duration": 244,
    "start_time": "2023-04-24T21:22:08.670Z"
   },
   {
    "duration": 314,
    "start_time": "2023-04-24T21:22:09.619Z"
   },
   {
    "duration": 237,
    "start_time": "2023-04-24T21:22:11.390Z"
   },
   {
    "duration": 148,
    "start_time": "2023-04-24T21:22:12.757Z"
   },
   {
    "duration": 64,
    "start_time": "2023-04-24T21:22:13.508Z"
   },
   {
    "duration": 17,
    "start_time": "2023-04-24T21:22:14.573Z"
   },
   {
    "duration": 1452,
    "start_time": "2023-04-24T21:31:43.090Z"
   },
   {
    "duration": 73,
    "start_time": "2023-04-24T21:31:45.787Z"
   },
   {
    "duration": 15,
    "start_time": "2023-04-24T21:31:46.158Z"
   },
   {
    "duration": 21,
    "start_time": "2023-04-24T21:31:47.141Z"
   },
   {
    "duration": 18,
    "start_time": "2023-04-24T21:31:48.107Z"
   },
   {
    "duration": 95,
    "start_time": "2023-04-24T21:31:49.676Z"
   },
   {
    "duration": 5,
    "start_time": "2023-04-24T21:31:49.863Z"
   },
   {
    "duration": 148,
    "start_time": "2023-04-24T21:31:50.313Z"
   },
   {
    "duration": 7,
    "start_time": "2023-04-24T21:31:50.891Z"
   },
   {
    "duration": 7,
    "start_time": "2023-04-24T21:31:51.430Z"
   },
   {
    "duration": 7,
    "start_time": "2023-04-24T21:31:51.607Z"
   },
   {
    "duration": 26,
    "start_time": "2023-04-24T21:31:51.944Z"
   },
   {
    "duration": 42,
    "start_time": "2023-04-24T21:31:53.708Z"
   },
   {
    "duration": 32,
    "start_time": "2023-04-24T21:31:54.113Z"
   },
   {
    "duration": 22,
    "start_time": "2023-04-24T21:31:54.345Z"
   },
   {
    "duration": 317,
    "start_time": "2023-04-24T21:31:55.129Z"
   },
   {
    "duration": 313,
    "start_time": "2023-04-24T21:31:55.942Z"
   },
   {
    "duration": 476,
    "start_time": "2023-04-24T21:31:56.780Z"
   },
   {
    "duration": 311,
    "start_time": "2023-04-24T21:31:58.210Z"
   },
   {
    "duration": 435,
    "start_time": "2023-04-24T21:32:00.672Z"
   },
   {
    "duration": 14,
    "start_time": "2023-04-24T21:32:03.654Z"
   },
   {
    "duration": 187,
    "start_time": "2023-04-24T21:32:04.644Z"
   },
   {
    "duration": 5,
    "start_time": "2023-04-24T21:32:07.920Z"
   },
   {
    "duration": 214,
    "start_time": "2023-04-24T21:32:10.644Z"
   },
   {
    "duration": 318,
    "start_time": "2023-04-24T21:32:14.418Z"
   },
   {
    "duration": 6,
    "start_time": "2023-04-24T21:33:20.926Z"
   },
   {
    "duration": 235,
    "start_time": "2023-04-24T21:33:28.856Z"
   },
   {
    "duration": 362,
    "start_time": "2023-04-24T21:33:35.308Z"
   },
   {
    "duration": 246,
    "start_time": "2023-04-24T21:33:42.608Z"
   },
   {
    "duration": 152,
    "start_time": "2023-04-24T21:33:51.737Z"
   },
   {
    "duration": 50,
    "start_time": "2023-04-24T21:33:56.185Z"
   },
   {
    "duration": 17,
    "start_time": "2023-04-24T21:34:01.482Z"
   },
   {
    "duration": 133,
    "start_time": "2023-04-24T21:38:35.843Z"
   },
   {
    "duration": 137,
    "start_time": "2023-04-24T21:38:38.329Z"
   },
   {
    "duration": 133,
    "start_time": "2023-04-24T21:38:43.176Z"
   },
   {
    "duration": 119,
    "start_time": "2023-04-24T21:38:47.566Z"
   },
   {
    "duration": 136,
    "start_time": "2023-04-24T21:38:52.852Z"
   },
   {
    "duration": 136,
    "start_time": "2023-04-24T21:39:03.562Z"
   },
   {
    "duration": 1629,
    "start_time": "2023-04-25T16:53:13.653Z"
   },
   {
    "duration": 86,
    "start_time": "2023-04-25T16:53:15.285Z"
   },
   {
    "duration": 19,
    "start_time": "2023-04-25T16:53:15.374Z"
   },
   {
    "duration": 23,
    "start_time": "2023-04-25T16:53:15.397Z"
   },
   {
    "duration": 17,
    "start_time": "2023-04-25T16:53:15.423Z"
   },
   {
    "duration": 97,
    "start_time": "2023-04-25T16:53:15.442Z"
   },
   {
    "duration": 6,
    "start_time": "2023-04-25T16:53:15.544Z"
   },
   {
    "duration": 151,
    "start_time": "2023-04-25T16:53:15.553Z"
   },
   {
    "duration": 7,
    "start_time": "2023-04-25T16:53:15.706Z"
   },
   {
    "duration": 21,
    "start_time": "2023-04-25T16:53:15.717Z"
   },
   {
    "duration": 38,
    "start_time": "2023-04-25T16:53:15.741Z"
   },
   {
    "duration": 36,
    "start_time": "2023-04-25T16:53:15.780Z"
   },
   {
    "duration": 58,
    "start_time": "2023-04-25T16:53:15.818Z"
   },
   {
    "duration": 53,
    "start_time": "2023-04-25T16:53:15.877Z"
   },
   {
    "duration": 31,
    "start_time": "2023-04-25T16:53:15.932Z"
   },
   {
    "duration": 447,
    "start_time": "2023-04-25T16:53:15.966Z"
   },
   {
    "duration": 316,
    "start_time": "2023-04-25T16:53:16.416Z"
   },
   {
    "duration": 381,
    "start_time": "2023-04-25T16:53:16.735Z"
   },
   {
    "duration": 272,
    "start_time": "2023-04-25T16:53:17.118Z"
   },
   {
    "duration": 369,
    "start_time": "2023-04-25T16:53:17.394Z"
   },
   {
    "duration": 17,
    "start_time": "2023-04-25T16:53:17.769Z"
   },
   {
    "duration": 243,
    "start_time": "2023-04-25T16:53:17.789Z"
   },
   {
    "duration": 10,
    "start_time": "2023-04-25T16:53:18.034Z"
   },
   {
    "duration": 205,
    "start_time": "2023-04-25T16:53:18.046Z"
   },
   {
    "duration": 368,
    "start_time": "2023-04-25T16:53:18.254Z"
   },
   {
    "duration": 0,
    "start_time": "2023-04-25T16:53:18.624Z"
   },
   {
    "duration": 0,
    "start_time": "2023-04-25T16:53:18.626Z"
   },
   {
    "duration": 0,
    "start_time": "2023-04-25T16:53:18.627Z"
   },
   {
    "duration": 0,
    "start_time": "2023-04-25T16:53:18.628Z"
   },
   {
    "duration": 0,
    "start_time": "2023-04-25T16:53:18.630Z"
   },
   {
    "duration": 0,
    "start_time": "2023-04-25T16:53:18.642Z"
   },
   {
    "duration": 0,
    "start_time": "2023-04-25T16:53:18.643Z"
   },
   {
    "duration": 161,
    "start_time": "2023-04-25T16:54:04.317Z"
   },
   {
    "duration": 164,
    "start_time": "2023-04-25T16:54:51.928Z"
   },
   {
    "duration": 5,
    "start_time": "2023-04-25T17:08:21.138Z"
   },
   {
    "duration": 263,
    "start_time": "2023-04-25T17:08:21.931Z"
   },
   {
    "duration": 354,
    "start_time": "2023-04-25T17:08:23.090Z"
   },
   {
    "duration": 238,
    "start_time": "2023-04-25T17:08:25.154Z"
   },
   {
    "duration": 153,
    "start_time": "2023-04-25T17:08:26.716Z"
   },
   {
    "duration": 53,
    "start_time": "2023-04-25T17:08:27.584Z"
   },
   {
    "duration": 16,
    "start_time": "2023-04-25T17:08:28.827Z"
   }
  ],
  "kernelspec": {
   "display_name": "Python 3 (ipykernel)",
   "language": "python",
   "name": "python3"
  },
  "language_info": {
   "codemirror_mode": {
    "name": "ipython",
    "version": 3
   },
   "file_extension": ".py",
   "mimetype": "text/x-python",
   "name": "python",
   "nbconvert_exporter": "python",
   "pygments_lexer": "ipython3",
   "version": "3.9.13"
  },
  "toc": {
   "base_numbering": 1,
   "nav_menu": {},
   "number_sections": false,
   "sideBar": true,
   "skip_h1_title": true,
   "title_cell": "Table of Contents",
   "title_sidebar": "Contents",
   "toc_cell": false,
   "toc_position": {
    "height": "calc(100% - 180px)",
    "left": "10px",
    "top": "150px",
    "width": "264.875px"
   },
   "toc_section_display": true,
   "toc_window_display": false
  }
 },
 "nbformat": 4,
 "nbformat_minor": 2
}
