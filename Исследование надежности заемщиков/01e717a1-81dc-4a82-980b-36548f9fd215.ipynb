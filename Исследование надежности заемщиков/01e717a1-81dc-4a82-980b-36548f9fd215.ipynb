{
 "cells": [
  {
   "cell_type": "markdown",
   "id": "5af5c4ae",
   "metadata": {
    "deletable": false,
    "editable": false,
    "id": "c81daeeb"
   },
   "source": [
    "# Исследование надежности заемщиков\n"
   ]
  },
  {
   "cell_type": "markdown",
   "id": "e435e81a",
   "metadata": {
    "deletable": false,
    "editable": false,
    "id": "827c20bf"
   },
   "source": [
    "Во второй части проекта вы выполните шаги 3 и 4. Их вручную проверит ревьюер.\n",
    "Чтобы вам не пришлось писать код заново для шагов 1 и 2, мы добавили авторские решения в ячейки с кодом. \n",
    "\n"
   ]
  },
  {
   "cell_type": "markdown",
   "id": "4b80db3b",
   "metadata": {
    "deletable": false,
    "editable": false,
    "id": "744d7639"
   },
   "source": [
    "## Откройте таблицу и изучите общую информацию о данных"
   ]
  },
  {
   "cell_type": "markdown",
   "id": "48a3cd3b",
   "metadata": {
    "deletable": false,
    "editable": false,
    "id": "e7a14c31"
   },
   "source": [
    "**Задание 1. Импортируйте библиотеку pandas. Считайте данные из csv-файла в датафрейм и сохраните в переменную `data`. Путь к файлу:**\n",
    "\n",
    "`/datasets/data.csv`"
   ]
  },
  {
   "cell_type": "code",
   "execution_count": 1,
   "id": "657252c1",
   "metadata": {
    "deletable": false,
    "id": "7bcf75c9"
   },
   "outputs": [],
   "source": [
    "import pandas as pd\n",
    "\n",
    "try:\n",
    "    data = pd.read_csv('/datasets/data.csv')\n",
    "except:\n",
    "    data = pd.read_csv('https://code.s3.yandex.net/datasets/data.csv')"
   ]
  },
  {
   "cell_type": "markdown",
   "id": "8e69f839",
   "metadata": {
    "deletable": false,
    "editable": false,
    "id": "b8038fe3"
   },
   "source": [
    "**Задание 2. Выведите первые 20 строчек датафрейма `data` на экран.**"
   ]
  },
  {
   "cell_type": "code",
   "execution_count": 2,
   "id": "304b2e95",
   "metadata": {
    "deletable": false,
    "id": "2a7cab99",
    "outputId": "1a8f3ef2-d323-4ec2-ddf7-89670b5944c4"
   },
   "outputs": [
    {
     "data": {
      "text/html": [
       "<div>\n",
       "<style scoped>\n",
       "    .dataframe tbody tr th:only-of-type {\n",
       "        vertical-align: middle;\n",
       "    }\n",
       "\n",
       "    .dataframe tbody tr th {\n",
       "        vertical-align: top;\n",
       "    }\n",
       "\n",
       "    .dataframe thead th {\n",
       "        text-align: right;\n",
       "    }\n",
       "</style>\n",
       "<table border=\"1\" class=\"dataframe\">\n",
       "  <thead>\n",
       "    <tr style=\"text-align: right;\">\n",
       "      <th></th>\n",
       "      <th>children</th>\n",
       "      <th>days_employed</th>\n",
       "      <th>dob_years</th>\n",
       "      <th>education</th>\n",
       "      <th>education_id</th>\n",
       "      <th>family_status</th>\n",
       "      <th>family_status_id</th>\n",
       "      <th>gender</th>\n",
       "      <th>income_type</th>\n",
       "      <th>debt</th>\n",
       "      <th>total_income</th>\n",
       "      <th>purpose</th>\n",
       "    </tr>\n",
       "  </thead>\n",
       "  <tbody>\n",
       "    <tr>\n",
       "      <th>0</th>\n",
       "      <td>1</td>\n",
       "      <td>-8437.673028</td>\n",
       "      <td>42</td>\n",
       "      <td>высшее</td>\n",
       "      <td>0</td>\n",
       "      <td>женат / замужем</td>\n",
       "      <td>0</td>\n",
       "      <td>F</td>\n",
       "      <td>сотрудник</td>\n",
       "      <td>0</td>\n",
       "      <td>253875.639453</td>\n",
       "      <td>покупка жилья</td>\n",
       "    </tr>\n",
       "    <tr>\n",
       "      <th>1</th>\n",
       "      <td>1</td>\n",
       "      <td>-4024.803754</td>\n",
       "      <td>36</td>\n",
       "      <td>среднее</td>\n",
       "      <td>1</td>\n",
       "      <td>женат / замужем</td>\n",
       "      <td>0</td>\n",
       "      <td>F</td>\n",
       "      <td>сотрудник</td>\n",
       "      <td>0</td>\n",
       "      <td>112080.014102</td>\n",
       "      <td>приобретение автомобиля</td>\n",
       "    </tr>\n",
       "    <tr>\n",
       "      <th>2</th>\n",
       "      <td>0</td>\n",
       "      <td>-5623.422610</td>\n",
       "      <td>33</td>\n",
       "      <td>Среднее</td>\n",
       "      <td>1</td>\n",
       "      <td>женат / замужем</td>\n",
       "      <td>0</td>\n",
       "      <td>M</td>\n",
       "      <td>сотрудник</td>\n",
       "      <td>0</td>\n",
       "      <td>145885.952297</td>\n",
       "      <td>покупка жилья</td>\n",
       "    </tr>\n",
       "    <tr>\n",
       "      <th>3</th>\n",
       "      <td>3</td>\n",
       "      <td>-4124.747207</td>\n",
       "      <td>32</td>\n",
       "      <td>среднее</td>\n",
       "      <td>1</td>\n",
       "      <td>женат / замужем</td>\n",
       "      <td>0</td>\n",
       "      <td>M</td>\n",
       "      <td>сотрудник</td>\n",
       "      <td>0</td>\n",
       "      <td>267628.550329</td>\n",
       "      <td>дополнительное образование</td>\n",
       "    </tr>\n",
       "    <tr>\n",
       "      <th>4</th>\n",
       "      <td>0</td>\n",
       "      <td>340266.072047</td>\n",
       "      <td>53</td>\n",
       "      <td>среднее</td>\n",
       "      <td>1</td>\n",
       "      <td>гражданский брак</td>\n",
       "      <td>1</td>\n",
       "      <td>F</td>\n",
       "      <td>пенсионер</td>\n",
       "      <td>0</td>\n",
       "      <td>158616.077870</td>\n",
       "      <td>сыграть свадьбу</td>\n",
       "    </tr>\n",
       "    <tr>\n",
       "      <th>5</th>\n",
       "      <td>0</td>\n",
       "      <td>-926.185831</td>\n",
       "      <td>27</td>\n",
       "      <td>высшее</td>\n",
       "      <td>0</td>\n",
       "      <td>гражданский брак</td>\n",
       "      <td>1</td>\n",
       "      <td>M</td>\n",
       "      <td>компаньон</td>\n",
       "      <td>0</td>\n",
       "      <td>255763.565419</td>\n",
       "      <td>покупка жилья</td>\n",
       "    </tr>\n",
       "    <tr>\n",
       "      <th>6</th>\n",
       "      <td>0</td>\n",
       "      <td>-2879.202052</td>\n",
       "      <td>43</td>\n",
       "      <td>высшее</td>\n",
       "      <td>0</td>\n",
       "      <td>женат / замужем</td>\n",
       "      <td>0</td>\n",
       "      <td>F</td>\n",
       "      <td>компаньон</td>\n",
       "      <td>0</td>\n",
       "      <td>240525.971920</td>\n",
       "      <td>операции с жильем</td>\n",
       "    </tr>\n",
       "    <tr>\n",
       "      <th>7</th>\n",
       "      <td>0</td>\n",
       "      <td>-152.779569</td>\n",
       "      <td>50</td>\n",
       "      <td>СРЕДНЕЕ</td>\n",
       "      <td>1</td>\n",
       "      <td>женат / замужем</td>\n",
       "      <td>0</td>\n",
       "      <td>M</td>\n",
       "      <td>сотрудник</td>\n",
       "      <td>0</td>\n",
       "      <td>135823.934197</td>\n",
       "      <td>образование</td>\n",
       "    </tr>\n",
       "    <tr>\n",
       "      <th>8</th>\n",
       "      <td>2</td>\n",
       "      <td>-6929.865299</td>\n",
       "      <td>35</td>\n",
       "      <td>ВЫСШЕЕ</td>\n",
       "      <td>0</td>\n",
       "      <td>гражданский брак</td>\n",
       "      <td>1</td>\n",
       "      <td>F</td>\n",
       "      <td>сотрудник</td>\n",
       "      <td>0</td>\n",
       "      <td>95856.832424</td>\n",
       "      <td>на проведение свадьбы</td>\n",
       "    </tr>\n",
       "    <tr>\n",
       "      <th>9</th>\n",
       "      <td>0</td>\n",
       "      <td>-2188.756445</td>\n",
       "      <td>41</td>\n",
       "      <td>среднее</td>\n",
       "      <td>1</td>\n",
       "      <td>женат / замужем</td>\n",
       "      <td>0</td>\n",
       "      <td>M</td>\n",
       "      <td>сотрудник</td>\n",
       "      <td>0</td>\n",
       "      <td>144425.938277</td>\n",
       "      <td>покупка жилья для семьи</td>\n",
       "    </tr>\n",
       "    <tr>\n",
       "      <th>10</th>\n",
       "      <td>2</td>\n",
       "      <td>-4171.483647</td>\n",
       "      <td>36</td>\n",
       "      <td>высшее</td>\n",
       "      <td>0</td>\n",
       "      <td>женат / замужем</td>\n",
       "      <td>0</td>\n",
       "      <td>M</td>\n",
       "      <td>компаньон</td>\n",
       "      <td>0</td>\n",
       "      <td>113943.491460</td>\n",
       "      <td>покупка недвижимости</td>\n",
       "    </tr>\n",
       "    <tr>\n",
       "      <th>11</th>\n",
       "      <td>0</td>\n",
       "      <td>-792.701887</td>\n",
       "      <td>40</td>\n",
       "      <td>среднее</td>\n",
       "      <td>1</td>\n",
       "      <td>женат / замужем</td>\n",
       "      <td>0</td>\n",
       "      <td>F</td>\n",
       "      <td>сотрудник</td>\n",
       "      <td>0</td>\n",
       "      <td>77069.234271</td>\n",
       "      <td>покупка коммерческой недвижимости</td>\n",
       "    </tr>\n",
       "    <tr>\n",
       "      <th>12</th>\n",
       "      <td>0</td>\n",
       "      <td>NaN</td>\n",
       "      <td>65</td>\n",
       "      <td>среднее</td>\n",
       "      <td>1</td>\n",
       "      <td>гражданский брак</td>\n",
       "      <td>1</td>\n",
       "      <td>M</td>\n",
       "      <td>пенсионер</td>\n",
       "      <td>0</td>\n",
       "      <td>NaN</td>\n",
       "      <td>сыграть свадьбу</td>\n",
       "    </tr>\n",
       "    <tr>\n",
       "      <th>13</th>\n",
       "      <td>0</td>\n",
       "      <td>-1846.641941</td>\n",
       "      <td>54</td>\n",
       "      <td>неоконченное высшее</td>\n",
       "      <td>2</td>\n",
       "      <td>женат / замужем</td>\n",
       "      <td>0</td>\n",
       "      <td>F</td>\n",
       "      <td>сотрудник</td>\n",
       "      <td>0</td>\n",
       "      <td>130458.228857</td>\n",
       "      <td>приобретение автомобиля</td>\n",
       "    </tr>\n",
       "    <tr>\n",
       "      <th>14</th>\n",
       "      <td>0</td>\n",
       "      <td>-1844.956182</td>\n",
       "      <td>56</td>\n",
       "      <td>высшее</td>\n",
       "      <td>0</td>\n",
       "      <td>гражданский брак</td>\n",
       "      <td>1</td>\n",
       "      <td>F</td>\n",
       "      <td>компаньон</td>\n",
       "      <td>1</td>\n",
       "      <td>165127.911772</td>\n",
       "      <td>покупка жилой недвижимости</td>\n",
       "    </tr>\n",
       "    <tr>\n",
       "      <th>15</th>\n",
       "      <td>1</td>\n",
       "      <td>-972.364419</td>\n",
       "      <td>26</td>\n",
       "      <td>среднее</td>\n",
       "      <td>1</td>\n",
       "      <td>женат / замужем</td>\n",
       "      <td>0</td>\n",
       "      <td>F</td>\n",
       "      <td>сотрудник</td>\n",
       "      <td>0</td>\n",
       "      <td>116820.904450</td>\n",
       "      <td>строительство собственной недвижимости</td>\n",
       "    </tr>\n",
       "    <tr>\n",
       "      <th>16</th>\n",
       "      <td>0</td>\n",
       "      <td>-1719.934226</td>\n",
       "      <td>35</td>\n",
       "      <td>среднее</td>\n",
       "      <td>1</td>\n",
       "      <td>женат / замужем</td>\n",
       "      <td>0</td>\n",
       "      <td>F</td>\n",
       "      <td>сотрудник</td>\n",
       "      <td>0</td>\n",
       "      <td>289202.704229</td>\n",
       "      <td>недвижимость</td>\n",
       "    </tr>\n",
       "    <tr>\n",
       "      <th>17</th>\n",
       "      <td>0</td>\n",
       "      <td>-2369.999720</td>\n",
       "      <td>33</td>\n",
       "      <td>высшее</td>\n",
       "      <td>0</td>\n",
       "      <td>гражданский брак</td>\n",
       "      <td>1</td>\n",
       "      <td>M</td>\n",
       "      <td>сотрудник</td>\n",
       "      <td>0</td>\n",
       "      <td>90410.586745</td>\n",
       "      <td>строительство недвижимости</td>\n",
       "    </tr>\n",
       "    <tr>\n",
       "      <th>18</th>\n",
       "      <td>0</td>\n",
       "      <td>400281.136913</td>\n",
       "      <td>53</td>\n",
       "      <td>среднее</td>\n",
       "      <td>1</td>\n",
       "      <td>вдовец / вдова</td>\n",
       "      <td>2</td>\n",
       "      <td>F</td>\n",
       "      <td>пенсионер</td>\n",
       "      <td>0</td>\n",
       "      <td>56823.777243</td>\n",
       "      <td>на покупку подержанного автомобиля</td>\n",
       "    </tr>\n",
       "    <tr>\n",
       "      <th>19</th>\n",
       "      <td>0</td>\n",
       "      <td>-10038.818549</td>\n",
       "      <td>48</td>\n",
       "      <td>СРЕДНЕЕ</td>\n",
       "      <td>1</td>\n",
       "      <td>в разводе</td>\n",
       "      <td>3</td>\n",
       "      <td>F</td>\n",
       "      <td>сотрудник</td>\n",
       "      <td>0</td>\n",
       "      <td>242831.107982</td>\n",
       "      <td>на покупку своего автомобиля</td>\n",
       "    </tr>\n",
       "  </tbody>\n",
       "</table>\n",
       "</div>"
      ],
      "text/plain": [
       "    children  days_employed  dob_years            education  education_id  \\\n",
       "0          1   -8437.673028         42               высшее             0   \n",
       "1          1   -4024.803754         36              среднее             1   \n",
       "2          0   -5623.422610         33              Среднее             1   \n",
       "3          3   -4124.747207         32              среднее             1   \n",
       "4          0  340266.072047         53              среднее             1   \n",
       "5          0    -926.185831         27               высшее             0   \n",
       "6          0   -2879.202052         43               высшее             0   \n",
       "7          0    -152.779569         50              СРЕДНЕЕ             1   \n",
       "8          2   -6929.865299         35               ВЫСШЕЕ             0   \n",
       "9          0   -2188.756445         41              среднее             1   \n",
       "10         2   -4171.483647         36               высшее             0   \n",
       "11         0    -792.701887         40              среднее             1   \n",
       "12         0            NaN         65              среднее             1   \n",
       "13         0   -1846.641941         54  неоконченное высшее             2   \n",
       "14         0   -1844.956182         56               высшее             0   \n",
       "15         1    -972.364419         26              среднее             1   \n",
       "16         0   -1719.934226         35              среднее             1   \n",
       "17         0   -2369.999720         33               высшее             0   \n",
       "18         0  400281.136913         53              среднее             1   \n",
       "19         0  -10038.818549         48              СРЕДНЕЕ             1   \n",
       "\n",
       "       family_status  family_status_id gender income_type  debt  \\\n",
       "0    женат / замужем                 0      F   сотрудник     0   \n",
       "1    женат / замужем                 0      F   сотрудник     0   \n",
       "2    женат / замужем                 0      M   сотрудник     0   \n",
       "3    женат / замужем                 0      M   сотрудник     0   \n",
       "4   гражданский брак                 1      F   пенсионер     0   \n",
       "5   гражданский брак                 1      M   компаньон     0   \n",
       "6    женат / замужем                 0      F   компаньон     0   \n",
       "7    женат / замужем                 0      M   сотрудник     0   \n",
       "8   гражданский брак                 1      F   сотрудник     0   \n",
       "9    женат / замужем                 0      M   сотрудник     0   \n",
       "10   женат / замужем                 0      M   компаньон     0   \n",
       "11   женат / замужем                 0      F   сотрудник     0   \n",
       "12  гражданский брак                 1      M   пенсионер     0   \n",
       "13   женат / замужем                 0      F   сотрудник     0   \n",
       "14  гражданский брак                 1      F   компаньон     1   \n",
       "15   женат / замужем                 0      F   сотрудник     0   \n",
       "16   женат / замужем                 0      F   сотрудник     0   \n",
       "17  гражданский брак                 1      M   сотрудник     0   \n",
       "18    вдовец / вдова                 2      F   пенсионер     0   \n",
       "19         в разводе                 3      F   сотрудник     0   \n",
       "\n",
       "     total_income                                 purpose  \n",
       "0   253875.639453                           покупка жилья  \n",
       "1   112080.014102                 приобретение автомобиля  \n",
       "2   145885.952297                           покупка жилья  \n",
       "3   267628.550329              дополнительное образование  \n",
       "4   158616.077870                         сыграть свадьбу  \n",
       "5   255763.565419                           покупка жилья  \n",
       "6   240525.971920                       операции с жильем  \n",
       "7   135823.934197                             образование  \n",
       "8    95856.832424                   на проведение свадьбы  \n",
       "9   144425.938277                 покупка жилья для семьи  \n",
       "10  113943.491460                    покупка недвижимости  \n",
       "11   77069.234271       покупка коммерческой недвижимости  \n",
       "12            NaN                         сыграть свадьбу  \n",
       "13  130458.228857                 приобретение автомобиля  \n",
       "14  165127.911772              покупка жилой недвижимости  \n",
       "15  116820.904450  строительство собственной недвижимости  \n",
       "16  289202.704229                            недвижимость  \n",
       "17   90410.586745              строительство недвижимости  \n",
       "18   56823.777243      на покупку подержанного автомобиля  \n",
       "19  242831.107982            на покупку своего автомобиля  "
      ]
     },
     "execution_count": 2,
     "metadata": {},
     "output_type": "execute_result"
    }
   ],
   "source": [
    "data.head(20)"
   ]
  },
  {
   "cell_type": "markdown",
   "id": "1ceab797",
   "metadata": {
    "deletable": false,
    "editable": false,
    "id": "1c12e233"
   },
   "source": [
    "**Задание 3. Выведите основную информацию о датафрейме с помощью метода `info()`.**"
   ]
  },
  {
   "cell_type": "code",
   "execution_count": 3,
   "id": "f1b8342e",
   "metadata": {
    "deletable": false,
    "id": "2b757bca",
    "outputId": "15376089-8dad-46c9-b520-c05248d43158"
   },
   "outputs": [
    {
     "name": "stdout",
     "output_type": "stream",
     "text": [
      "<class 'pandas.core.frame.DataFrame'>\n",
      "RangeIndex: 21525 entries, 0 to 21524\n",
      "Data columns (total 12 columns):\n",
      " #   Column            Non-Null Count  Dtype  \n",
      "---  ------            --------------  -----  \n",
      " 0   children          21525 non-null  int64  \n",
      " 1   days_employed     19351 non-null  float64\n",
      " 2   dob_years         21525 non-null  int64  \n",
      " 3   education         21525 non-null  object \n",
      " 4   education_id      21525 non-null  int64  \n",
      " 5   family_status     21525 non-null  object \n",
      " 6   family_status_id  21525 non-null  int64  \n",
      " 7   gender            21525 non-null  object \n",
      " 8   income_type       21525 non-null  object \n",
      " 9   debt              21525 non-null  int64  \n",
      " 10  total_income      19351 non-null  float64\n",
      " 11  purpose           21525 non-null  object \n",
      "dtypes: float64(2), int64(5), object(5)\n",
      "memory usage: 2.0+ MB\n"
     ]
    }
   ],
   "source": [
    "data.info()"
   ]
  },
  {
   "cell_type": "markdown",
   "id": "6d7d298b",
   "metadata": {
    "deletable": false,
    "editable": false,
    "id": "333ec665"
   },
   "source": [
    "## Предобработка данных"
   ]
  },
  {
   "cell_type": "markdown",
   "id": "e5bb687e",
   "metadata": {
    "deletable": false,
    "editable": false,
    "id": "02d92d53"
   },
   "source": [
    "### Удаление пропусков"
   ]
  },
  {
   "cell_type": "markdown",
   "id": "157a825a",
   "metadata": {
    "deletable": false,
    "editable": false,
    "id": "cd84967c"
   },
   "source": [
    "**Задание 4. Выведите количество пропущенных значений для каждого столбца. Используйте комбинацию двух методов.**"
   ]
  },
  {
   "cell_type": "code",
   "execution_count": 4,
   "id": "a9d6865f",
   "metadata": {
    "deletable": false,
    "id": "7f9b2309",
    "outputId": "81f4d817-781c-465c-ed15-91ce4446810d"
   },
   "outputs": [
    {
     "data": {
      "text/plain": [
       "children               0\n",
       "days_employed       2174\n",
       "dob_years              0\n",
       "education              0\n",
       "education_id           0\n",
       "family_status          0\n",
       "family_status_id       0\n",
       "gender                 0\n",
       "income_type            0\n",
       "debt                   0\n",
       "total_income        2174\n",
       "purpose                0\n",
       "dtype: int64"
      ]
     },
     "execution_count": 4,
     "metadata": {},
     "output_type": "execute_result"
    }
   ],
   "source": [
    "data.isna().sum()"
   ]
  },
  {
   "cell_type": "markdown",
   "id": "feed5bbc",
   "metadata": {
    "deletable": false,
    "editable": false,
    "id": "db86e27b"
   },
   "source": [
    "**Задание 5. В двух столбцах есть пропущенные значения. Один из них — `days_employed`. Пропуски в этом столбце вы обработаете на следующем этапе. Другой столбец с пропущенными значениями — `total_income` — хранит данные о доходах. На сумму дохода сильнее всего влияет тип занятости, поэтому заполнить пропуски в этом столбце нужно медианным значением по каждому типу из столбца `income_type`. Например, у человека с типом занятости `сотрудник` пропуск в столбце `total_income` должен быть заполнен медианным доходом среди всех записей с тем же типом.**"
   ]
  },
  {
   "cell_type": "code",
   "execution_count": 5,
   "id": "5025034f",
   "metadata": {
    "deletable": false,
    "id": "42006a93"
   },
   "outputs": [],
   "source": [
    "for t in data['income_type'].unique():\n",
    "    data.loc[(data['income_type'] == t) & (data['total_income'].isna()), 'total_income'] = \\\n",
    "    data.loc[(data['income_type'] == t), 'total_income'].median()"
   ]
  },
  {
   "cell_type": "markdown",
   "id": "e5f634f8",
   "metadata": {
    "deletable": false,
    "editable": false,
    "id": "89da5ece"
   },
   "source": [
    "### Обработка аномальных значений"
   ]
  },
  {
   "cell_type": "markdown",
   "id": "491a686a",
   "metadata": {
    "deletable": false,
    "editable": false,
    "id": "57964554"
   },
   "source": [
    "**Задание 6. В данных могут встречаться артефакты (аномалии) — значения, которые не отражают действительность и появились по какой-то ошибке. таким артефактом будет отрицательное количество дней трудового стажа в столбце `days_employed`. Для реальных данных это нормально. Обработайте значения в этом столбце: замените все отрицательные значения положительными с помощью метода `abs()`.**"
   ]
  },
  {
   "cell_type": "code",
   "execution_count": 6,
   "id": "c63ae27e",
   "metadata": {
    "deletable": false,
    "id": "f6f055bf"
   },
   "outputs": [],
   "source": [
    "data['days_employed'] = data['days_employed'].abs()"
   ]
  },
  {
   "cell_type": "markdown",
   "id": "577022b8",
   "metadata": {
    "deletable": false,
    "editable": false,
    "id": "6107dd2f"
   },
   "source": [
    "**Задание 7. Для каждого типа занятости выведите медианное значение трудового стажа `days_employed` в днях.**"
   ]
  },
  {
   "cell_type": "code",
   "execution_count": 7,
   "id": "2418c047",
   "metadata": {
    "deletable": false,
    "id": "85a5faf6",
    "outputId": "801ef80e-522b-4668-f34e-565af7432bcf"
   },
   "outputs": [
    {
     "data": {
      "text/plain": [
       "income_type\n",
       "безработный        366413.652744\n",
       "в декрете            3296.759962\n",
       "госслужащий          2689.368353\n",
       "компаньон            1547.382223\n",
       "пенсионер          365213.306266\n",
       "предприниматель       520.848083\n",
       "сотрудник            1574.202821\n",
       "студент               578.751554\n",
       "Name: days_employed, dtype: float64"
      ]
     },
     "execution_count": 7,
     "metadata": {},
     "output_type": "execute_result"
    }
   ],
   "source": [
    "data.groupby('income_type')['days_employed'].agg('median')"
   ]
  },
  {
   "cell_type": "markdown",
   "id": "4c784947",
   "metadata": {
    "deletable": false,
    "editable": false,
    "id": "38d1a030"
   },
   "source": [
    "У двух типов (безработные и пенсионеры) получатся аномально большие значения. Исправить такие значения сложно, поэтому оставьте их как есть. Тем более этот столбец не понадобится вам для исследования."
   ]
  },
  {
   "cell_type": "markdown",
   "id": "a7a8e515",
   "metadata": {
    "deletable": false,
    "editable": false,
    "id": "d8a9f147"
   },
   "source": [
    "**Задание 8. Выведите перечень уникальных значений столбца `children`.**"
   ]
  },
  {
   "cell_type": "code",
   "execution_count": 8,
   "id": "5a91c473",
   "metadata": {
    "deletable": false,
    "id": "ef5056eb",
    "outputId": "6975b15c-7f95-4697-d16d-a0c79b657b03"
   },
   "outputs": [
    {
     "data": {
      "text/plain": [
       "array([ 1,  0,  3,  2, -1,  4, 20,  5])"
      ]
     },
     "execution_count": 8,
     "metadata": {},
     "output_type": "execute_result"
    }
   ],
   "source": [
    "data['children'].unique()"
   ]
  },
  {
   "cell_type": "markdown",
   "id": "5de4b66d",
   "metadata": {
    "deletable": false,
    "editable": false,
    "id": "40b9ebf2"
   },
   "source": [
    "**Задание 9. В столбце `children` есть два аномальных значения. Удалите строки, в которых встречаются такие аномальные значения из датафрейма `data`.**"
   ]
  },
  {
   "cell_type": "code",
   "execution_count": 9,
   "id": "43fde626",
   "metadata": {
    "deletable": false,
    "id": "3ff9801d"
   },
   "outputs": [],
   "source": [
    "data = data[(data['children'] != -1) & (data['children'] != 20)]"
   ]
  },
  {
   "cell_type": "markdown",
   "id": "a6ca87dd",
   "metadata": {
    "deletable": false,
    "editable": false,
    "id": "bbc4d0ce"
   },
   "source": [
    "**Задание 10. Ещё раз выведите перечень уникальных значений столбца `children`, чтобы убедиться, что артефакты удалены.**"
   ]
  },
  {
   "cell_type": "code",
   "execution_count": 10,
   "id": "0f5addc6",
   "metadata": {
    "deletable": false,
    "id": "ad4fa8b7",
    "outputId": "b2097101-d49d-44d9-901b-32a65c9463d1"
   },
   "outputs": [
    {
     "data": {
      "text/plain": [
       "array([1, 0, 3, 2, 4, 5])"
      ]
     },
     "execution_count": 10,
     "metadata": {},
     "output_type": "execute_result"
    }
   ],
   "source": [
    "data['children'].unique()"
   ]
  },
  {
   "cell_type": "markdown",
   "id": "b3532972",
   "metadata": {
    "deletable": false,
    "editable": false,
    "id": "75440b63"
   },
   "source": [
    "### Удаление пропусков (продолжение)"
   ]
  },
  {
   "cell_type": "markdown",
   "id": "5fcbfc7c",
   "metadata": {
    "deletable": false,
    "editable": false,
    "id": "f4ea573f"
   },
   "source": [
    "**Задание 11. Заполните пропуски в столбце `days_employed` медианными значениями по каждого типа занятости `income_type`.**"
   ]
  },
  {
   "cell_type": "code",
   "execution_count": 11,
   "id": "eb141488",
   "metadata": {
    "deletable": false,
    "id": "af6b1a7e"
   },
   "outputs": [],
   "source": [
    "for t in data['income_type'].unique():\n",
    "    data.loc[(data['income_type'] == t) & (data['days_employed'].isna()), 'days_employed'] = \\\n",
    "    data.loc[(data['income_type'] == t), 'days_employed'].median()"
   ]
  },
  {
   "cell_type": "markdown",
   "id": "1ff913de",
   "metadata": {
    "deletable": false,
    "editable": false,
    "id": "2753f40d"
   },
   "source": [
    "**Задание 12. Убедитесь, что все пропуски заполнены. Проверьте себя и ещё раз выведите количество пропущенных значений для каждого столбца с помощью двух методов.**"
   ]
  },
  {
   "cell_type": "code",
   "execution_count": 12,
   "id": "20dfbe74",
   "metadata": {
    "deletable": false,
    "id": "55f78bc2",
    "outputId": "8da1e4e1-358e-4e87-98c9-f261bce0a7b2"
   },
   "outputs": [
    {
     "data": {
      "text/plain": [
       "children            0\n",
       "days_employed       0\n",
       "dob_years           0\n",
       "education           0\n",
       "education_id        0\n",
       "family_status       0\n",
       "family_status_id    0\n",
       "gender              0\n",
       "income_type         0\n",
       "debt                0\n",
       "total_income        0\n",
       "purpose             0\n",
       "dtype: int64"
      ]
     },
     "execution_count": 12,
     "metadata": {},
     "output_type": "execute_result"
    }
   ],
   "source": [
    "data.isna().sum()"
   ]
  },
  {
   "cell_type": "markdown",
   "id": "30e985c4",
   "metadata": {
    "deletable": false,
    "editable": false,
    "id": "ddc81e43"
   },
   "source": [
    "### Изменение типов данных"
   ]
  },
  {
   "cell_type": "markdown",
   "id": "29fb7fa5",
   "metadata": {
    "deletable": false,
    "editable": false,
    "id": "42d19d24"
   },
   "source": [
    "**Задание 13. Замените вещественный тип данных в столбце `total_income` на целочисленный с помощью метода `astype()`.**"
   ]
  },
  {
   "cell_type": "code",
   "execution_count": 13,
   "id": "5d732493",
   "metadata": {
    "deletable": false,
    "id": "920b65ad"
   },
   "outputs": [],
   "source": [
    "data['total_income'] = data['total_income'].astype(int)"
   ]
  },
  {
   "cell_type": "markdown",
   "id": "de67ea47",
   "metadata": {
    "deletable": false,
    "editable": false,
    "id": "80c420ba"
   },
   "source": [
    "### Обработка дубликатов"
   ]
  },
  {
   "cell_type": "markdown",
   "id": "4edc1251",
   "metadata": {
    "deletable": false,
    "editable": false
   },
   "source": [
    "**Задание 14. Обработайте неявные дубликаты в столбце `education`. В этом столбце есть одни и те же значения, но записанные по-разному: с использованием заглавных и строчных букв. Приведите их к нижнему регистру. Проверьте остальные столбцы.**"
   ]
  },
  {
   "cell_type": "code",
   "execution_count": 14,
   "id": "a9de5928",
   "metadata": {
    "deletable": false
   },
   "outputs": [],
   "source": [
    "data['education'] = data['education'].str.lower()"
   ]
  },
  {
   "cell_type": "markdown",
   "id": "18830067",
   "metadata": {
    "deletable": false,
    "editable": false,
    "id": "dc587695"
   },
   "source": [
    "**Задание 15. Выведите на экран количество строк-дубликатов в данных. Если такие строки присутствуют, удалите их.**"
   ]
  },
  {
   "cell_type": "code",
   "execution_count": 15,
   "id": "156ab431",
   "metadata": {
    "deletable": false,
    "id": "3ee445e4",
    "outputId": "9684deba-1934-42d1-99e1-cda61740f822"
   },
   "outputs": [
    {
     "data": {
      "text/plain": [
       "71"
      ]
     },
     "execution_count": 15,
     "metadata": {},
     "output_type": "execute_result"
    }
   ],
   "source": [
    "data.duplicated().sum()"
   ]
  },
  {
   "cell_type": "code",
   "execution_count": 16,
   "id": "ce344220",
   "metadata": {
    "deletable": false,
    "id": "8575fe05"
   },
   "outputs": [],
   "source": [
    "data = data.drop_duplicates()"
   ]
  },
  {
   "cell_type": "markdown",
   "id": "5183fa1c",
   "metadata": {
    "deletable": false,
    "editable": false,
    "id": "9904cf55"
   },
   "source": [
    "### Категоризация данных"
   ]
  },
  {
   "cell_type": "markdown",
   "id": "9f8036e4",
   "metadata": {
    "deletable": false,
    "editable": false,
    "id": "72fcc8a2"
   },
   "source": [
    "**Задание 16. На основании диапазонов, указанных ниже, создайте в датафрейме `data` столбец `total_income_category` с категориями:**\n",
    "\n",
    "- 0–30000 — `'E'`;\n",
    "- 30001–50000 — `'D'`;\n",
    "- 50001–200000 — `'C'`;\n",
    "- 200001–1000000 — `'B'`;\n",
    "- 1000001 и выше — `'A'`.\n",
    "\n",
    "\n",
    "**Например, кредитополучателю с доходом 25000 нужно назначить категорию `'E'`, а клиенту, получающему 235000, — `'B'`. Используйте собственную функцию с именем `categorize_income()` и метод `apply()`.**"
   ]
  },
  {
   "cell_type": "code",
   "execution_count": 17,
   "id": "4019d9b5",
   "metadata": {
    "deletable": false,
    "id": "e1771346"
   },
   "outputs": [],
   "source": [
    "def categorize_income(income):\n",
    "    try:\n",
    "        if 0 <= income <= 30000:\n",
    "            return 'E'\n",
    "        elif 30001 <= income <= 50000:\n",
    "            return 'D'\n",
    "        elif 50001 <= income <= 200000:\n",
    "            return 'C'\n",
    "        elif 200001 <= income <= 1000000:\n",
    "            return 'B'\n",
    "        elif income >= 1000001:\n",
    "            return 'A'\n",
    "    except:\n",
    "        pass"
   ]
  },
  {
   "cell_type": "code",
   "execution_count": 18,
   "id": "efa3d741",
   "metadata": {
    "deletable": false,
    "id": "d5f3586d"
   },
   "outputs": [],
   "source": [
    "data['total_income_category'] = data['total_income'].apply(categorize_income)"
   ]
  },
  {
   "cell_type": "markdown",
   "id": "a1829632",
   "metadata": {
    "deletable": false,
    "editable": false,
    "id": "dde49b5c"
   },
   "source": [
    "**Задание 17. Выведите на экран перечень уникальных целей взятия кредита из столбца `purpose`.**"
   ]
  },
  {
   "cell_type": "code",
   "execution_count": 19,
   "id": "1f6e5df1",
   "metadata": {
    "deletable": false,
    "id": "f67ce9b3",
    "outputId": "673c12d9-7d7e-4ae0-9812-c622c89dd244"
   },
   "outputs": [
    {
     "data": {
      "text/plain": [
       "array(['покупка жилья', 'приобретение автомобиля',\n",
       "       'дополнительное образование', 'сыграть свадьбу',\n",
       "       'операции с жильем', 'образование', 'на проведение свадьбы',\n",
       "       'покупка жилья для семьи', 'покупка недвижимости',\n",
       "       'покупка коммерческой недвижимости', 'покупка жилой недвижимости',\n",
       "       'строительство собственной недвижимости', 'недвижимость',\n",
       "       'строительство недвижимости', 'на покупку подержанного автомобиля',\n",
       "       'на покупку своего автомобиля',\n",
       "       'операции с коммерческой недвижимостью',\n",
       "       'строительство жилой недвижимости', 'жилье',\n",
       "       'операции со своей недвижимостью', 'автомобили',\n",
       "       'заняться образованием', 'сделка с подержанным автомобилем',\n",
       "       'получение образования', 'автомобиль', 'свадьба',\n",
       "       'получение дополнительного образования', 'покупка своего жилья',\n",
       "       'операции с недвижимостью', 'получение высшего образования',\n",
       "       'свой автомобиль', 'сделка с автомобилем',\n",
       "       'профильное образование', 'высшее образование',\n",
       "       'покупка жилья для сдачи', 'на покупку автомобиля', 'ремонт жилью',\n",
       "       'заняться высшим образованием'], dtype=object)"
      ]
     },
     "execution_count": 19,
     "metadata": {},
     "output_type": "execute_result"
    }
   ],
   "source": [
    "data['purpose'].unique()"
   ]
  },
  {
   "cell_type": "markdown",
   "id": "0e3a9234",
   "metadata": {
    "deletable": false,
    "editable": false,
    "id": "85d0aef0"
   },
   "source": [
    "**Задание 18. Создайте функцию, которая на основании данных из столбца `purpose` сформирует новый столбец `purpose_category`, в который войдут следующие категории:**\n",
    "\n",
    "- `'операции с автомобилем'`,\n",
    "- `'операции с недвижимостью'`,\n",
    "- `'проведение свадьбы'`,\n",
    "- `'получение образования'`.\n",
    "\n",
    "**Например, если в столбце `purpose` находится подстрока `'на покупку автомобиля'`, то в столбце `purpose_category` должна появиться строка `'операции с автомобилем'`.**\n",
    "\n",
    "**Используйте собственную функцию с именем `categorize_purpose()` и метод `apply()`. Изучите данные в столбце `purpose` и определите, какие подстроки помогут вам правильно определить категорию.**"
   ]
  },
  {
   "cell_type": "code",
   "execution_count": 20,
   "id": "91f87c9d",
   "metadata": {
    "deletable": false,
    "id": "e149fab4"
   },
   "outputs": [],
   "source": [
    "def categorize_purpose(row):\n",
    "    try:\n",
    "        if 'автом' in row:\n",
    "            return 'операции с автомобилем'\n",
    "        elif 'жил' in row or 'недвиж' in row:\n",
    "            return 'операции с недвижимостью'\n",
    "        elif 'свад' in row:\n",
    "            return 'проведение свадьбы'\n",
    "        elif 'образов' in row:\n",
    "            return 'получение образования'\n",
    "    except:\n",
    "        return 'нет категории'"
   ]
  },
  {
   "cell_type": "code",
   "execution_count": 21,
   "id": "6987264b",
   "metadata": {
    "deletable": false,
    "id": "bf36e69b"
   },
   "outputs": [],
   "source": [
    "data['purpose_category'] = data['purpose'].apply(categorize_purpose)"
   ]
  },
  {
   "cell_type": "markdown",
   "id": "094b8bfd",
   "metadata": {
    "deletable": false,
    "editable": false,
    "id": "09b242bf"
   },
   "source": [
    "### Шаг 3. Исследуйте данные и ответьте на вопросы"
   ]
  },
  {
   "cell_type": "markdown",
   "id": "4cb068f3",
   "metadata": {
    "deletable": false,
    "editable": false,
    "id": "c5d66278"
   },
   "source": [
    "#### 3.1 Есть ли зависимость между количеством детей и возвратом кредита в срок?"
   ]
  },
  {
   "cell_type": "code",
   "execution_count": 22,
   "id": "e91e475e",
   "metadata": {
    "deletable": false,
    "id": "2cacfc4a"
   },
   "outputs": [
    {
     "data": {
      "text/html": [
       "<div>\n",
       "<style scoped>\n",
       "    .dataframe tbody tr th:only-of-type {\n",
       "        vertical-align: middle;\n",
       "    }\n",
       "\n",
       "    .dataframe tbody tr th {\n",
       "        vertical-align: top;\n",
       "    }\n",
       "\n",
       "    .dataframe thead th {\n",
       "        text-align: right;\n",
       "    }\n",
       "</style>\n",
       "<table border=\"1\" class=\"dataframe\">\n",
       "  <thead>\n",
       "    <tr style=\"text-align: right;\">\n",
       "      <th></th>\n",
       "      <th>children</th>\n",
       "      <th>debt</th>\n",
       "      <th>0</th>\n",
       "    </tr>\n",
       "    <tr>\n",
       "      <th>children</th>\n",
       "      <th></th>\n",
       "      <th></th>\n",
       "      <th></th>\n",
       "    </tr>\n",
       "  </thead>\n",
       "  <tbody>\n",
       "    <tr>\n",
       "      <th>0</th>\n",
       "      <td>14091</td>\n",
       "      <td>1063</td>\n",
       "      <td>7.543822</td>\n",
       "    </tr>\n",
       "    <tr>\n",
       "      <th>1</th>\n",
       "      <td>4808</td>\n",
       "      <td>444</td>\n",
       "      <td>9.234609</td>\n",
       "    </tr>\n",
       "    <tr>\n",
       "      <th>2</th>\n",
       "      <td>2052</td>\n",
       "      <td>194</td>\n",
       "      <td>9.454191</td>\n",
       "    </tr>\n",
       "    <tr>\n",
       "      <th>3</th>\n",
       "      <td>330</td>\n",
       "      <td>27</td>\n",
       "      <td>8.181818</td>\n",
       "    </tr>\n",
       "    <tr>\n",
       "      <th>4</th>\n",
       "      <td>41</td>\n",
       "      <td>4</td>\n",
       "      <td>9.756098</td>\n",
       "    </tr>\n",
       "    <tr>\n",
       "      <th>5</th>\n",
       "      <td>9</td>\n",
       "      <td>0</td>\n",
       "      <td>0.000000</td>\n",
       "    </tr>\n",
       "  </tbody>\n",
       "</table>\n",
       "</div>"
      ],
      "text/plain": [
       "          children  debt         0\n",
       "children                          \n",
       "0            14091  1063  7.543822\n",
       "1             4808   444  9.234609\n",
       "2             2052   194  9.454191\n",
       "3              330    27  8.181818\n",
       "4               41     4  9.756098\n",
       "5                9     0  0.000000"
      ]
     },
     "metadata": {},
     "output_type": "display_data"
    },
    {
     "data": {
      "text/plain": [
       "children  debt\n",
       "0         0        92.456178\n",
       "          1         7.543822\n",
       "1         0        90.765391\n",
       "          1         9.234609\n",
       "2         0        90.545809\n",
       "          1         9.454191\n",
       "3         0        91.818182\n",
       "          1         8.181818\n",
       "4         0        90.243902\n",
       "          1         9.756098\n",
       "5         0       100.000000\n",
       "Name: debt, dtype: float64"
      ]
     },
     "execution_count": 22,
     "metadata": {},
     "output_type": "execute_result"
    },
    {
     "data": {
      "image/png": "[encoded data removed]",
      "text/plain": [
       "<Figure size 432x288 with 1 Axes>"
      ]
     },
     "metadata": {
      "needs_background": "light"
     },
     "output_type": "display_data"
    }
   ],
   "source": [
    "children_group = data.groupby('children')['children'].count() #считаем кол-во людей с определенным кол-вом детей в семье\n",
    "children_debt_group = data.groupby('children')['debt'].sum() #считаем кол-во должников с определенным кол-вом детей в семье\n",
    "debt_group = children_debt_group/children_group * 100 #считаем процент людей, кто не оплачивает вовремя с определенным кол-вом детей в семье\n",
    "data['debt_group'] = debt_group #создаём колонку с данными, расчитанными выше\n",
    "df_column_concat = pd.concat([children_group, children_debt_group, debt_group], axis = 1) #создаём таблицу с нужными нам колонками и данными\n",
    "display(df_column_concat) \n",
    "import seaborn\n",
    "seaborn.barplot(data=data, x=\"children\", y=\"debt\") #для наглядности строим диаграмму \n",
    "#ВТОРОЙ ВАРИАНТ РЕШЕНИЯ:\n",
    "data.groupby('children')['debt'].value_counts(normalize=True) * 100"
   ]
  },
  {
   "cell_type": "markdown",
   "id": "a6304c18",
   "metadata": {
    "deletable": false,
    "id": "3a6b99ec"
   },
   "source": [
    "**Вывод:** Согласно предоставленным исходным данным: проблемы со своевременным погашением кредитов отсутствуют у людей, в чей семье 5 детей (возможно имеются некие гос. программы поддержки выплаты кредитов с таким количеством детей). Практически одинаковые показатели своевременности платежей видны в семьях, в которых от 1 до 4 ребёнка: платят в срок 90-91%, не платят в срок 8,2-9,8%. Семьи без детей платят лучше, чем семьи с 1-4 ребёнком, но хуже, чем с 5 детьми.\n",
    "Прямой зависимости этих двух показателей (количество детей и платёжеспособность в срок) не выявлена. Вопрос семей с 5 детьми остался открытым."
   ]
  },
  {
   "cell_type": "markdown",
   "id": "499e2d1a",
   "metadata": {
    "deletable": false,
    "editable": false,
    "id": "97be82ca"
   },
   "source": [
    "#### 3.2 Есть ли зависимость между семейным положением и возвратом кредита в срок?"
   ]
  },
  {
   "cell_type": "code",
   "execution_count": 35,
   "id": "1121a837",
   "metadata": {
    "deletable": false,
    "id": "dc3f7ee8"
   },
   "outputs": [
    {
     "data": {
      "text/html": [
       "<div>\n",
       "<style scoped>\n",
       "    .dataframe tbody tr th:only-of-type {\n",
       "        vertical-align: middle;\n",
       "    }\n",
       "\n",
       "    .dataframe tbody tr th {\n",
       "        vertical-align: top;\n",
       "    }\n",
       "\n",
       "    .dataframe thead th {\n",
       "        text-align: right;\n",
       "    }\n",
       "</style>\n",
       "<table border=\"1\" class=\"dataframe\">\n",
       "  <thead>\n",
       "    <tr style=\"text-align: right;\">\n",
       "      <th></th>\n",
       "      <th>family_status</th>\n",
       "      <th>debt</th>\n",
       "      <th>0</th>\n",
       "    </tr>\n",
       "    <tr>\n",
       "      <th>family_status</th>\n",
       "      <th></th>\n",
       "      <th></th>\n",
       "      <th></th>\n",
       "    </tr>\n",
       "  </thead>\n",
       "  <tbody>\n",
       "    <tr>\n",
       "      <th>Не женат / не замужем</th>\n",
       "      <td>2796</td>\n",
       "      <td>273</td>\n",
       "      <td>9.763948</td>\n",
       "    </tr>\n",
       "    <tr>\n",
       "      <th>в разводе</th>\n",
       "      <td>1189</td>\n",
       "      <td>84</td>\n",
       "      <td>7.064760</td>\n",
       "    </tr>\n",
       "    <tr>\n",
       "      <th>вдовец / вдова</th>\n",
       "      <td>951</td>\n",
       "      <td>63</td>\n",
       "      <td>6.624606</td>\n",
       "    </tr>\n",
       "    <tr>\n",
       "      <th>гражданский брак</th>\n",
       "      <td>4134</td>\n",
       "      <td>385</td>\n",
       "      <td>9.313014</td>\n",
       "    </tr>\n",
       "    <tr>\n",
       "      <th>женат / замужем</th>\n",
       "      <td>12261</td>\n",
       "      <td>927</td>\n",
       "      <td>7.560558</td>\n",
       "    </tr>\n",
       "  </tbody>\n",
       "</table>\n",
       "</div>"
      ],
      "text/plain": [
       "                       family_status  debt         0\n",
       "family_status                                       \n",
       "Не женат / не замужем           2796   273  9.763948\n",
       "в разводе                       1189    84  7.064760\n",
       "вдовец / вдова                   951    63  6.624606\n",
       "гражданский брак                4134   385  9.313014\n",
       "женат / замужем                12261   927  7.560558"
      ]
     },
     "metadata": {},
     "output_type": "display_data"
    },
    {
     "data": {
      "text/plain": [
       "family_status          debt\n",
       "Не женат / не замужем  0       90.236052\n",
       "                       1        9.763948\n",
       "в разводе              0       92.935240\n",
       "                       1        7.064760\n",
       "вдовец / вдова         0       93.375394\n",
       "                       1        6.624606\n",
       "гражданский брак       0       90.686986\n",
       "                       1        9.313014\n",
       "женат / замужем        0       92.439442\n",
       "                       1        7.560558\n",
       "Name: debt, dtype: float64"
      ]
     },
     "execution_count": 35,
     "metadata": {},
     "output_type": "execute_result"
    },
    {
     "data": {
      "image/png": "[encoded data removed]",
      "text/plain": [
       "<Figure size 432x288 with 1 Axes>"
      ]
     },
     "metadata": {},
     "output_type": "display_data"
    }
   ],
   "source": [
    "family_status_group = data.groupby('family_status')['family_status'].count() #считаем кол-во людей определенного семейного положения(статуса)\n",
    "family_status_debt_group = data.groupby('family_status')['debt'].sum() #считаем кол-во должников с определенным семейным положением(статусом)\n",
    "debt_group = family_status_debt_group/family_status_group * 100 #считаем процент людей, кто не оплачивает вовремя с определенным семейным положением(статусом)\n",
    "data['debt_group'] = debt_group #создаём колонку с данными, расчитанными выше\n",
    "df_column_concat = pd.concat([family_status_group, family_status_debt_group, debt_group], axis = 1) #создаём таблицу с нужными нам колонками и данными\n",
    "display(df_column_concat) \n",
    "import seaborn\n",
    "seaborn.barplot(data=data, x=\"family_status\", y=\"debt\") #для наглядности строим диаграмму \n",
    "#ВТОРОЙ ВАРИАНТ РЕШЕНИЯ:\n",
    "data.groupby('family_status')['debt'].value_counts(normalize=True) * 100"
   ]
  },
  {
   "cell_type": "markdown",
   "id": "306c8f22",
   "metadata": {
    "deletable": false,
    "id": "1cef7837"
   },
   "source": [
    "**Вывод:** Вдовцы/вдовы имеют наименьшее кол-во задолженностей. Клиенты, состоящие в гражданском браке и те, кто не замужем/не женат, лидируют по показателям должников. Женатые/замужние и в разводе платят практически на равне."
   ]
  },
  {
   "cell_type": "markdown",
   "id": "37c9067f",
   "metadata": {
    "deletable": false,
    "editable": false,
    "id": "1e8b2fca"
   },
   "source": [
    "#### 3.3 Есть ли зависимость между уровнем дохода и возвратом кредита в срок?"
   ]
  },
  {
   "cell_type": "code",
   "execution_count": null,
   "id": "c65f2edb",
   "metadata": {
    "deletable": false,
    "id": "cd7e3720"
   },
   "outputs": [],
   "source": [
    "total_income_category_group = data.groupby('total_income_category')['total_income_category'].count() #считаем кол-во людей с определенным уровнем дохода\n",
    "total_income_category_debt_group = data.groupby('total_income_category')['debt'].sum() #считаем кол-во должников с определенным уровнем дохода\n",
    "debt_group = total_income_category_debt_group/total_income_category_group * 100 #считаем процент людей, кто не оплачивает вовремя с определенным уровнем дохода\n",
    "data['debt_group'] = debt_group #создаём колонку с данными, расчитанными выше\n",
    "df_column_concat = pd.concat([total_income_category_group, total_income_category_debt_group, debt_group], axis = 1) #создаём таблицу с нужными нам колонками и данными\n",
    "display(df_column_concat) \n",
    "import seaborn\n",
    "seaborn.barplot(data=data, x=\"total_income_category\", y=\"debt\") #для наглядности строим диаграмму \n",
    "\n",
    "#ВТОРОЙ ВАРИАНТ РЕШЕНИЯ:\n",
    "data.groupby('total_income_category')['debt'].value_counts(normalize=True) * 100\n"
   ]
  },
  {
   "cell_type": "markdown",
   "id": "571b52b8",
   "metadata": {
    "deletable": false,
    "id": "e8593def"
   },
   "source": [
    "**Вывод:** Наибольшее кол-во задолженности приходится на категорию клиентов, чей уровень дохода равен 0–30000 рублей, наименьшее кол-во задолженности приходится на категорию клиентов, чей уровень дохода равен 30001–50000.\n",
    "Задолженность клиентов с разным уровнем дохода по убыванию кол-ва клиентов должников:\n",
    "0–30000 — E, 50001–200000 — C, 1000001 и выше — A, 200001–1000000 — B, 30001–50000 — D.\n",
    "\n",
    "Клиенты категории \"А\" (с самым большим уровнем дохода) не являются показательными плательщиками и имеют задолженность практически на таком же уровне, как и клиенты категории \"С\" (с доходом в минимум 4 раза меньше категории \"А\")."
   ]
  },
  {
   "cell_type": "markdown",
   "id": "61eaebe9",
   "metadata": {
    "deletable": false,
    "editable": false,
    "id": "99ecbd1f"
   },
   "source": [
    "#### 3.4 Как разные цели кредита влияют на его возврат в срок?"
   ]
  },
  {
   "cell_type": "code",
   "execution_count": null,
   "id": "21d103ff",
   "metadata": {
    "deletable": false,
    "id": "2b687290"
   },
   "outputs": [],
   "source": [
    "purpose_category_group = data.groupby('purpose_category')['purpose_category'].count() #считаем кол-во людей с определенной целью кредита\n",
    "purpose_category_debt_group = data.groupby('purpose_category')['debt'].sum() #считаем кол-во должников с определенной целью кредита\n",
    "debt_group = purpose_category_debt_group/purpose_category_group * 100 #считаем кол-во людей, кто не оплачивает вовремя с определенной целью кредита\n",
    "data['debt_group'] = debt_group #создаём колонку с данными, расчитанными выше\n",
    "df_column_concat = pd.concat([purpose_category_group, purpose_category_debt_group, debt_group], axis = 1) #создаём таблицу с нужными нам колонками и данными\n",
    "display(df_column_concat) \n",
    "import seaborn\n",
    "seaborn.barplot(data=data, x=\"purpose_category\", y=\"debt\") #для наглядности строим диаграмму \n",
    "#ВТОРОЙ ВАРИАНТ РЕШЕНИЯ:\n",
    "data.groupby('purpose_category')['debt'].value_counts(normalize=True) * 100"
   ]
  },
  {
   "cell_type": "markdown",
   "id": "735f45e5",
   "metadata": {
    "deletable": false,
    "id": "b4bb2ce6"
   },
   "source": [
    "**Вывод:** Наименьшее кол-во должников приходится на клиентов, чья цель получения кредита - операции с недвижимостью и проведение свадьбы (7,25%-7,91% должников). Клиенты, чья цель получения кредита была связана с операциями с атомобилем и получением образования, имеют практически одинаковый процент должников (9,25%-9,35%)."
   ]
  },
  {
   "cell_type": "markdown",
   "id": "c01ffac8",
   "metadata": {
    "deletable": false,
    "editable": false,
    "id": "09c3ac4c"
   },
   "source": [
    "#### 3.5 Приведите возможные причины появления пропусков в исходных данных."
   ]
  },
  {
   "cell_type": "markdown",
   "id": "ed1a2033",
   "metadata": {
    "deletable": false,
    "id": "9da2ceda"
   },
   "source": [
    "*Ответ:* Человеческий фактор (не туда вписал, не сохранил и т.д.), нежелание клиента передавать полные данные о себе, проблема с самим файлом (технический сбой при открытии файла, заражение файла вирусом)"
   ]
  },
  {
   "cell_type": "markdown",
   "id": "0f59e70d",
   "metadata": {
    "deletable": false,
    "editable": false,
    "id": "7b0487d6"
   },
   "source": [
    "#### 3.6 Объясните, почему заполнить пропуски медианным значением — лучшее решение для количественных переменных."
   ]
  },
  {
   "cell_type": "markdown",
   "id": "08240b2f",
   "metadata": {
    "deletable": false,
    "id": "7ecf2b8e"
   },
   "source": [
    "*Ответ:* Медианное значение корректнее среднего характеризует данные, когда из \"разброс\" слишком большой. Способствует получению более достоверной картины."
   ]
  },
  {
   "cell_type": "markdown",
   "id": "eed97e9d",
   "metadata": {
    "deletable": false,
    "editable": false,
    "id": "6db5255a"
   },
   "source": [
    "### Шаг 4: общий вывод."
   ]
  },
  {
   "cell_type": "markdown",
   "id": "226d415c",
   "metadata": {
    "deletable": false,
    "id": "bad65432"
   },
   "source": [
    "Согласно предоставленным исходным данным: проблемы со своевременным погашением кредитов отсутствуют у людей, в чей семье 5 детей (возможно имеются некие гос. программы поддержки выплаты кредитов с таким количеством детей). Практически одинаковые показатели своевременности платежей видны в семьях, в которых от 1 до 4 ребёнка: платят в срок 90-91%, не платят в срок 8,2-9,8%. Семьи без детей платят лучше, чем семьи с 1-4 ребёнком, но хуже, чем с 5 детьми. Прямой зависимости этих двух показателей (количество детей и платёжеспособность в срок) не выявлена. Вопрос семей с 5 детьми остался открытым.\n",
    "Вдовцы/вдовы имеют наименьшее кол-во задолженностей. Клиенты, состоящие в гражданском браке и те, кто не замужем/не женат, лидируют по показателям должников. Женатые/замужние и в разводе платят практически на равне.\n",
    "Наибольшее кол-во задолженности приходится на категорию клиентов, чей уровень дохода равен 0–30000 рублей, наименьшее кол-во задолженности приходится на категорию клиентов, чей уровень дохода равен 30001–50000. Задолженность клиентов с разным уровнем дохода по убыванию кол-ва клиентов должников: 0–30000 — E, 50001–200000 — C, 1000001 и выше — A, 200001–1000000 — B, 30001–50000 — D.\n",
    "Клиенты категории \"А\" (с самым большим уровнем дохода) не являются показательными плательщиками и имеют задолженность практически на таком же уровне, как и клиенты категории \"С\" (с доходом в минимум 4 раза меньше категории \"А\").\n",
    "Наименьшее кол-во должников приходится на клиентов, чья цель получения кредита - операции с недвижимостью и проведение свадьбы (7,25%-7,91% должников). Клиенты, чья цель получения кредита была связана с операциями с атомобилем и получением образования, имеют практически одинаковый процент должников (9,25%-9,35%)."
   ]
  }
 ],
 "metadata": {
  "ExecuteTimeLog": [
   {
    "duration": 489,
    "start_time": "2022-08-16T13:11:05.263Z"
   },
   {
    "duration": 29,
    "start_time": "2022-08-16T13:11:10.253Z"
   },
   {
    "duration": 24,
    "start_time": "2022-08-16T13:11:17.198Z"
   },
   {
    "duration": 18,
    "start_time": "2022-08-16T13:11:22.416Z"
   },
   {
    "duration": 37,
    "start_time": "2022-08-16T13:11:26.364Z"
   },
   {
    "duration": 5,
    "start_time": "2022-08-16T13:11:29.042Z"
   },
   {
    "duration": 10,
    "start_time": "2022-08-16T13:11:32.430Z"
   },
   {
    "duration": 7,
    "start_time": "2022-08-16T13:11:35.417Z"
   },
   {
    "duration": 8,
    "start_time": "2022-08-16T13:11:37.763Z"
   },
   {
    "duration": 5,
    "start_time": "2022-08-16T13:11:40.568Z"
   },
   {
    "duration": 34,
    "start_time": "2022-08-16T13:11:42.231Z"
   },
   {
    "duration": 13,
    "start_time": "2022-08-16T13:11:44.721Z"
   },
   {
    "duration": 4,
    "start_time": "2022-08-16T13:11:46.431Z"
   },
   {
    "duration": 12,
    "start_time": "2022-08-16T13:11:50.244Z"
   },
   {
    "duration": 24,
    "start_time": "2022-08-16T13:11:51.524Z"
   },
   {
    "duration": 20,
    "start_time": "2022-08-16T13:11:53.360Z"
   },
   {
    "duration": 4,
    "start_time": "2022-08-16T13:11:54.329Z"
   },
   {
    "duration": 11,
    "start_time": "2022-08-16T13:11:56.164Z"
   },
   {
    "duration": 6,
    "start_time": "2022-08-16T13:11:57.689Z"
   },
   {
    "duration": 3,
    "start_time": "2022-08-16T13:12:02.638Z"
   },
   {
    "duration": 12,
    "start_time": "2022-08-16T13:12:02.914Z"
   },
   {
    "duration": 3,
    "start_time": "2022-08-16T13:15:02.150Z"
   },
   {
    "duration": 5,
    "start_time": "2022-08-16T13:15:13.928Z"
   },
   {
    "duration": 8,
    "start_time": "2022-08-16T13:20:42.939Z"
   },
   {
    "duration": 11,
    "start_time": "2022-08-16T13:20:55.709Z"
   },
   {
    "duration": 10,
    "start_time": "2022-08-16T13:21:23.825Z"
   },
   {
    "duration": 20,
    "start_time": "2022-08-16T13:24:12.401Z"
   },
   {
    "duration": 14,
    "start_time": "2022-08-16T13:28:24.375Z"
   },
   {
    "duration": 13,
    "start_time": "2022-08-16T13:28:40.779Z"
   },
   {
    "duration": 84,
    "start_time": "2022-08-16T13:29:32.727Z"
   },
   {
    "duration": 831,
    "start_time": "2022-08-16T13:29:48.488Z"
   },
   {
    "duration": 713,
    "start_time": "2022-08-16T13:30:14.057Z"
   },
   {
    "duration": 14,
    "start_time": "2022-08-16T13:30:26.219Z"
   },
   {
    "duration": 10,
    "start_time": "2022-08-16T13:30:47.761Z"
   },
   {
    "duration": 19,
    "start_time": "2022-08-16T13:31:03.308Z"
   },
   {
    "duration": 54,
    "start_time": "2022-08-16T13:37:05.331Z"
   },
   {
    "duration": 59,
    "start_time": "2022-08-16T13:37:15.226Z"
   },
   {
    "duration": 155,
    "start_time": "2022-08-16T13:37:23.169Z"
   },
   {
    "duration": 50,
    "start_time": "2022-08-16T13:37:27.910Z"
   },
   {
    "duration": 90,
    "start_time": "2022-08-16T13:37:39.495Z"
   },
   {
    "duration": 129,
    "start_time": "2022-08-16T13:37:47.491Z"
   },
   {
    "duration": 154,
    "start_time": "2022-08-16T13:37:52.049Z"
   },
   {
    "duration": 12,
    "start_time": "2022-08-16T13:42:20.458Z"
   },
   {
    "duration": 17,
    "start_time": "2022-08-16T13:44:50.699Z"
   },
   {
    "duration": 10,
    "start_time": "2022-08-16T13:45:11.244Z"
   },
   {
    "duration": 61,
    "start_time": "2022-08-16T13:45:44.444Z"
   },
   {
    "duration": 13,
    "start_time": "2022-08-16T13:45:52.443Z"
   },
   {
    "duration": 23,
    "start_time": "2022-08-16T13:46:18.836Z"
   },
   {
    "duration": 9,
    "start_time": "2022-08-16T13:49:53.938Z"
   },
   {
    "duration": 69,
    "start_time": "2022-08-16T13:50:32.815Z"
   },
   {
    "duration": 9,
    "start_time": "2022-08-16T13:50:45.751Z"
   },
   {
    "duration": 12,
    "start_time": "2022-08-16T14:02:10.804Z"
   },
   {
    "duration": 12,
    "start_time": "2022-08-16T14:04:04.617Z"
   },
   {
    "duration": 10,
    "start_time": "2022-08-16T14:04:11.944Z"
   },
   {
    "duration": 410,
    "start_time": "2022-08-16T14:05:21.819Z"
   },
   {
    "duration": 23,
    "start_time": "2022-08-16T14:08:38.257Z"
   },
   {
    "duration": 32,
    "start_time": "2022-08-16T14:09:03.496Z"
   },
   {
    "duration": 11,
    "start_time": "2022-08-16T14:09:12.512Z"
   },
   {
    "duration": 14,
    "start_time": "2022-08-16T14:09:53.628Z"
   },
   {
    "duration": 1628,
    "start_time": "2022-08-16T14:10:08.190Z"
   },
   {
    "duration": 61,
    "start_time": "2022-08-16T14:10:17.781Z"
   },
   {
    "duration": 25,
    "start_time": "2022-08-16T14:10:24.322Z"
   },
   {
    "duration": 7,
    "start_time": "2022-08-16T14:10:46.144Z"
   },
   {
    "duration": 14,
    "start_time": "2022-08-16T14:10:54.562Z"
   },
   {
    "duration": 23,
    "start_time": "2022-08-16T14:21:15.136Z"
   },
   {
    "duration": 13,
    "start_time": "2022-08-16T14:21:22.029Z"
   },
   {
    "duration": 16,
    "start_time": "2022-08-16T14:30:15.063Z"
   },
   {
    "duration": 13,
    "start_time": "2022-08-16T14:32:29.801Z"
   },
   {
    "duration": 17,
    "start_time": "2022-08-16T14:36:50.410Z"
   },
   {
    "duration": 13,
    "start_time": "2022-08-16T14:37:36.567Z"
   },
   {
    "duration": 12,
    "start_time": "2022-08-16T14:38:41.441Z"
   },
   {
    "duration": 12,
    "start_time": "2022-08-16T14:38:52.456Z"
   },
   {
    "duration": 14,
    "start_time": "2022-08-16T14:39:28.349Z"
   },
   {
    "duration": 17,
    "start_time": "2022-08-16T14:39:33.898Z"
   },
   {
    "duration": 13,
    "start_time": "2022-08-16T14:40:04.687Z"
   },
   {
    "duration": 12,
    "start_time": "2022-08-16T14:40:18.095Z"
   },
   {
    "duration": 12,
    "start_time": "2022-08-16T14:40:41.031Z"
   },
   {
    "duration": 19,
    "start_time": "2022-08-16T14:41:08.880Z"
   },
   {
    "duration": 60,
    "start_time": "2022-08-16T14:41:14.257Z"
   },
   {
    "duration": 19,
    "start_time": "2022-08-16T14:41:30.221Z"
   },
   {
    "duration": 13,
    "start_time": "2022-08-16T14:42:19.962Z"
   },
   {
    "duration": 64,
    "start_time": "2022-08-16T14:42:25.485Z"
   },
   {
    "duration": 91,
    "start_time": "2022-08-16T14:42:30.856Z"
   },
   {
    "duration": 13,
    "start_time": "2022-08-16T14:42:34.234Z"
   },
   {
    "duration": 11,
    "start_time": "2022-08-16T14:42:48.643Z"
   },
   {
    "duration": 16,
    "start_time": "2022-08-16T14:42:56.598Z"
   },
   {
    "duration": 15,
    "start_time": "2022-08-16T14:43:02.258Z"
   },
   {
    "duration": 14,
    "start_time": "2022-08-16T14:43:05.866Z"
   },
   {
    "duration": 17,
    "start_time": "2022-08-16T14:44:09.062Z"
   },
   {
    "duration": 47,
    "start_time": "2022-08-18T09:07:39.142Z"
   },
   {
    "duration": 7,
    "start_time": "2022-08-18T09:08:07.641Z"
   },
   {
    "duration": 1043,
    "start_time": "2022-08-18T09:08:26.925Z"
   },
   {
    "duration": 22,
    "start_time": "2022-08-18T09:08:27.970Z"
   },
   {
    "duration": 35,
    "start_time": "2022-08-18T09:08:27.994Z"
   },
   {
    "duration": 15,
    "start_time": "2022-08-18T09:08:28.031Z"
   },
   {
    "duration": 52,
    "start_time": "2022-08-18T09:08:28.048Z"
   },
   {
    "duration": 4,
    "start_time": "2022-08-18T09:08:28.102Z"
   },
   {
    "duration": 38,
    "start_time": "2022-08-18T09:08:28.107Z"
   },
   {
    "duration": 16,
    "start_time": "2022-08-18T09:08:28.147Z"
   },
   {
    "duration": 24,
    "start_time": "2022-08-18T09:08:28.165Z"
   },
   {
    "duration": 21,
    "start_time": "2022-08-18T09:08:28.193Z"
   },
   {
    "duration": 54,
    "start_time": "2022-08-18T09:08:28.216Z"
   },
   {
    "duration": 10,
    "start_time": "2022-08-18T09:08:28.272Z"
   },
   {
    "duration": 27,
    "start_time": "2022-08-18T09:08:28.284Z"
   },
   {
    "duration": 46,
    "start_time": "2022-08-18T09:08:28.313Z"
   },
   {
    "duration": 49,
    "start_time": "2022-08-18T09:08:28.360Z"
   },
   {
    "duration": 23,
    "start_time": "2022-08-18T09:08:28.411Z"
   },
   {
    "duration": 15,
    "start_time": "2022-08-18T09:08:28.435Z"
   },
   {
    "duration": 26,
    "start_time": "2022-08-18T09:08:28.452Z"
   },
   {
    "duration": 41,
    "start_time": "2022-08-18T09:08:28.480Z"
   },
   {
    "duration": 17,
    "start_time": "2022-08-18T09:08:28.523Z"
   },
   {
    "duration": 40,
    "start_time": "2022-08-18T09:08:28.542Z"
   },
   {
    "duration": 137,
    "start_time": "2022-08-18T09:08:28.584Z"
   },
   {
    "duration": 0,
    "start_time": "2022-08-18T09:08:28.722Z"
   },
   {
    "duration": 0,
    "start_time": "2022-08-18T09:08:28.724Z"
   },
   {
    "duration": 0,
    "start_time": "2022-08-18T09:08:28.725Z"
   },
   {
    "duration": 17,
    "start_time": "2022-08-18T09:08:35.621Z"
   },
   {
    "duration": 24,
    "start_time": "2022-08-18T09:09:01.776Z"
   },
   {
    "duration": 82,
    "start_time": "2022-08-18T09:11:41.399Z"
   },
   {
    "duration": 70,
    "start_time": "2022-08-18T09:11:59.720Z"
   },
   {
    "duration": 18,
    "start_time": "2022-08-18T09:12:18.011Z"
   },
   {
    "duration": 14,
    "start_time": "2022-08-18T09:17:41.852Z"
   },
   {
    "duration": 24,
    "start_time": "2022-08-18T09:20:10.080Z"
   },
   {
    "duration": 19,
    "start_time": "2022-08-18T09:20:20.648Z"
   },
   {
    "duration": 9,
    "start_time": "2022-08-18T09:21:40.671Z"
   },
   {
    "duration": 18,
    "start_time": "2022-08-18T09:22:03.330Z"
   },
   {
    "duration": 25,
    "start_time": "2022-08-18T09:22:23.829Z"
   },
   {
    "duration": 20,
    "start_time": "2022-08-18T09:22:45.903Z"
   },
   {
    "duration": 19,
    "start_time": "2022-08-18T09:22:54.736Z"
   },
   {
    "duration": 36,
    "start_time": "2022-08-18T09:24:57.687Z"
   },
   {
    "duration": 20,
    "start_time": "2022-08-18T09:28:30.306Z"
   },
   {
    "duration": 8,
    "start_time": "2022-08-18T09:28:58.055Z"
   },
   {
    "duration": 17,
    "start_time": "2022-08-18T09:32:36.909Z"
   },
   {
    "duration": 18,
    "start_time": "2022-08-18T09:33:26.535Z"
   },
   {
    "duration": 37,
    "start_time": "2022-08-18T09:34:35.463Z"
   },
   {
    "duration": 34,
    "start_time": "2022-08-18T09:35:41.009Z"
   },
   {
    "duration": 55,
    "start_time": "2022-08-18T09:38:31.072Z"
   },
   {
    "duration": 3,
    "start_time": "2022-08-18T09:40:25.626Z"
   },
   {
    "duration": 487,
    "start_time": "2022-08-18T09:40:33.312Z"
   },
   {
    "duration": 38,
    "start_time": "2022-08-18T09:40:33.802Z"
   },
   {
    "duration": 15,
    "start_time": "2022-08-18T09:40:33.841Z"
   },
   {
    "duration": 9,
    "start_time": "2022-08-18T09:40:33.857Z"
   },
   {
    "duration": 63,
    "start_time": "2022-08-18T09:40:33.868Z"
   },
   {
    "duration": 3,
    "start_time": "2022-08-18T09:40:33.933Z"
   },
   {
    "duration": 13,
    "start_time": "2022-08-18T09:40:33.938Z"
   },
   {
    "duration": 7,
    "start_time": "2022-08-18T09:40:33.952Z"
   },
   {
    "duration": 28,
    "start_time": "2022-08-18T09:40:33.961Z"
   },
   {
    "duration": 11,
    "start_time": "2022-08-18T09:40:34.001Z"
   },
   {
    "duration": 46,
    "start_time": "2022-08-18T09:40:34.015Z"
   },
   {
    "duration": 10,
    "start_time": "2022-08-18T09:40:34.062Z"
   },
   {
    "duration": 16,
    "start_time": "2022-08-18T09:40:34.074Z"
   },
   {
    "duration": 35,
    "start_time": "2022-08-18T09:40:34.093Z"
   },
   {
    "duration": 20,
    "start_time": "2022-08-18T09:40:34.129Z"
   },
   {
    "duration": 15,
    "start_time": "2022-08-18T09:40:34.151Z"
   },
   {
    "duration": 4,
    "start_time": "2022-08-18T09:40:34.167Z"
   },
   {
    "duration": 14,
    "start_time": "2022-08-18T09:40:34.172Z"
   },
   {
    "duration": 33,
    "start_time": "2022-08-18T09:40:34.188Z"
   },
   {
    "duration": 4,
    "start_time": "2022-08-18T09:40:34.223Z"
   },
   {
    "duration": 11,
    "start_time": "2022-08-18T09:40:34.228Z"
   },
   {
    "duration": 21,
    "start_time": "2022-08-18T09:40:34.240Z"
   },
   {
    "duration": 23,
    "start_time": "2022-08-18T09:40:34.262Z"
   },
   {
    "duration": 45,
    "start_time": "2022-08-18T09:40:34.289Z"
   },
   {
    "duration": 30,
    "start_time": "2022-08-18T09:41:51.565Z"
   },
   {
    "duration": 27,
    "start_time": "2022-08-18T09:43:00.140Z"
   },
   {
    "duration": 1461,
    "start_time": "2022-08-18T10:19:05.818Z"
   },
   {
    "duration": 155,
    "start_time": "2022-08-18T10:22:46.844Z"
   },
   {
    "duration": 310,
    "start_time": "2022-08-18T10:22:55.734Z"
   },
   {
    "duration": 36,
    "start_time": "2022-08-18T10:29:37.099Z"
   },
   {
    "duration": 26,
    "start_time": "2022-08-18T10:29:50.366Z"
   },
   {
    "duration": 39,
    "start_time": "2022-08-18T10:30:02.217Z"
   },
   {
    "duration": 53,
    "start_time": "2022-08-18T10:30:14.214Z"
   },
   {
    "duration": 28,
    "start_time": "2022-08-18T10:30:29.850Z"
   },
   {
    "duration": 26,
    "start_time": "2022-08-18T10:30:39.708Z"
   },
   {
    "duration": 313,
    "start_time": "2022-08-18T10:30:56.774Z"
   },
   {
    "duration": 174,
    "start_time": "2022-08-18T10:32:41.553Z"
   },
   {
    "duration": 307,
    "start_time": "2022-08-18T10:33:00.631Z"
   },
   {
    "duration": 132,
    "start_time": "2022-08-18T10:33:10.364Z"
   },
   {
    "duration": 26,
    "start_time": "2022-08-18T10:33:33.193Z"
   },
   {
    "duration": 253,
    "start_time": "2022-08-18T10:33:44.403Z"
   },
   {
    "duration": 130,
    "start_time": "2022-08-18T10:34:22.625Z"
   },
   {
    "duration": 356,
    "start_time": "2022-08-18T10:34:33.761Z"
   },
   {
    "duration": 406,
    "start_time": "2022-08-18T10:35:32.443Z"
   },
   {
    "duration": 394,
    "start_time": "2022-08-18T10:36:49.076Z"
   },
   {
    "duration": 318,
    "start_time": "2022-08-18T10:37:53.574Z"
   },
   {
    "duration": 519,
    "start_time": "2022-08-18T10:38:11.381Z"
   },
   {
    "duration": 24,
    "start_time": "2022-08-18T10:38:11.902Z"
   },
   {
    "duration": 23,
    "start_time": "2022-08-18T10:38:11.928Z"
   },
   {
    "duration": 34,
    "start_time": "2022-08-18T10:38:11.954Z"
   },
   {
    "duration": 53,
    "start_time": "2022-08-18T10:38:11.990Z"
   },
   {
    "duration": 5,
    "start_time": "2022-08-18T10:38:12.045Z"
   },
   {
    "duration": 12,
    "start_time": "2022-08-18T10:38:12.051Z"
   },
   {
    "duration": 23,
    "start_time": "2022-08-18T10:38:12.065Z"
   },
   {
    "duration": 9,
    "start_time": "2022-08-18T10:38:12.090Z"
   },
   {
    "duration": 4,
    "start_time": "2022-08-18T10:38:12.103Z"
   },
   {
    "duration": 36,
    "start_time": "2022-08-18T10:38:12.108Z"
   },
   {
    "duration": 10,
    "start_time": "2022-08-18T10:38:12.145Z"
   },
   {
    "duration": 33,
    "start_time": "2022-08-18T10:38:12.156Z"
   },
   {
    "duration": 14,
    "start_time": "2022-08-18T10:38:12.190Z"
   },
   {
    "duration": 23,
    "start_time": "2022-08-18T10:38:12.206Z"
   },
   {
    "duration": 17,
    "start_time": "2022-08-18T10:38:12.230Z"
   },
   {
    "duration": 3,
    "start_time": "2022-08-18T10:38:12.249Z"
   },
   {
    "duration": 38,
    "start_time": "2022-08-18T10:38:12.254Z"
   },
   {
    "duration": 9,
    "start_time": "2022-08-18T10:38:12.293Z"
   },
   {
    "duration": 6,
    "start_time": "2022-08-18T10:38:12.304Z"
   },
   {
    "duration": 14,
    "start_time": "2022-08-18T10:38:12.312Z"
   },
   {
    "duration": 1160,
    "start_time": "2022-08-18T10:38:12.328Z"
   },
   {
    "duration": 421,
    "start_time": "2022-08-18T10:38:13.490Z"
   },
   {
    "duration": 380,
    "start_time": "2022-08-18T10:38:13.913Z"
   },
   {
    "duration": 336,
    "start_time": "2022-08-18T10:38:14.295Z"
   },
   {
    "duration": 64,
    "start_time": "2022-08-20T10:55:05.298Z"
   },
   {
    "duration": 709,
    "start_time": "2022-08-20T10:55:16.033Z"
   },
   {
    "duration": 21,
    "start_time": "2022-08-20T10:55:16.744Z"
   },
   {
    "duration": 15,
    "start_time": "2022-08-20T10:55:16.767Z"
   },
   {
    "duration": 8,
    "start_time": "2022-08-20T10:55:16.784Z"
   },
   {
    "duration": 32,
    "start_time": "2022-08-20T10:55:16.794Z"
   },
   {
    "duration": 4,
    "start_time": "2022-08-20T10:55:16.827Z"
   },
   {
    "duration": 7,
    "start_time": "2022-08-20T10:55:16.857Z"
   },
   {
    "duration": 4,
    "start_time": "2022-08-20T10:55:16.865Z"
   },
   {
    "duration": 8,
    "start_time": "2022-08-20T10:55:16.870Z"
   },
   {
    "duration": 4,
    "start_time": "2022-08-20T10:55:16.880Z"
   },
   {
    "duration": 31,
    "start_time": "2022-08-20T10:55:16.885Z"
   },
   {
    "duration": 8,
    "start_time": "2022-08-20T10:55:16.917Z"
   },
   {
    "duration": 33,
    "start_time": "2022-08-20T10:55:16.926Z"
   },
   {
    "duration": 12,
    "start_time": "2022-08-20T10:55:16.960Z"
   },
   {
    "duration": 16,
    "start_time": "2022-08-20T10:55:16.974Z"
   },
   {
    "duration": 14,
    "start_time": "2022-08-20T10:55:16.992Z"
   },
   {
    "duration": 3,
    "start_time": "2022-08-20T10:55:17.008Z"
   },
   {
    "duration": 14,
    "start_time": "2022-08-20T10:55:17.012Z"
   },
   {
    "duration": 31,
    "start_time": "2022-08-20T10:55:17.027Z"
   },
   {
    "duration": 3,
    "start_time": "2022-08-20T10:55:17.060Z"
   },
   {
    "duration": 12,
    "start_time": "2022-08-20T10:55:17.065Z"
   },
   {
    "duration": 1155,
    "start_time": "2022-08-20T10:55:17.078Z"
   },
   {
    "duration": 403,
    "start_time": "2022-08-20T10:55:18.235Z"
   },
   {
    "duration": 0,
    "start_time": "2022-08-20T10:55:18.640Z"
   },
   {
    "duration": 0,
    "start_time": "2022-08-20T10:55:18.641Z"
   },
   {
    "duration": 427,
    "start_time": "2022-08-20T10:55:37.183Z"
   },
   {
    "duration": 20,
    "start_time": "2022-08-20T10:55:37.612Z"
   },
   {
    "duration": 14,
    "start_time": "2022-08-20T10:55:37.633Z"
   },
   {
    "duration": 15,
    "start_time": "2022-08-20T10:55:37.648Z"
   },
   {
    "duration": 29,
    "start_time": "2022-08-20T10:55:37.665Z"
   },
   {
    "duration": 3,
    "start_time": "2022-08-20T10:55:37.696Z"
   },
   {
    "duration": 11,
    "start_time": "2022-08-20T10:55:37.700Z"
   },
   {
    "duration": 4,
    "start_time": "2022-08-20T10:55:37.712Z"
   },
   {
    "duration": 10,
    "start_time": "2022-08-20T10:55:37.717Z"
   },
   {
    "duration": 4,
    "start_time": "2022-08-20T10:55:37.729Z"
   },
   {
    "duration": 31,
    "start_time": "2022-08-20T10:55:37.756Z"
   },
   {
    "duration": 8,
    "start_time": "2022-08-20T10:55:37.789Z"
   },
   {
    "duration": 6,
    "start_time": "2022-08-20T10:55:37.798Z"
   },
   {
    "duration": 12,
    "start_time": "2022-08-20T10:55:37.805Z"
   },
   {
    "duration": 42,
    "start_time": "2022-08-20T10:55:37.819Z"
   },
   {
    "duration": 16,
    "start_time": "2022-08-20T10:55:37.862Z"
   },
   {
    "duration": 4,
    "start_time": "2022-08-20T10:55:37.879Z"
   },
   {
    "duration": 10,
    "start_time": "2022-08-20T10:55:37.885Z"
   },
   {
    "duration": 5,
    "start_time": "2022-08-20T10:55:37.897Z"
   },
   {
    "duration": 5,
    "start_time": "2022-08-20T10:55:37.903Z"
   },
   {
    "duration": 9,
    "start_time": "2022-08-20T10:55:37.909Z"
   },
   {
    "duration": 1050,
    "start_time": "2022-08-20T10:55:37.919Z"
   },
   {
    "duration": 411,
    "start_time": "2022-08-20T10:55:38.971Z"
   },
   {
    "duration": 0,
    "start_time": "2022-08-20T10:55:39.385Z"
   },
   {
    "duration": 0,
    "start_time": "2022-08-20T10:55:39.386Z"
   },
   {
    "duration": 357,
    "start_time": "2022-08-20T10:57:02.375Z"
   },
   {
    "duration": 321,
    "start_time": "2022-08-20T10:57:44.200Z"
   },
   {
    "duration": 359,
    "start_time": "2022-08-20T10:57:54.910Z"
   },
   {
    "duration": 345,
    "start_time": "2022-08-20T10:58:00.217Z"
   },
   {
    "duration": 372,
    "start_time": "2022-08-20T10:58:17.991Z"
   },
   {
    "duration": 343,
    "start_time": "2022-08-20T10:59:13.911Z"
   },
   {
    "duration": 336,
    "start_time": "2022-08-20T10:59:26.416Z"
   },
   {
    "duration": 393,
    "start_time": "2022-08-20T10:59:42.451Z"
   },
   {
    "duration": 343,
    "start_time": "2022-08-20T11:00:15.700Z"
   },
   {
    "duration": 339,
    "start_time": "2022-08-20T11:00:44.934Z"
   },
   {
    "duration": 360,
    "start_time": "2022-08-20T11:01:13.026Z"
   },
   {
    "duration": 318,
    "start_time": "2022-08-20T11:01:27.731Z"
   }
  ],
  "colab": {
   "name": "dpp_template_part2.ipynb",
   "provenance": []
  },
  "kernelspec": {
   "display_name": "Python 3 (ipykernel)",
   "language": "python",
   "name": "python3"
  },
  "language_info": {
   "codemirror_mode": {
    "name": "ipython",
    "version": 3
   },
   "file_extension": ".py",
   "mimetype": "text/x-python",
   "name": "python",
   "nbconvert_exporter": "python",
   "pygments_lexer": "ipython3",
   "version": "3.10.7"
  },
  "toc": {
   "base_numbering": 1,
   "nav_menu": {},
   "number_sections": true,
   "sideBar": true,
   "skip_h1_title": true,
   "title_cell": "Table of Contents",
   "title_sidebar": "Contents",
   "toc_cell": false,
   "toc_position": {},
   "toc_section_display": true,
   "toc_window_display": false
  }
 },
 "nbformat": 4,
 "nbformat_minor": 5
}
